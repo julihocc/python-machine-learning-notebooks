{
  "nbformat": 4,
  "nbformat_minor": 0,
  "metadata": {
    "colab": {
      "provenance": [],
      "authorship_tag": "ABX9TyOTfWj3/H3qvh6Stq0ifpQL",
      "include_colab_link": true
    },
    "kernelspec": {
      "name": "python3",
      "display_name": "Python 3"
    },
    "language_info": {
      "name": "python"
    }
  },
  "cells": [
    {
      "cell_type": "markdown",
      "metadata": {
        "id": "view-in-github",
        "colab_type": "text"
      },
      "source": [
        "<a href=\"https://colab.research.google.com/github/julihocc/python-machine-learning-notebooks/blob/main/argumentos_funciones.ipynb\" target=\"_parent\"><img src=\"https://colab.research.google.com/assets/colab-badge.svg\" alt=\"Open In Colab\"/></a>"
      ]
    },
    {
      "cell_type": "code",
      "source": [
        "def suma(a,b):\n",
        "  return a+b"
      ],
      "metadata": {
        "id": "8lvvgdW5fGNW"
      },
      "execution_count": null,
      "outputs": []
    },
    {
      "cell_type": "code",
      "source": [
        "suma(1, 0)"
      ],
      "metadata": {
        "colab": {
          "base_uri": "https://localhost:8080/"
        },
        "id": "-1MN1jwZfSG1",
        "outputId": "f51d9893-e367-4e92-9838-69d68b0bc612"
      },
      "execution_count": null,
      "outputs": [
        {
          "output_type": "execute_result",
          "data": {
            "text/plain": [
              "1"
            ]
          },
          "metadata": {},
          "execution_count": 55
        }
      ]
    },
    {
      "cell_type": "code",
      "source": [
        "suma(\"x\", \"y\")"
      ],
      "metadata": {
        "colab": {
          "base_uri": "https://localhost:8080/",
          "height": 35
        },
        "id": "rT4_20JYfXB6",
        "outputId": "ef8219de-0e55-4771-b4a0-9914c0ee1595"
      },
      "execution_count": null,
      "outputs": [
        {
          "output_type": "execute_result",
          "data": {
            "text/plain": [
              "'xy'"
            ],
            "application/vnd.google.colaboratory.intrinsic+json": {
              "type": "string"
            }
          },
          "metadata": {},
          "execution_count": 56
        }
      ]
    },
    {
      "cell_type": "code",
      "source": [
        "try:\n",
        "  suma(\"q\", 1)\n",
        "except:\n",
        "  print(\"error: no podemos sumar un caracter con un entero\")"
      ],
      "metadata": {
        "colab": {
          "base_uri": "https://localhost:8080/"
        },
        "id": "K9wqD7j1fe5T",
        "outputId": "ecef0fae-5c34-47dd-da77-d5681adaa147"
      },
      "execution_count": null,
      "outputs": [
        {
          "output_type": "stream",
          "name": "stdout",
          "text": [
            "error: no podemos sumar un caracter con un entero\n"
          ]
        }
      ]
    },
    {
      "cell_type": "code",
      "source": [
        "try:\n",
        "  suma(1,2,3)\n",
        "except:\n",
        "  print(\"error: la suma toma dos argumentos\")"
      ],
      "metadata": {
        "colab": {
          "base_uri": "https://localhost:8080/"
        },
        "id": "mviBg60XfpOj",
        "outputId": "13708073-96ed-4522-8088-ad966986a3d7"
      },
      "execution_count": null,
      "outputs": [
        {
          "output_type": "stream",
          "name": "stdout",
          "text": [
            "error: la suma toma dos argumentos\n"
          ]
        }
      ]
    },
    {
      "cell_type": "code",
      "source": [
        "def suma(a,b,c):\n",
        "  return a+b+c"
      ],
      "metadata": {
        "id": "UQrq-C-Ff3b8"
      },
      "execution_count": null,
      "outputs": []
    },
    {
      "cell_type": "code",
      "source": [
        "suma(1,2,3)"
      ],
      "metadata": {
        "colab": {
          "base_uri": "https://localhost:8080/"
        },
        "id": "ml9Qd1dNf6Wg",
        "outputId": "15d91ec6-5534-48d5-be61-d3482420e5ae"
      },
      "execution_count": null,
      "outputs": [
        {
          "output_type": "execute_result",
          "data": {
            "text/plain": [
              "6"
            ]
          },
          "metadata": {},
          "execution_count": 60
        }
      ]
    },
    {
      "cell_type": "code",
      "source": [
        "try:\n",
        "  suma(1,2)\n",
        "except:\n",
        "  print(\"error: ahora la suma debe tomar tres argumentos\")"
      ],
      "metadata": {
        "colab": {
          "base_uri": "https://localhost:8080/"
        },
        "id": "wVT7R4KHf8Dc",
        "outputId": "a18898a7-2fb5-4f2e-c251-e3ebdedf6b23"
      },
      "execution_count": null,
      "outputs": [
        {
          "output_type": "stream",
          "name": "stdout",
          "text": [
            "error: ahora la suma debe tomar tres argumentos\n"
          ]
        }
      ]
    },
    {
      "cell_type": "code",
      "source": [
        "direccion = [\"Calle del Olmo\", 123, \"00001\"]\n",
        "cliente = [\"Juan Hernandez\", 25, direccion]\n",
        "\n",
        "for dato in cliente:\n",
        "  print(dato)"
      ],
      "metadata": {
        "colab": {
          "base_uri": "https://localhost:8080/"
        },
        "id": "SY85L4WGgND8",
        "outputId": "bd6c8c50-b6a3-4635-9989-4de8648bf234"
      },
      "execution_count": null,
      "outputs": [
        {
          "output_type": "stream",
          "name": "stdout",
          "text": [
            "Juan Hernandez\n",
            "25\n",
            "['Calle del Olmo', 123, '00001']\n"
          ]
        }
      ]
    },
    {
      "cell_type": "code",
      "source": [
        "numeros = [1,2,3,4]\n",
        "acumulador = 0\n",
        "for numero in numeros:\n",
        "  acumulador = acumulador + numero\n",
        "print(acumulador)"
      ],
      "metadata": {
        "colab": {
          "base_uri": "https://localhost:8080/"
        },
        "id": "wrQxg7sPhAPh",
        "outputId": "7ceb06b8-03f0-486e-df20-067d36e50905"
      },
      "execution_count": null,
      "outputs": [
        {
          "output_type": "stream",
          "name": "stdout",
          "text": [
            "10\n"
          ]
        }
      ]
    },
    {
      "cell_type": "code",
      "source": [
        "def suma(numeros):\n",
        "  acumulador = 0\n",
        "  for numero in numeros:\n",
        "    acumulador = acumulador + numero\n",
        "  return acumulador"
      ],
      "metadata": {
        "id": "od1zIjmJhQVP"
      },
      "execution_count": null,
      "outputs": []
    },
    {
      "cell_type": "code",
      "source": [
        "suma([1,2,3,4])"
      ],
      "metadata": {
        "colab": {
          "base_uri": "https://localhost:8080/"
        },
        "id": "6t4RQF6MhciG",
        "outputId": "634f8f53-88c8-472c-f861-53079a349ec5"
      },
      "execution_count": null,
      "outputs": [
        {
          "output_type": "execute_result",
          "data": {
            "text/plain": [
              "10"
            ]
          },
          "metadata": {},
          "execution_count": 65
        }
      ]
    },
    {
      "cell_type": "code",
      "source": [
        "try:\n",
        "  suma(1,2,3,4)\n",
        "except:\n",
        "  print(\"error: ahora la suma debe tomar una lista de numeros\")"
      ],
      "metadata": {
        "colab": {
          "base_uri": "https://localhost:8080/"
        },
        "id": "NqNhvRs1hegY",
        "outputId": "828d3e1f-44da-4352-f72a-e70b4aa2ef9e"
      },
      "execution_count": null,
      "outputs": [
        {
          "output_type": "stream",
          "name": "stdout",
          "text": [
            "error: ahora la suma debe tomar una lista de numeros\n"
          ]
        }
      ]
    },
    {
      "cell_type": "code",
      "source": [
        "def suma(*numeros):\n",
        "  acumulador = 0\n",
        "  for numero in numeros:\n",
        "    acumulador = acumulador + numero\n",
        "  return acumulador"
      ],
      "metadata": {
        "id": "YA_6upPthzME"
      },
      "execution_count": null,
      "outputs": []
    },
    {
      "cell_type": "code",
      "source": [
        "suma(1,2,3,4)"
      ],
      "metadata": {
        "colab": {
          "base_uri": "https://localhost:8080/"
        },
        "id": "4ozRqUAKiT4-",
        "outputId": "6a90c159-b3ed-45a3-ff44-16cb77d63280"
      },
      "execution_count": null,
      "outputs": [
        {
          "output_type": "execute_result",
          "data": {
            "text/plain": [
              "10"
            ]
          },
          "metadata": {},
          "execution_count": 68
        }
      ]
    },
    {
      "cell_type": "code",
      "source": [
        "suma(1,2,3,4,5)"
      ],
      "metadata": {
        "colab": {
          "base_uri": "https://localhost:8080/"
        },
        "id": "McRYwDuiiIsZ",
        "outputId": "f4351348-50c4-40f5-9628-cc4c47d462b4"
      },
      "execution_count": null,
      "outputs": [
        {
          "output_type": "execute_result",
          "data": {
            "text/plain": [
              "15"
            ]
          },
          "metadata": {},
          "execution_count": 69
        }
      ]
    },
    {
      "cell_type": "code",
      "source": [
        "# direccion = [\"Calle del Olmo\", 123, \"00001\"]\n",
        "# cliente = [\"Juan Hernandez\", 25, [\"Calle del Olmo\", 123, \"00001\"]]"
      ],
      "metadata": {
        "id": "bSW1zoiDimSv"
      },
      "execution_count": null,
      "outputs": []
    },
    {
      "cell_type": "code",
      "source": [
        "cliente = {\n",
        "    \"nombre\": \"Juan Hernandez\",\n",
        "    \"edad(años)\": 25,\n",
        "    \"dirección\":  {\n",
        "        \"calle\": \"Calle del Olmo\",\n",
        "        \"número\": 123,\n",
        "        \"cp\": \"00001\"\n",
        "    }\n",
        "}"
      ],
      "metadata": {
        "id": "xiJ0zF1Zizg9"
      },
      "execution_count": null,
      "outputs": []
    },
    {
      "cell_type": "code",
      "source": [
        "for elemento in cliente:\n",
        "  print(elemento)"
      ],
      "metadata": {
        "colab": {
          "base_uri": "https://localhost:8080/"
        },
        "id": "hxEO_uB9jP4p",
        "outputId": "b72894a1-c477-4594-e88a-e56b3979456d"
      },
      "execution_count": null,
      "outputs": [
        {
          "output_type": "stream",
          "name": "stdout",
          "text": [
            "nombre\n",
            "edad(años)\n",
            "dirección\n"
          ]
        }
      ]
    },
    {
      "cell_type": "code",
      "source": [
        "cliente[\"nombre\"]"
      ],
      "metadata": {
        "colab": {
          "base_uri": "https://localhost:8080/",
          "height": 35
        },
        "id": "Lpbs2T46jjWe",
        "outputId": "efddf35c-a301-4bc3-e01f-f85f2561a21e"
      },
      "execution_count": null,
      "outputs": [
        {
          "output_type": "execute_result",
          "data": {
            "text/plain": [
              "'Juan Hernandez'"
            ],
            "application/vnd.google.colaboratory.intrinsic+json": {
              "type": "string"
            }
          },
          "metadata": {},
          "execution_count": 73
        }
      ]
    },
    {
      "cell_type": "code",
      "source": [
        "cliente[\"edad(años)\"]"
      ],
      "metadata": {
        "colab": {
          "base_uri": "https://localhost:8080/"
        },
        "id": "C1W9dwcXjmct",
        "outputId": "74ab7e61-be67-479d-fa58-d4ee405294f0"
      },
      "execution_count": null,
      "outputs": [
        {
          "output_type": "execute_result",
          "data": {
            "text/plain": [
              "25"
            ]
          },
          "metadata": {},
          "execution_count": 74
        }
      ]
    },
    {
      "cell_type": "code",
      "source": [
        "cliente[\"dirección\"]"
      ],
      "metadata": {
        "colab": {
          "base_uri": "https://localhost:8080/"
        },
        "id": "3MYJ0dGyjplW",
        "outputId": "0e65f2a5-16cd-406d-dc7e-900fbb473359"
      },
      "execution_count": null,
      "outputs": [
        {
          "output_type": "execute_result",
          "data": {
            "text/plain": [
              "{'calle': 'Calle del Olmo', 'numero': 123, 'cp': '00001'}"
            ]
          },
          "metadata": {},
          "execution_count": 75
        }
      ]
    },
    {
      "cell_type": "code",
      "source": [
        "for elemento in cliente[\"dirección\"]:\n",
        "  print(elemento, cliente[\"dirección\"][elemento])"
      ],
      "metadata": {
        "colab": {
          "base_uri": "https://localhost:8080/"
        },
        "id": "7Rgq1kKzjstY",
        "outputId": "a1f20cb4-faf6-43bf-b63c-b69f4654f5d8"
      },
      "execution_count": null,
      "outputs": [
        {
          "output_type": "stream",
          "name": "stdout",
          "text": [
            "calle Calle del Olmo\n",
            "numero 123\n",
            "cp 00001\n"
          ]
        }
      ]
    },
    {
      "cell_type": "code",
      "source": [
        "for elemento in cliente:\n",
        "  print(elemento, cliente[elemento])"
      ],
      "metadata": {
        "colab": {
          "base_uri": "https://localhost:8080/"
        },
        "id": "8RM2tgDwjddg",
        "outputId": "18be48ee-db09-486c-99d7-036ca74eec2f"
      },
      "execution_count": null,
      "outputs": [
        {
          "output_type": "stream",
          "name": "stdout",
          "text": [
            "nombre Juan Hernandez\n",
            "edad(años) 25\n",
            "dirección {'calle': 'Calle del Olmo', 'numero': 123, 'cp': '00001'}\n"
          ]
        }
      ]
    },
    {
      "cell_type": "code",
      "source": [
        "for elementos in cliente.keys():\n",
        "  print(elementos)"
      ],
      "metadata": {
        "colab": {
          "base_uri": "https://localhost:8080/"
        },
        "id": "faAlFxpZj12x",
        "outputId": "31c42da7-c2a9-4265-8812-fda3b60e8fa0"
      },
      "execution_count": null,
      "outputs": [
        {
          "output_type": "stream",
          "name": "stdout",
          "text": [
            "nombre\n",
            "edad(años)\n",
            "dirección\n"
          ]
        }
      ]
    },
    {
      "cell_type": "code",
      "source": [
        "for elementos in cliente.values():\n",
        "  print(elementos)"
      ],
      "metadata": {
        "colab": {
          "base_uri": "https://localhost:8080/"
        },
        "id": "WzxwGg8yj7p-",
        "outputId": "3134620e-ae5d-40ec-f5f9-e736d25cb77b"
      },
      "execution_count": null,
      "outputs": [
        {
          "output_type": "stream",
          "name": "stdout",
          "text": [
            "Juan Hernandez\n",
            "25\n",
            "{'calle': 'Calle del Olmo', 'numero': 123, 'cp': '00001'}\n"
          ]
        }
      ]
    },
    {
      "cell_type": "code",
      "source": [
        "for elemento in cliente.items():\n",
        "  print(elemento)"
      ],
      "metadata": {
        "colab": {
          "base_uri": "https://localhost:8080/"
        },
        "id": "mKNOKQd3j-v9",
        "outputId": "62e81394-ef24-4f9d-a063-17fd23e02c6b"
      },
      "execution_count": null,
      "outputs": [
        {
          "output_type": "stream",
          "name": "stdout",
          "text": [
            "('nombre', 'Juan Hernandez')\n",
            "('edad(años)', 25)\n",
            "('dirección', {'calle': 'Calle del Olmo', 'numero': 123, 'cp': '00001'})\n"
          ]
        }
      ]
    },
    {
      "cell_type": "code",
      "source": [
        "for clave, valor in cliente.items():\n",
        "  print(clave.capitalize(),\":\",valor )"
      ],
      "metadata": {
        "colab": {
          "base_uri": "https://localhost:8080/"
        },
        "id": "f7Z13Q6CkEbw",
        "outputId": "35740ebe-b884-45c5-d01c-1cd00a4bb780"
      },
      "execution_count": null,
      "outputs": [
        {
          "output_type": "stream",
          "name": "stdout",
          "text": [
            "Nombre : Juan Hernandez\n",
            "Edad(años) : 25\n",
            "Dirección : {'calle': 'Calle del Olmo', 'numero': 123, 'cp': '00001'}\n"
          ]
        }
      ]
    },
    {
      "cell_type": "code",
      "source": [
        "data = {\n",
        "  \"first_name\": \"John\",\n",
        "  \"last_name\": \"Smith\",\n",
        "  \"is_alive\": True,\n",
        "  \"age\": 27,\n",
        "  \"address\": {\n",
        "    \"street_address\": \"21 2nd Street\",\n",
        "    \"city\": \"New York\",\n",
        "    \"state\": \"NY\",\n",
        "    \"postal_code\": \"10021-3100\"\n",
        "  },\n",
        "  \"phone_numbers\": [\n",
        "    {\n",
        "      \"type\": \"home\",\n",
        "      \"number\": \"212 555-1234\"\n",
        "    },\n",
        "    {\n",
        "      \"type\": \"office\",\n",
        "      \"number\": \"646 555-4567\"\n",
        "    }\n",
        "  ],\n",
        "  \"children\": [\n",
        "    \"Catherine\",\n",
        "    \"Thomas\",\n",
        "    \"Trevor\"\n",
        "  ],\n",
        "  \"spouse\": None\n",
        "}"
      ],
      "metadata": {
        "id": "ErkQco0Skskn"
      },
      "execution_count": null,
      "outputs": []
    },
    {
      "cell_type": "code",
      "source": [
        "for clave, valor in data.items():\n",
        "  print(clave.capitalize(),\":\",valor )"
      ],
      "metadata": {
        "colab": {
          "base_uri": "https://localhost:8080/"
        },
        "id": "JdAx9vBqk53Z",
        "outputId": "47610b12-5036-4b5c-ac7c-d2b84af73c2b"
      },
      "execution_count": null,
      "outputs": [
        {
          "output_type": "stream",
          "name": "stdout",
          "text": [
            "First_name : John\n",
            "Last_name : Smith\n",
            "Is_alive : True\n",
            "Age : 27\n",
            "Address : {'street_address': '21 2nd Street', 'city': 'New York', 'state': 'NY', 'postal_code': '10021-3100'}\n",
            "Phone_numbers : [{'type': 'home', 'number': '212 555-1234'}, {'type': 'office', 'number': '646 555-4567'}]\n",
            "Children : ['Catherine', 'Thomas', 'Trevor']\n",
            "Spouse : None\n"
          ]
        }
      ]
    },
    {
      "cell_type": "code",
      "source": [
        "def suma(a,b, c=1,d=1):\n",
        "  return c*a + d*b"
      ],
      "metadata": {
        "id": "jsN1BWecl_rg"
      },
      "execution_count": null,
      "outputs": []
    },
    {
      "cell_type": "code",
      "source": [
        "suma(2,3)"
      ],
      "metadata": {
        "colab": {
          "base_uri": "https://localhost:8080/"
        },
        "id": "educmMSdmJ7y",
        "outputId": "63e75ef7-4cba-4b40-aaba-c1fcebe49d56"
      },
      "execution_count": null,
      "outputs": [
        {
          "output_type": "execute_result",
          "data": {
            "text/plain": [
              "5"
            ]
          },
          "metadata": {},
          "execution_count": 90
        }
      ]
    },
    {
      "cell_type": "code",
      "source": [
        "help(print)"
      ],
      "metadata": {
        "colab": {
          "base_uri": "https://localhost:8080/"
        },
        "id": "cAP_fOwRmUFo",
        "outputId": "039cb686-9189-40a0-9dd8-1336ffe43f31"
      },
      "execution_count": null,
      "outputs": [
        {
          "output_type": "stream",
          "name": "stdout",
          "text": [
            "Help on built-in function print in module builtins:\n",
            "\n",
            "print(...)\n",
            "    print(value, ..., sep=' ', end='\\n', file=sys.stdout, flush=False)\n",
            "    \n",
            "    Prints the values to a stream, or to sys.stdout by default.\n",
            "    Optional keyword arguments:\n",
            "    file:  a file-like object (stream); defaults to the current sys.stdout.\n",
            "    sep:   string inserted between values, default a space.\n",
            "    end:   string appended after the last value, default a newline.\n",
            "    flush: whether to forcibly flush the stream.\n",
            "\n"
          ]
        }
      ]
    },
    {
      "cell_type": "code",
      "source": [
        "print(1,2,3, end=\"/\", sep=\";\")"
      ],
      "metadata": {
        "colab": {
          "base_uri": "https://localhost:8080/"
        },
        "id": "k472VCF-mhZC",
        "outputId": "5f3bdd07-f5dc-4ec6-a96f-dbc9673b4f33"
      },
      "execution_count": null,
      "outputs": [
        {
          "output_type": "stream",
          "name": "stdout",
          "text": [
            "1;2;3/"
          ]
        }
      ]
    },
    {
      "cell_type": "code",
      "source": [
        "suma(1,2,c=3) # 3*1+1*2 = 5"
      ],
      "metadata": {
        "colab": {
          "base_uri": "https://localhost:8080/"
        },
        "id": "fvOfHKg5m-6n",
        "outputId": "ea598c81-c367-4e1e-8196-e962c74e09f1"
      },
      "execution_count": null,
      "outputs": [
        {
          "output_type": "execute_result",
          "data": {
            "text/plain": [
              "5"
            ]
          },
          "metadata": {},
          "execution_count": 98
        }
      ]
    },
    {
      "cell_type": "code",
      "source": [
        "suma(1,2,d=3) # 1*1+3*2 = 7"
      ],
      "metadata": {
        "colab": {
          "base_uri": "https://localhost:8080/"
        },
        "id": "sRa66fCgm-xS",
        "outputId": "0acdacd1-8a0c-446c-ab46-61e675722197"
      },
      "execution_count": null,
      "outputs": [
        {
          "output_type": "execute_result",
          "data": {
            "text/plain": [
              "7"
            ]
          },
          "metadata": {},
          "execution_count": 99
        }
      ]
    },
    {
      "cell_type": "code",
      "source": [
        "suma(1,1,2,2)"
      ],
      "metadata": {
        "colab": {
          "base_uri": "https://localhost:8080/"
        },
        "id": "IFt9r7cfnXB5",
        "outputId": "380d6f41-2a50-42a3-dc24-db8abd21ba39"
      },
      "execution_count": null,
      "outputs": [
        {
          "output_type": "execute_result",
          "data": {
            "text/plain": [
              "4"
            ]
          },
          "metadata": {},
          "execution_count": 100
        }
      ]
    },
    {
      "cell_type": "code",
      "source": [
        "def imprimir_info(**datos):\n",
        "  for clave, valor in datos.items():\n",
        "    print(clave.capitalize(),\":\",valor )"
      ],
      "metadata": {
        "id": "GTTVk-1Ondac"
      },
      "execution_count": null,
      "outputs": []
    },
    {
      "cell_type": "code",
      "source": [
        "imprimir_info(nombre=\"Juan\", edad=25)"
      ],
      "metadata": {
        "colab": {
          "base_uri": "https://localhost:8080/"
        },
        "id": "MIRH42_Enu8b",
        "outputId": "8e5b2939-82bf-4985-8327-6689b348fff5"
      },
      "execution_count": null,
      "outputs": [
        {
          "output_type": "stream",
          "name": "stdout",
          "text": [
            "Nombre : Juan\n",
            "Edad : 25\n"
          ]
        }
      ]
    },
    {
      "cell_type": "code",
      "source": [
        "def f(*args, **kwargs):\n",
        "  print(args)\n",
        "  print(kwargs)"
      ],
      "metadata": {
        "id": "b8L6VjS3oCjK"
      },
      "execution_count": null,
      "outputs": []
    },
    {
      "cell_type": "code",
      "source": [
        "f(1,2,3,x=4,y=5)"
      ],
      "metadata": {
        "id": "pM1GohOPoM5y",
        "outputId": "46c72a67-1038-41dd-acf6-b59f9f4b8a40",
        "colab": {
          "base_uri": "https://localhost:8080/"
        }
      },
      "execution_count": null,
      "outputs": [
        {
          "output_type": "stream",
          "name": "stdout",
          "text": [
            "(1, 2, 3)\n",
            "{'x': 4, 'y': 5}\n"
          ]
        }
      ]
    }
  ]
}