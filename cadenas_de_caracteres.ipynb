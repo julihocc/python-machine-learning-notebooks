{
  "nbformat": 4,
  "nbformat_minor": 0,
  "metadata": {
    "colab": {
      "provenance": [],
      "authorship_tag": "ABX9TyNVMG6YZ1D3XK1ooVRprk3T",
      "include_colab_link": true
    },
    "kernelspec": {
      "name": "python3",
      "display_name": "Python 3"
    },
    "language_info": {
      "name": "python"
    }
  },
  "cells": [
    {
      "cell_type": "markdown",
      "metadata": {
        "id": "view-in-github",
        "colab_type": "text"
      },
      "source": [
        "<a href=\"https://colab.research.google.com/github/julihocc/python-machine-learning-notebooks/blob/main/cadenas_de_caracteres.ipynb\" target=\"_parent\"><img src=\"https://colab.research.google.com/assets/colab-badge.svg\" alt=\"Open In Colab\"/></a>"
      ]
    },
    {
      "cell_type": "markdown",
      "source": [
        "# Cadenas de caracteres\n",
        "\n",
        "En este capítulo aprenderemos a manipular textos con Python, que tienen el nombre técnico de *cadenas de caractéres* o **strings** en inglés, por lo que serán del tipo `str`."
      ],
      "metadata": {
        "id": "9KJ8St4nDDP_"
      }
    },
    {
      "cell_type": "code",
      "source": [
        "texto = \"Hola mundo!\"\n",
        "print(texto)"
      ],
      "metadata": {
        "colab": {
          "base_uri": "https://localhost:8080/"
        },
        "id": "NCeAEkZXC2is",
        "outputId": "39e46773-a19c-468a-9ee4-a79d72501c0e"
      },
      "execution_count": null,
      "outputs": [
        {
          "output_type": "stream",
          "name": "stdout",
          "text": [
            "Hola mundo!\n"
          ]
        }
      ]
    },
    {
      "cell_type": "code",
      "source": [
        "print(type(texto))"
      ],
      "metadata": {
        "colab": {
          "base_uri": "https://localhost:8080/"
        },
        "id": "g92Dp_BQEAp4",
        "outputId": "69ce0602-e9eb-4b39-ae35-655d70dd2ee2"
      },
      "execution_count": null,
      "outputs": [
        {
          "output_type": "stream",
          "name": "stdout",
          "text": [
            "<class 'str'>\n"
          ]
        }
      ]
    },
    {
      "cell_type": "code",
      "source": [
        "numero = input(\"Ingrese un número: \")\n",
        "print(numero)\n",
        "print(type(numero))\n",
        "try:\n",
        "  resultado_str = numero+\":\"+str(1)\n",
        "  print(resultado_str)\n",
        "  print(type(resultado_str))\n",
        "  resultado_int = int(numero)+1\n",
        "  print(resultado_int)\n",
        "  print(type(resultado_int))\n",
        "except Exception as err:\n",
        "  print(err)"
      ],
      "metadata": {
        "colab": {
          "base_uri": "https://localhost:8080/"
        },
        "id": "wpUh2gQsEDtB",
        "outputId": "7a736e81-53e3-47ac-bf2c-56df7850c177"
      },
      "execution_count": null,
      "outputs": [
        {
          "output_type": "stream",
          "name": "stdout",
          "text": [
            "Ingrese un número: 123\n",
            "123\n",
            "<class 'str'>\n",
            "123:1\n",
            "<class 'str'>\n",
            "124\n",
            "<class 'int'>\n"
          ]
        }
      ]
    },
    {
      "cell_type": "code",
      "source": [
        "numero = float(input(\"Ingrese un número: \"))\n",
        "print(numero+1)"
      ],
      "metadata": {
        "colab": {
          "base_uri": "https://localhost:8080/"
        },
        "id": "Hq4ad27mFsnk",
        "outputId": "6374e465-712e-4957-ad4f-f580218581d0"
      },
      "execution_count": null,
      "outputs": [
        {
          "output_type": "stream",
          "name": "stdout",
          "text": [
            "Ingrese un número: 123.5\n",
            "124.5\n"
          ]
        }
      ]
    },
    {
      "cell_type": "markdown",
      "source": [
        "### Cadenas en líneas múltiples\n",
        "\n",
        "Para ingesar múltiples líneas de caractéres, podemos usar el *caracter especial* `\\n`, para un salto de línea o encapsulando en texto en comillas triples:"
      ],
      "metadata": {
        "id": "Xf4AB74qGWTS"
      }
    },
    {
      "cell_type": "code",
      "source": [
        "# Caracter especial \\n\n",
        "texto = \"Hola\\nMundo!\"\n",
        "print(texto)"
      ],
      "metadata": {
        "colab": {
          "base_uri": "https://localhost:8080/"
        },
        "id": "tRoaORlpGXWI",
        "outputId": "46fe4d7b-9f8c-4683-8c66-4410f1bdb822"
      },
      "execution_count": null,
      "outputs": [
        {
          "output_type": "stream",
          "name": "stdout",
          "text": [
            "Hola\n",
            "Mundo!\n"
          ]
        }
      ]
    },
    {
      "cell_type": "code",
      "source": [
        "mi_texto = \"Hola a todos! \\n Mi nombre es Fulanito \\n Vivo en México.\"\n",
        "print(mi_texto)"
      ],
      "metadata": {
        "colab": {
          "base_uri": "https://localhost:8080/",
          "height": 106
        },
        "id": "YzlNufu3GoyS",
        "outputId": "f825a525-8bab-4b52-a677-4a42014248d1"
      },
      "execution_count": null,
      "outputs": [
        {
          "output_type": "error",
          "ename": "SyntaxError",
          "evalue": "unterminated string literal (detected at line 1) (<ipython-input-30-f02cdb828985>, line 1)",
          "traceback": [
            "\u001b[0;36m  File \u001b[0;32m\"<ipython-input-30-f02cdb828985>\"\u001b[0;36m, line \u001b[0;32m1\u001b[0m\n\u001b[0;31m    mi_texto = \"Hola a todos!\u001b[0m\n\u001b[0m               ^\u001b[0m\n\u001b[0;31mSyntaxError\u001b[0m\u001b[0;31m:\u001b[0m unterminated string literal (detected at line 1)\n"
          ]
        }
      ]
    },
    {
      "cell_type": "code",
      "source": [
        "# comillas triples\n",
        "texto_largo=\"\"\"Hola a todos!\n",
        "Mi nombre es Fulanito\n",
        "Vivo en México.\"\"\"\n",
        "print(texto_largo)"
      ],
      "metadata": {
        "colab": {
          "base_uri": "https://localhost:8080/"
        },
        "id": "PPCnYiCSG0-M",
        "outputId": "60c69238-116e-4393-a3dd-21249f967ef7"
      },
      "execution_count": null,
      "outputs": [
        {
          "output_type": "stream",
          "name": "stdout",
          "text": [
            "Hola a todos!\n",
            "Mi nombre es Fulanito\n",
            "Vivo en México.\n"
          ]
        }
      ]
    },
    {
      "cell_type": "markdown",
      "source": [
        "### Método en cadenas de caractéres\n",
        "\n",
        "Existen multiples funciones que podemos aplicar a la clase de las cadenas de caractéres. A las funciones que son propias sólo de esta clase, se le conoce como *métodos*; las vamos a aplicar con un punto después del nombre de la variable y cerrando con paréntesis, incluso vacios si no hay argumentos: `variable.método()`\n"
      ],
      "metadata": {
        "id": "QGxDs-CeHwhf"
      }
    },
    {
      "cell_type": "code",
      "source": [
        "#Definamos una cadena\n",
        "frase = \"primero tienes que aprender las Reglas del Juego, y después jugar mejor que nadie\""
      ],
      "metadata": {
        "id": "UeTAM5K7Hyau"
      },
      "execution_count": null,
      "outputs": []
    },
    {
      "cell_type": "code",
      "source": [
        "# len = length = longitud\n",
        "print(len(frase))"
      ],
      "metadata": {
        "colab": {
          "base_uri": "https://localhost:8080/"
        },
        "id": "EpheJASDIFu4",
        "outputId": "950c00dd-36b2-41ff-e21c-11846592fa5e"
      },
      "execution_count": null,
      "outputs": [
        {
          "output_type": "stream",
          "name": "stdout",
          "text": [
            "81\n"
          ]
        }
      ]
    },
    {
      "cell_type": "code",
      "source": [
        "frase.__len__"
      ],
      "metadata": {
        "colab": {
          "base_uri": "https://localhost:8080/"
        },
        "id": "fRa-e9w1IUKO",
        "outputId": "b9e132de-323b-4462-f895-3c47b6601f5f"
      },
      "execution_count": null,
      "outputs": [
        {
          "output_type": "execute_result",
          "data": {
            "text/plain": [
              "<method-wrapper '__len__' of str object at 0x78eb0cb39a70>"
            ]
          },
          "metadata": {},
          "execution_count": 45
        }
      ]
    },
    {
      "cell_type": "code",
      "source": [
        "frase.__len__()"
      ],
      "metadata": {
        "colab": {
          "base_uri": "https://localhost:8080/"
        },
        "id": "bv1YSWNBIi70",
        "outputId": "cf4a5a0e-f3d8-4c95-aebd-bead8e3d3563"
      },
      "execution_count": null,
      "outputs": [
        {
          "output_type": "execute_result",
          "data": {
            "text/plain": [
              "81"
            ]
          },
          "metadata": {},
          "execution_count": 46
        }
      ]
    },
    {
      "cell_type": "code",
      "source": [
        "mi_lista = [1,2,3,4,5]\n",
        "mi_lista.__len__()"
      ],
      "metadata": {
        "colab": {
          "base_uri": "https://localhost:8080/"
        },
        "id": "HyNkCxamIqEL",
        "outputId": "23a76402-e8ef-4294-ee72-9a05bc8fc1f9"
      },
      "execution_count": null,
      "outputs": [
        {
          "output_type": "execute_result",
          "data": {
            "text/plain": [
              "5"
            ]
          },
          "metadata": {},
          "execution_count": 47
        }
      ]
    },
    {
      "cell_type": "code",
      "source": [
        "len(mi_lista)"
      ],
      "metadata": {
        "colab": {
          "base_uri": "https://localhost:8080/"
        },
        "id": "symv9eY8Itg4",
        "outputId": "8c67c0cd-48be-4020-c6d6-fcae8ef395a0"
      },
      "execution_count": null,
      "outputs": [
        {
          "output_type": "execute_result",
          "data": {
            "text/plain": [
              "5"
            ]
          },
          "metadata": {},
          "execution_count": 48
        }
      ]
    },
    {
      "cell_type": "code",
      "source": [
        "print(frase.upper())"
      ],
      "metadata": {
        "colab": {
          "base_uri": "https://localhost:8080/"
        },
        "id": "w44U87VNKD-e",
        "outputId": "7caa36ce-4293-4118-8a66-0d1c557e3f75"
      },
      "execution_count": null,
      "outputs": [
        {
          "output_type": "stream",
          "name": "stdout",
          "text": [
            "PRIMERO TIENES QUE APRENDER LAS REGLAS DEL JUEGO, Y DESPUÉS JUGAR MEJOR QUE NADIE\n"
          ]
        }
      ]
    },
    {
      "cell_type": "code",
      "source": [
        "print(frase.capitalize())"
      ],
      "metadata": {
        "colab": {
          "base_uri": "https://localhost:8080/"
        },
        "id": "cUcDRVQLKR9i",
        "outputId": "a0cbce47-7c61-4270-f855-620f0fca7592"
      },
      "execution_count": null,
      "outputs": [
        {
          "output_type": "stream",
          "name": "stdout",
          "text": [
            "Primero tienes que aprender las reglas del juego, y después jugar mejor que nadie\n"
          ]
        }
      ]
    },
    {
      "cell_type": "code",
      "source": [
        "print(frase.lower())"
      ],
      "metadata": {
        "colab": {
          "base_uri": "https://localhost:8080/"
        },
        "id": "4KbvtHLhKufJ",
        "outputId": "3f8e17ff-e568-4b0e-cf8d-288824cd8f79"
      },
      "execution_count": null,
      "outputs": [
        {
          "output_type": "stream",
          "name": "stdout",
          "text": [
            "primero tienes que aprender las reglas del juego, y después jugar mejor que nadie\n"
          ]
        }
      ]
    },
    {
      "cell_type": "code",
      "source": [
        "print(frase.title())"
      ],
      "metadata": {
        "colab": {
          "base_uri": "https://localhost:8080/"
        },
        "id": "TwxOgNW2K04B",
        "outputId": "e0fcdbab-3809-4dd9-c5d2-8194ce1a57e4"
      },
      "execution_count": null,
      "outputs": [
        {
          "output_type": "stream",
          "name": "stdout",
          "text": [
            "Primero Tienes Que Aprender Las Reglas Del Juego, Y Después Jugar Mejor Que Nadie\n"
          ]
        }
      ]
    },
    {
      "cell_type": "code",
      "source": [
        "db = [\"unusuario\", \"otrousuario\"]\n",
        "\n",
        "def procesar_usuario(username):\n",
        "  if username.lower().strip() in db:\n",
        "    print(\"El nombre de usuario ya ha sido registrado\")\n",
        "  else:\n",
        "    db.append(username.lower().strip())\n",
        "    print(db)\n",
        "    print(\"Bienvenido\")\n",
        "\n",
        "\n",
        "username = input(\"Ingrese su nombre de usuario: \")\n",
        "procesar_usuario(username)"
      ],
      "metadata": {
        "colab": {
          "base_uri": "https://localhost:8080/"
        },
        "id": "nh5C3ROhLARl",
        "outputId": "e353b980-7f7d-4959-e7ae-f7c831851ad6"
      },
      "execution_count": null,
      "outputs": [
        {
          "output_type": "stream",
          "name": "stdout",
          "text": [
            "Ingrese su nombre de usuario:          miUsuario          \n",
            "['unusuario', 'otrousuario', 'miusuario']\n",
            "Bienvenido\n"
          ]
        }
      ]
    },
    {
      "cell_type": "code",
      "source": [],
      "metadata": {
        "id": "l9kPY3CKLk9F"
      },
      "execution_count": null,
      "outputs": []
    }
  ]
}