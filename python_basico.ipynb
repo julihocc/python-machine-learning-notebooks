{
  "nbformat": 4,
  "nbformat_minor": 0,
  "metadata": {
    "colab": {
      "provenance": [],
      "toc_visible": true,
      "authorship_tag": "ABX9TyPQX3sg3Co1Br1UBR1LIFMi",
      "include_colab_link": true
    },
    "kernelspec": {
      "name": "python3",
      "display_name": "Python 3"
    },
    "language_info": {
      "name": "python"
    }
  },
  "cells": [
    {
      "cell_type": "markdown",
      "metadata": {
        "id": "view-in-github",
        "colab_type": "text"
      },
      "source": [
        "<a href=\"https://colab.research.google.com/github/julihocc/python-machine-learning-notebooks/blob/main/python_basico.ipynb\" target=\"_parent\"><img src=\"https://colab.research.google.com/assets/colab-badge.svg\" alt=\"Open In Colab\"/></a>"
      ]
    },
    {
      "cell_type": "markdown",
      "source": [
        "# Fundamentos de programación con Python\n"
      ],
      "metadata": {
        "id": "WKWrUKuDKJ5h"
      }
    },
    {
      "cell_type": "markdown",
      "source": [
        "## Primeros pasos"
      ],
      "metadata": {
        "id": "w2ad1ZCNBsMH"
      }
    },
    {
      "cell_type": "markdown",
      "source": [
        "### Como funciona una Libreta Jupyter\n",
        "\n",
        "Una libreta Jupyter, o \"Jupyter Notebook,\" es una aplicación web que permite crear y compartir documentos que contienen código ejecutable, visualizaciones, y texto narrativo en un formato interactivo. Es muy popular en entornos de ciencia de datos, aprendizaje automático, análisis de datos y educación. Aquí te explico cómo funciona:\n",
        "\n",
        "### 1. **Estructura de la Libreta Jupyter**\n",
        "   - **Celdas (Cells):** Una libreta Jupyter está dividida en celdas. Hay dos tipos principales de celdas:\n",
        "     - **Celdas de Código (Code Cells):** En estas celdas puedes escribir y ejecutar código en un lenguaje de programación soportado (generalmente Python, pero también R, Julia, etc.).\n",
        "     - **Celdas de Texto (Markdown Cells):** En estas celdas puedes escribir texto en formato Markdown para agregar descripciones, títulos, ecuaciones, imágenes, etc.\n",
        "  \n",
        "   - **Celdas de Salida:** Cuando ejecutas una celda de código, la salida (resultados, gráficos, errores) se muestra inmediatamente debajo de la celda.\n",
        "\n",
        "### 2. **Ejecutar Código**\n",
        "   - Puedes escribir y ejecutar código directamente en una celda de código. Al presionar `Shift + Enter`, el código se ejecuta y la salida se muestra justo debajo de la celda.\n",
        "   - Las celdas pueden ejecutarse en cualquier orden, pero es común seguir el flujo secuencial, de arriba hacia abajo.\n",
        "   - Los resultados de las ejecuciones anteriores se mantienen en la sesión, por lo que las variables y funciones definidas en celdas anteriores están disponibles para las celdas posteriores, a menos que reinicies el kernel.\n",
        "\n",
        "### 3. **Kernel**\n",
        "   - **Kernel:** Es el motor que ejecuta el código que escribes en las celdas de código. En Jupyter, el kernel más común es el de Python, pero puedes cambiar de kernel para usar otros lenguajes.\n",
        "   - Puedes reiniciar el kernel si quieres limpiar todas las variables y comenzar de nuevo desde cero. Esto es útil si encuentras errores difíciles de rastrear o si deseas comenzar con un entorno limpio.\n",
        "\n",
        "### 4. **Interactividad**\n",
        "   - **Widgets Interactivos:** Jupyter soporta widgets interactivos que te permiten crear aplicaciones simples y dinámicas dentro de la libreta, como controles deslizantes, menús desplegables, botones, etc.\n",
        "   - **Visualización de Datos:** Puedes generar gráficos interactivos y visualizaciones avanzadas dentro de la libreta usando bibliotecas como Matplotlib, Seaborn, Plotly, etc.\n",
        "\n",
        "### 5. **Documentación y Narrativa**\n",
        "   - **Markdown:** Puedes usar celdas Markdown para agregar comentarios, explicaciones, y documentación. Esto permite que las libretas Jupyter sean más que solo un conjunto de código; pueden ser reportes completos con análisis detallado.\n",
        "   - **LaTeX:** Jupyter también soporta LaTeX para escribir ecuaciones matemáticas con formato profesional.\n",
        "\n",
        "### 6. **Guardar y Compartir**\n",
        "   - **Guardar:** Las libretas se guardan en archivos con extensión `.ipynb` (IPython Notebook). Estos archivos pueden ser compartidos fácilmente con otros usuarios.\n",
        "   - **Exportar:** Puedes exportar la libreta a otros formatos como HTML, PDF, Markdown, etc., para su distribución o publicación.\n",
        "   - **Compartir en Línea:** Hay servicios como GitHub, NBViewer, o Google Colab que permiten visualizar y compartir libretas Jupyter en línea.\n",
        "\n",
        "### 7. **Extensiones y Plugins**\n",
        "   - Existen muchas extensiones y plugins que puedes instalar para mejorar la funcionalidad de Jupyter, como agregar botones de exportación rápida, mejorar la visualización de datos, o integrar nuevas herramientas.\n",
        "\n",
        "En resumen, una libreta Jupyter es una herramienta versátil y poderosa que combina código, texto, y visualizaciones en un solo documento interactivo, facilitando el proceso de análisis de datos y la creación de reportes."
      ],
      "metadata": {
        "id": "YDijSuALJQZD"
      }
    },
    {
      "cell_type": "code",
      "execution_count": 117,
      "metadata": {
        "colab": {
          "base_uri": "https://localhost:8080/"
        },
        "id": "yfxaE-StIYe6",
        "outputId": "eeec67ed-d236-4620-cb69-e4b2c9adf401"
      },
      "outputs": [
        {
          "output_type": "stream",
          "name": "stdout",
          "text": [
            "2\n"
          ]
        }
      ],
      "source": [
        "# Nuestra primer tarea será sumar dos números\n",
        "# e imprimirlos en la consola\n",
        "print(1+1)"
      ]
    },
    {
      "cell_type": "code",
      "source": [
        "# Para imprimir texto, necesitamos comillas dobles o sencillas\n",
        "print(\"¡Hola, mundo!\")\n",
        "print('Hola de nuevo')"
      ],
      "metadata": {
        "colab": {
          "base_uri": "https://localhost:8080/"
        },
        "id": "UOCaWaN8I13D",
        "outputId": "0569e6dc-9bc9-44a4-adbb-196c94325751"
      },
      "execution_count": 118,
      "outputs": [
        {
          "output_type": "stream",
          "name": "stdout",
          "text": [
            "¡Hola, mundo!\n",
            "Hola de nuevo\n"
          ]
        }
      ]
    },
    {
      "cell_type": "markdown",
      "source": [
        "## Tipos de datos"
      ],
      "metadata": {
        "id": "PVcuYvciJ6gs"
      }
    },
    {
      "cell_type": "markdown",
      "source": [
        "### Variables numéricas\n",
        "\n",
        "En Python, las variables numéricas son usadas para almacenar y manipular valores numéricos. Hay varios tipos de variables numéricas, cada una adecuada para diferentes propósitos. Aquí te explico los principales tipos:\n",
        "\n",
        "### 1. **Enteros (`int`):**\n",
        "   - **Descripción:** Representan números enteros sin parte decimal. Pueden ser positivos o negativos.\n",
        "   - **Ejemplo:** `x = 5`, `y = -10`\n",
        "   - **Características:** Los enteros en Python tienen precisión arbitraria, lo que significa que pueden ser muy grandes sin perder precisión.\n",
        "\n",
        "### 2. **Números de Punto Flotante (`float`):**\n",
        "   - **Descripción:** Representan números que tienen una parte decimal. Son usados para valores que requieren precisión decimal.\n",
        "   - **Ejemplo:** `a = 3.14`, `b = -0.001`\n",
        "   - **Características:** Los floats en Python son números en punto flotante de doble precisión (usualmente 64 bits) y están sujetos a limitaciones de precisión debido a la forma en que se representan internamente.\n",
        "\n",
        "### 3. **Números Complejos (`complex`):**\n",
        "   - **Descripción:** Representan números complejos con una parte real y una parte imaginaria.\n",
        "   - **Ejemplo:** `z = 3 + 4j`\n",
        "   - **Características:** Los números complejos tienen una parte real y una parte imaginaria, y se representan con el sufijo `j` para la parte imaginaria en Python.\n",
        "\n",
        "### Operaciones Básicas con Variables Numéricas:\n",
        "\n",
        "- **Aritmética Básica:** Puedes realizar operaciones básicas como suma (`+`), resta (`-`), multiplicación (`*`), división (`/`), y módulo (`%`) con variables numéricas.\n",
        "  - Ejemplo: `5 + 3` da `8`, `7 / 2` da `3.5`\n",
        "\n",
        "- **Operadores Aritméticos Avanzados:** También puedes usar operaciones como exponenciación (`**`) y división entera (`//`).\n",
        "  - Ejemplo: `2 ** 3` da `8`, `7 // 2` da `3`\n",
        "\n",
        "- **Conversión entre Tipos:** Puedes convertir entre enteros y flotantes usando `int()` y `float()`.\n",
        "  - Ejemplo: `int(3.14)` da `3`, `float(5)` da `5.0`\n",
        "\n",
        "### Ejemplos de Uso:\n",
        "\n",
        "```python\n",
        "# Enteros\n",
        "x = 10\n",
        "y = -3\n",
        "print(x + y)  # Resultado: 7\n",
        "\n",
        "# Flotantes\n",
        "a = 2.5\n",
        "b = 3.14\n",
        "print(a * b)  # Resultado: 7.85\n",
        "\n",
        "# Números Complejos\n",
        "z = 1 + 2j\n",
        "w = 3 + 4j\n",
        "print(z + w)  # Resultado: (4+6j)\n",
        "```\n",
        "\n",
        "Cada tipo numérico tiene características específicas que los hacen adecuados para diferentes tipos de cálculos y aplicaciones en programación."
      ],
      "metadata": {
        "id": "tAiE4eKSB1MH"
      }
    },
    {
      "cell_type": "markdown",
      "source": [
        "Este código asigna el valor `2` a la variable `n`, luego imprime tanto el valor de `n` como su tipo de dato, que es `int` en este caso."
      ],
      "metadata": {
        "id": "6KK0-k3-_Yze"
      }
    },
    {
      "cell_type": "code",
      "source": [
        "n = 2\n",
        "print(n)\n",
        "print(type(n))\n"
      ],
      "metadata": {
        "colab": {
          "base_uri": "https://localhost:8080/"
        },
        "id": "n_pzsRppJ81x",
        "outputId": "41e14f73-846b-469f-8cb6-92197be61c9c"
      },
      "execution_count": 119,
      "outputs": [
        {
          "output_type": "stream",
          "name": "stdout",
          "text": [
            "2\n",
            "<class 'int'>\n"
          ]
        }
      ]
    },
    {
      "cell_type": "markdown",
      "source": [
        "En este código, se asigna un valor muy largo y preciso a la variable `x`. Sin embargo, Python lo redondea automáticamente a la precisión disponible para los números de punto flotante (`float`). Al imprimir `x`, verás que el valor ha sido redondeado a `2.0`, y el tipo de dato será `float`, indicando que `x` es tratado como un número de punto flotante."
      ],
      "metadata": {
        "id": "Wh8DIGsa_dR8"
      }
    },
    {
      "cell_type": "code",
      "source": [
        "\n",
        "x = 1.9999999999999999999999999999999999999999999999999999999999999999999999999999999999999999999999999999999999999999999999999999999999999999999999999999999999999\n",
        "print(x)\n",
        "print(type(x))\n"
      ],
      "metadata": {
        "colab": {
          "base_uri": "https://localhost:8080/"
        },
        "id": "jjGosaw4Kl2D",
        "outputId": "6d6cafd8-0850-49f9-d931-5483ee8fdf77"
      },
      "execution_count": 120,
      "outputs": [
        {
          "output_type": "stream",
          "name": "stdout",
          "text": [
            "2.0\n",
            "<class 'float'>\n"
          ]
        }
      ]
    },
    {
      "cell_type": "markdown",
      "source": [
        "Este código compara la variable `n`, que tiene el valor `2`, con la variable `x`, que fue redondeada a `2.0`. La comparación `n == x` evaluará si ambos valores son iguales. Dado que Python trata a `2` y `2.0` como equivalentes en comparaciones, la expresión devolverá `True`."
      ],
      "metadata": {
        "id": "0zq9oXwW_hpK"
      }
    },
    {
      "cell_type": "code",
      "source": [
        "\n",
        "print(n==x)\n"
      ],
      "metadata": {
        "colab": {
          "base_uri": "https://localhost:8080/"
        },
        "id": "Dar8551yKov7",
        "outputId": "32e51152-9cd9-41b9-a164-3fbf808b8e3b"
      },
      "execution_count": 121,
      "outputs": [
        {
          "output_type": "stream",
          "name": "stdout",
          "text": [
            "True\n"
          ]
        }
      ]
    },
    {
      "cell_type": "markdown",
      "source": [
        "### Cadenas de Caracteres\n",
        "\n",
        "Una cadena de caracteres, o simplemente \"cadena\", es una secuencia de caracteres que se utilizan para representar texto en programación. En Python y otros lenguajes de programación, una cadena es un tipo de dato fundamental que se usa para almacenar y manipular texto.\n",
        "\n",
        "### Características de las Cadenas de Caracteres:\n",
        "\n",
        "1. **Definición:**\n",
        "   - Las cadenas se definen colocando texto entre comillas simples (`'`) o dobles (`\"`). Por ejemplo, `'hola'` o `\"hola\"`.\n",
        "\n",
        "2. **Inmutabilidad:**\n",
        "   - Las cadenas son inmutables, lo que significa que una vez que se crea una cadena, su contenido no puede ser modificado. Cualquier operación que parezca modificar una cadena en realidad crea una nueva cadena.\n",
        "\n",
        "3. **Indexación:**\n",
        "   - Los caracteres en una cadena están indexados, comenzando desde `0`. Puedes acceder a un carácter específico usando su índice. Por ejemplo, en la cadena `\"hola\"`, el carácter en el índice `0` es `'h'`.\n",
        "\n",
        "4. **Operaciones Comunes:**\n",
        "   - **Concatenación:** Puedes unir varias cadenas usando el operador `+`. Por ejemplo, `'hola' + ' mundo'` resulta en `'hola mundo'`.\n",
        "   - **Repetición:** Puedes repetir una cadena un número determinado de veces usando el operador `*`. Por ejemplo, `'ho' * 3` resulta en `'hohoho'`.\n",
        "   - **Slicing:** Puedes obtener una subcadena usando el operador de corte `[inicio:fin]`. Por ejemplo, `'hola'[1:4]` resulta en `'ola'`.\n",
        "\n",
        "5. **Métodos:**\n",
        "   - Las cadenas tienen varios métodos incorporados para manipular texto, como `.upper()`, `.lower()`, `.strip()`, `.replace()`, `.split()`, y `.join()`. Estos métodos permiten transformar y analizar cadenas de manera eficiente.\n",
        "\n",
        "6. **Interpolación:**\n",
        "   - Las cadenas pueden incluir valores de variables mediante la interpolación o formateo. En Python, puedes usar f-strings (`f\"texto {variable}\"`), el método `.format()`, o el operador `%` para formatear cadenas.\n",
        "\n",
        "Las cadenas son esenciales para trabajar con texto en programación y se utilizan en una variedad de aplicaciones, desde la manipulación de datos hasta la generación de salidas en interfaces de usuario."
      ],
      "metadata": {
        "id": "viV73xodB_WI"
      }
    },
    {
      "cell_type": "markdown",
      "source": [
        "Aquí se asigna el valor `\"2\"` a la variable `s`. El valor está entre comillas, lo que indica que es una cadena de texto. Al imprimir `s`, verás el texto `\"2\"`, y al imprimir `type(s)`, el resultado será `str`, mostrando que `s` es una cadena."
      ],
      "metadata": {
        "id": "PkudyFyT__62"
      }
    },
    {
      "cell_type": "code",
      "source": [
        "s = \"2\"\n",
        "print(s)\n",
        "print(type(s))"
      ],
      "metadata": {
        "colab": {
          "base_uri": "https://localhost:8080/"
        },
        "id": "QB_lQVDYKq3f",
        "outputId": "32159626-00a0-4461-dfec-eb74f17d854b"
      },
      "execution_count": 122,
      "outputs": [
        {
          "output_type": "stream",
          "name": "stdout",
          "text": [
            "2\n",
            "<class 'str'>\n"
          ]
        }
      ]
    },
    {
      "cell_type": "markdown",
      "source": [
        "Este código compara la variable `s`, que es una cadena de texto con el valor `\"2\"`, con la variable `n`, que es un número entero con el valor `2`. La comparación `s == n` evaluará si ambos valores son iguales. Dado que `s` es una cadena y `n` es un número entero, la comparación devolverá `False` porque los tipos de datos son diferentes."
      ],
      "metadata": {
        "id": "dFgSe6K7AEjO"
      }
    },
    {
      "cell_type": "code",
      "source": [
        "print(s==n)"
      ],
      "metadata": {
        "colab": {
          "base_uri": "https://localhost:8080/"
        },
        "id": "WfQ2kz6U_3Um",
        "outputId": "0fdc8a02-287f-4499-f75f-60bf1fc5d512"
      },
      "execution_count": 123,
      "outputs": [
        {
          "output_type": "stream",
          "name": "stdout",
          "text": [
            "False\n"
          ]
        }
      ]
    },
    {
      "cell_type": "markdown",
      "source": [
        "Aquí, la variable `s`, que es una cadena de texto con el valor `\"2\"`, se convierte en un número entero usando la función `int()`. El valor convertido se asigna a la variable `s_int`. Al imprimir `s_int`, verás el número `2`, y al imprimir `type(s_int)`, el resultado será `int`, indicando que `s_int` es un número entero."
      ],
      "metadata": {
        "id": "obzZufWfAJsp"
      }
    },
    {
      "cell_type": "code",
      "source": [
        "s_int = int(s)\n",
        "print(s_int)\n",
        "print(type(s_int))"
      ],
      "metadata": {
        "colab": {
          "base_uri": "https://localhost:8080/"
        },
        "id": "KkMT65_3_3LS",
        "outputId": "7d4e3284-e5d1-4dd1-d3ba-8d843f3d4037"
      },
      "execution_count": 124,
      "outputs": [
        {
          "output_type": "stream",
          "name": "stdout",
          "text": [
            "2\n",
            "<class 'int'>\n"
          ]
        }
      ]
    },
    {
      "cell_type": "markdown",
      "source": [
        "Este código compara `s_int`, que es el número entero `2` obtenido al convertir la cadena `\"2\"`, con `n`, que también es el número entero `2`. La comparación `s_int == n` devolverá `True`, ya que ambos valores son iguales y ambos son enteros."
      ],
      "metadata": {
        "id": "wyiTmDOGANSw"
      }
    },
    {
      "cell_type": "code",
      "source": [
        "print(s_int==n)"
      ],
      "metadata": {
        "colab": {
          "base_uri": "https://localhost:8080/"
        },
        "id": "nYINo1jh_3Bo",
        "outputId": "faed1c01-fa2a-4fca-d2a3-e5b5bea20bec"
      },
      "execution_count": 125,
      "outputs": [
        {
          "output_type": "stream",
          "name": "stdout",
          "text": [
            "True\n"
          ]
        }
      ]
    },
    {
      "cell_type": "markdown",
      "source": [
        "### Booleanos\n",
        "\n",
        "En Python, los booleanos son un tipo de dato que se utiliza para representar valores de verdad. Hay dos valores booleanos en Python:\n",
        "\n",
        "1. **`True`:** Representa una afirmación verdadera.\n",
        "2. **`False`:** Representa una afirmación falsa.\n",
        "\n",
        "### Características de los Booleanos:\n",
        "\n",
        "- **Tipo de Dato:**\n",
        "  - Los valores booleanos tienen el tipo de dato `bool`.\n",
        "  \n",
        "- **Operaciones Booleanas:**\n",
        "  - **Comparaciones:** Las comparaciones entre valores, como `==`, `!=`, `>`, `<`, `>=`, `<=`, devuelven valores booleanos.\n",
        "    - Ejemplo: `5 > 3` devuelve `True`.\n",
        "  \n",
        "  - **Operadores Lógicos:** Los operadores lógicos permiten combinar o invertir valores booleanos.\n",
        "    - **`and`:** Devuelve `True` solo si ambas expresiones son `True`.\n",
        "      - Ejemplo: `True and False` devuelve `False`.\n",
        "    - **`or`:** Devuelve `True` si al menos una de las expresiones es `True`.\n",
        "      - Ejemplo: `True or False` devuelve `True`.\n",
        "    - **`not`:** Invierte el valor booleano. Devuelve `True` si la expresión es `False`, y viceversa.\n",
        "      - Ejemplo: `not True` devuelve `False`.\n",
        "  \n",
        "- **Conversiones:**\n",
        "  - Puedes convertir otros tipos de datos a booleanos usando la función `bool()`. Los valores como `0`, `0.0`, `None`, `[]`, `{}`, y `''` se convierten en `False`, mientras que otros valores se convierten en `True`.\n",
        "    - Ejemplo: `bool(0)` devuelve `False`, `bool(1)` devuelve `True`.\n",
        "\n",
        "### Ejemplos de Uso:\n",
        "\n",
        "```python\n",
        "# Comparaciones\n",
        "print(5 > 3)  # Resultado: True\n",
        "print(2 == 3)  # Resultado: False\n",
        "\n",
        "# Operadores lógicos\n",
        "print(True and False)  # Resultado: False\n",
        "print(True or False)   # Resultado: True\n",
        "print(not True)        # Resultado: False\n",
        "\n",
        "# Conversiones a booleano\n",
        "print(bool(0))         # Resultado: False\n",
        "print(bool(5))         # Resultado: True\n",
        "print(bool('text'))   # Resultado: True\n",
        "print(bool(''))       # Resultado: False\n",
        "```\n",
        "\n",
        "Los booleanos son fundamentales en la programación para tomar decisiones y controlar el flujo de los programas a través de estructuras de control como condicionales y bucles.\n",
        "\n",
        "Este código imprime los valores booleanos `True` y `False`, junto con su tipo de dato. `True` y `False` son valores booleanos en Python y tienen el tipo `bool`. Al ejecutar este código, verás `True <class 'bool'>` y `False <class 'bool'>`, mostrando que ambos valores son de tipo booleano."
      ],
      "metadata": {
        "id": "NeA-L1o8ARr3"
      }
    },
    {
      "cell_type": "code",
      "source": [
        "print(True, type(True))\n",
        "print(False, type(False))"
      ],
      "metadata": {
        "colab": {
          "base_uri": "https://localhost:8080/"
        },
        "id": "etL7XzncAOvk",
        "outputId": "3bbe3ac0-2097-4f6c-99ef-e4c52582fd7c"
      },
      "execution_count": 126,
      "outputs": [
        {
          "output_type": "stream",
          "name": "stdout",
          "text": [
            "True <class 'bool'>\n",
            "False <class 'bool'>\n"
          ]
        }
      ]
    },
    {
      "cell_type": "markdown",
      "source": [
        "Este código realiza y muestra el resultado de varias comparaciones booleanas:\n",
        "\n",
        "- `2 > 1` evalúa si `2` es mayor que `1`. Devuelve `True`.\n",
        "- `2 == 1` evalúa si `2` es igual a `1`. Devuelve `False`.\n",
        "- `2 != 1` evalúa si `2` es diferente de `1`. Devuelve `True`.\n",
        "- `2 < 1` evalúa si `2` es menor que `1`. Devuelve `False`.\n",
        "- `2 >= 1` evalúa si `2` es mayor o igual a `1`. Devuelve `True`.\n",
        "- `2 <= 1` evalúa si `2` es menor o igual a `1`. Devuelve `False`."
      ],
      "metadata": {
        "id": "wXLLCB1zAdjX"
      }
    },
    {
      "cell_type": "code",
      "source": [
        "print(2>1)\n",
        "print(2==1)\n",
        "print(2!=1)\n",
        "print(2<1)\n",
        "print(2>=1)\n",
        "print(2<=1)"
      ],
      "metadata": {
        "colab": {
          "base_uri": "https://localhost:8080/"
        },
        "id": "DLvsTBqmAZB_",
        "outputId": "9cb8da42-dc87-4653-89e7-a46ec77500c5"
      },
      "execution_count": 127,
      "outputs": [
        {
          "output_type": "stream",
          "name": "stdout",
          "text": [
            "True\n",
            "False\n",
            "True\n",
            "False\n",
            "True\n",
            "False\n"
          ]
        }
      ]
    },
    {
      "cell_type": "markdown",
      "source": [
        "Este código convierte los valores booleanos `True` y `False` a enteros usando la función `int()`. En Python, `True` se convierte en `1` y `False` se convierte en `0`. Así que `int(True)` imprimirá `1`, y `int(False)` imprimirá `0`."
      ],
      "metadata": {
        "id": "L_qZ0KnEAiWL"
      }
    },
    {
      "cell_type": "code",
      "source": [
        "print(int(True))\n",
        "print(int(False))"
      ],
      "metadata": {
        "colab": {
          "base_uri": "https://localhost:8080/"
        },
        "id": "TyyZwjMjKt50",
        "outputId": "f17c39ec-bea6-4706-e620-792a9a5e7c9d"
      },
      "execution_count": 128,
      "outputs": [
        {
          "output_type": "stream",
          "name": "stdout",
          "text": [
            "1\n",
            "0\n"
          ]
        }
      ]
    },
    {
      "cell_type": "markdown",
      "source": [
        "Este código suma los valores booleanos `True` y `True`. En Python, `True` se trata como `1` en operaciones aritméticas, por lo que `True + True` es equivalente a `1 + 1`, lo que da como resultado `2`."
      ],
      "metadata": {
        "id": "hzwRqTA5AlG1"
      }
    },
    {
      "cell_type": "code",
      "source": [
        "print(True+True)"
      ],
      "metadata": {
        "colab": {
          "base_uri": "https://localhost:8080/"
        },
        "id": "fYnbWosZAmtf",
        "outputId": "dd786754-fd74-447c-f06a-0e56adaccc28"
      },
      "execution_count": 129,
      "outputs": [
        {
          "output_type": "stream",
          "name": "stdout",
          "text": [
            "2\n"
          ]
        }
      ]
    },
    {
      "cell_type": "markdown",
      "source": [],
      "metadata": {
        "id": "pVBrBGtGBjgQ"
      }
    },
    {
      "cell_type": "markdown",
      "source": [
        "## Operaciones aritméticas\n"
      ],
      "metadata": {
        "id": "3Yuq00vUCx5B"
      }
    },
    {
      "cell_type": "markdown",
      "source": [
        "1. **Suma:**\n",
        "   - Se calcula la suma de `x` y `y` y se asigna a la variable `suma`. La operación `x + y` resulta en `10`. Al imprimir `suma`, se muestra el valor `10` y el tipo de dato será `int`, que indica que es un número entero.\n",
        "\n",
        "2. **Resta:**\n",
        "   - Se calcula la resta de `x` y `y` y se asigna a la variable `resta`. La operación `x - y` resulta en `4`. Al imprimir `resta`, se muestra el valor `4` y el tipo de dato será `int`.\n",
        "\n",
        "3. **Multiplicación:**\n",
        "   - Se calcula la multiplicación de `x` y `y` y se asigna a la variable `multiplicacion`. La operación `x * y` resulta en `21`. Al imprimir `multiplicacion`, se muestra el valor `21` y el tipo de dato será `int`."
      ],
      "metadata": {
        "id": "11Wi3eZOC-Tw"
      }
    },
    {
      "cell_type": "code",
      "source": [
        "x = 7\n",
        "y = 3\n",
        "suma = x+y\n",
        "print(suma, type(suma))\n",
        "resta = x-y\n",
        "print(resta, type(resta))\n",
        "multiplicacion = x*y\n",
        "print(multiplicacion, type(multiplicacion))"
      ],
      "metadata": {
        "colab": {
          "base_uri": "https://localhost:8080/"
        },
        "id": "IeNoNpUlDHoR",
        "outputId": "c0da2228-93cd-4c91-cf6d-3c43e7ece8af"
      },
      "execution_count": 130,
      "outputs": [
        {
          "output_type": "stream",
          "name": "stdout",
          "text": [
            "10 <class 'int'>\n",
            "4 <class 'int'>\n",
            "21 <class 'int'>\n"
          ]
        }
      ]
    },
    {
      "cell_type": "markdown",
      "source": [
        "1. **División:**\n",
        "   - Se realiza la división de `x` entre `y` y el resultado se asigna a la variable `division`. La operación `x / y` resulta en `2.3333333333333335`. Al imprimir `division`, se muestra el valor `2.3333333333333335` y el tipo de dato será `float`, ya que el resultado de la división es un número de punto flotante.\n",
        "\n",
        "2. **División Entera:**\n",
        "   - Se realiza la división entera de `x` entre `y` y el resultado se asigna a la variable `division_entera`. La operación `x // y` resulta en `2`. Al imprimir `division_entera`, se muestra el valor `2` y el tipo de dato será `int`, ya que la división entera devuelve un número entero truncado.\n",
        "\n",
        "3. **Residuo:**\n",
        "   - Se calcula el residuo de la división de `x` entre `y` y el resultado se asigna a la variable `residuo`. La operación `x % y` resulta en `1`. Al imprimir `residuo`, se muestra el valor `1` y el tipo de dato será `int`, ya que el residuo de una división es un número entero."
      ],
      "metadata": {
        "id": "sxIiFT8WDTFr"
      }
    },
    {
      "cell_type": "code",
      "source": [
        "division = x/y\n",
        "print(division, type(division))\n",
        "division_entera = x//y\n",
        "print(division_entera, type(division_entera))\n",
        "residuo = x%y\n",
        "print(residuo, type(residuo))"
      ],
      "metadata": {
        "colab": {
          "base_uri": "https://localhost:8080/"
        },
        "id": "68_8meYlDWFA",
        "outputId": "62420282-6973-487c-a25c-5b2e1ae13ea7"
      },
      "execution_count": 131,
      "outputs": [
        {
          "output_type": "stream",
          "name": "stdout",
          "text": [
            "2.3333333333333335 <class 'float'>\n",
            "2 <class 'int'>\n",
            "1 <class 'int'>\n"
          ]
        }
      ]
    },
    {
      "cell_type": "markdown",
      "source": [
        "En este código, se concatenan dos cadenas de texto:\n",
        "\n",
        "1. La variable `saludo` contiene el texto `\"Hola\"`.\n",
        "2. La variable `nombre` contiene el texto `\"mundo\"`.\n",
        "\n",
        "La operación `saludo + \" \" + nombre` une las dos cadenas con un espacio en blanco entre ellas, resultando en `\"Hola mundo\"`. Al imprimir el resultado, se muestra el texto `\"Hola mundo\"`."
      ],
      "metadata": {
        "id": "JUzPdoxTDddX"
      }
    },
    {
      "cell_type": "code",
      "source": [
        "saludo = \"Hola\"\n",
        "nombre = \"mundo\"\n",
        "print(saludo+\" \"+nombre)"
      ],
      "metadata": {
        "colab": {
          "base_uri": "https://localhost:8080/"
        },
        "id": "ZN7xg0IjDePy",
        "outputId": "6bcfd6fa-32c4-4145-df25-8ced8b217c78"
      },
      "execution_count": 132,
      "outputs": [
        {
          "output_type": "stream",
          "name": "stdout",
          "text": [
            "Hola mundo\n"
          ]
        }
      ]
    },
    {
      "cell_type": "markdown",
      "source": [
        "1. **Intento de Restar Cadenas:**\n",
        "   - Se intenta restar la variable `nombre` de la variable `saludo` usando `saludo - nombre`. En Python, la resta no está definida para cadenas de caracteres, por lo que esto causará un error.\n",
        "\n",
        "2. **Manejo de Excepciones:**\n",
        "   - El bloque `try` captura el error que ocurre durante la operación de resta. Cuando se produce una excepción, el control pasa al bloque `except`.\n",
        "\n",
        "3. **Mensaje de Error:**\n",
        "   - El bloque `except` imprime el mensaje `\"No puedo restar cadenas de caracteres\"`, indicando que la operación de resta no es válida para cadenas."
      ],
      "metadata": {
        "id": "y92YBRU2Di_w"
      }
    },
    {
      "cell_type": "code",
      "source": [
        "try:\n",
        "\tprint(saludo-nombre)\n",
        "except:\n",
        "\tprint(\"No puedo restar cadenas de caracteres\")"
      ],
      "metadata": {
        "colab": {
          "base_uri": "https://localhost:8080/"
        },
        "id": "36uDC7TGDmI4",
        "outputId": "cb23118c-4063-401a-ff6c-64f2cb97f233"
      },
      "execution_count": 133,
      "outputs": [
        {
          "output_type": "stream",
          "name": "stdout",
          "text": [
            "No puedo restar cadenas de caracteres\n"
          ]
        }
      ]
    },
    {
      "cell_type": "markdown",
      "source": [
        "## Funciones\n",
        "\n",
        "En Python, las funciones son bloques de código reutilizables diseñados para realizar una tarea específica. Permiten organizar y estructurar el código, haciéndolo más modular, legible y mantenible. Aquí te explico los conceptos básicos sobre las funciones en Python:\n",
        "\n",
        "### Definición de Funciones\n",
        "\n",
        "- **Sintaxis:**\n",
        "  Para definir una función, se usa la palabra clave `def`, seguida del nombre de la función, paréntesis con parámetros (si los hay) y dos puntos. El cuerpo de la función se escribe indentado debajo de la definición.\n",
        "  ```python\n",
        "  def nombre_funcion(parametros):\n",
        "      # Cuerpo de la función\n",
        "      pass  # 'pass' es un marcador de posición que no hace nada\n",
        "  ```\n",
        "\n",
        "- **Ejemplo:**\n",
        "  ```python\n",
        "  def saludar(nombre):\n",
        "      print(f\"Hola, {nombre}!\")\n",
        "  ```\n",
        "\n",
        "### Llamada a Funciones\n",
        "\n",
        "- **Sintaxis:**\n",
        "  Una vez que una función está definida, puedes llamarla usando su nombre seguido de paréntesis. Si la función requiere parámetros, debes pasarlos dentro de los paréntesis.\n",
        "  ```python\n",
        "  saludar(\"Ana\")  # Imprime: Hola, Ana!\n",
        "  ```\n",
        "\n",
        "### Parámetros y Argumentos\n",
        "\n",
        "- **Parámetros:** Son las variables que se definen en la firma de la función y que recibirán los valores cuando la función sea llamada.\n",
        "  ```python\n",
        "  def sumar(a, b):  # 'a' y 'b' son parámetros\n",
        "      return a + b\n",
        "  ```\n",
        "\n",
        "- **Argumentos:** Son los valores que se pasan a la función cuando se llama.\n",
        "  ```python\n",
        "  resultado = sumar(3, 5)  # 3 y 5 son argumentos\n",
        "  ```\n",
        "\n",
        "### Valor de Retorno\n",
        "\n",
        "- Las funciones pueden devolver un valor usando la palabra clave `return`. Si no se especifica un valor de retorno, la función devuelve `None` por defecto.\n",
        "  ```python\n",
        "  def multiplicar(a, b):\n",
        "      return a * b\n",
        "  ```\n",
        "\n",
        "### Funciones con Valores Predeterminados\n",
        "\n",
        "- Puedes definir valores predeterminados para los parámetros, que se utilizan si no se proporciona un valor al llamar a la función.\n",
        "  ```python\n",
        "  def saludar(nombre=\"mundo\"):\n",
        "      print(f\"Hola, {nombre}!\")\n",
        "  ```\n",
        "\n",
        "### Funciones Anónimas (Lambdas)\n",
        "\n",
        "- Las funciones anónimas, o lambdas, son funciones pequeñas y sin nombre que se definen con la palabra clave `lambda`. Se usan para operaciones simples que no requieren una definición completa de función.\n",
        "  ```python\n",
        "  suma = lambda a, b: a + b\n",
        "  print(suma(2, 3))  # Imprime: 5\n",
        "  ```\n",
        "\n",
        "### Funciones de Orden Superior\n",
        "\n",
        "- Las funciones en Python pueden aceptar otras funciones como argumentos y devolver funciones como resultados. Esto permite crear funciones más abstractas y flexibles.\n",
        "  ```python\n",
        "  def aplicar_funcion(func, valor):\n",
        "      return func(valor)\n",
        "\n",
        "  def cuadrado(x):\n",
        "      return x * x\n",
        "\n",
        "  print(aplicar_funcion(cuadrado, 5))  # Imprime: 25\n",
        "  ```\n",
        "\n",
        "### Ejemplo Completo\n",
        "\n",
        "Aquí tienes un ejemplo que muestra algunos de estos conceptos:\n",
        "\n",
        "```python\n",
        "# Definición de una función con parámetros y valor de retorno\n",
        "def sumar(a, b=0):\n",
        "    return a + b\n",
        "\n",
        "# Llamada a la función con un argumento\n",
        "resultado = sumar(5)\n",
        "print(resultado)  # Imprime: 5\n",
        "\n",
        "# Llamada a la función con dos argumentos\n",
        "resultado = sumar(5, 10)\n",
        "print(resultado)  # Imprime: 15\n",
        "```\n",
        "\n",
        "Las funciones son esenciales para escribir código limpio y eficiente, facilitando la reutilización y la organización del código."
      ],
      "metadata": {
        "id": "-uRPOcDwDwkJ"
      }
    },
    {
      "cell_type": "markdown",
      "source": [
        "Este código define una función llamada `division` que realiza la división de dos números `a` y `b`. Aquí está el detalle de su funcionamiento:\n",
        "\n",
        "1. **Definición de la Función:**\n",
        "   - La función `division` toma dos parámetros: `a` (el numerador) y `b` (el denominador).\n",
        "\n",
        "2. **Manejo de Excepciones:**\n",
        "   - La función utiliza un bloque `try` para intentar ejecutar la división `a / b`.\n",
        "   - Si ocurre una excepción durante la división, específicamente un `ZeroDivisionError` (que ocurre cuando `b` es `0`), el bloque `except` captura la excepción.\n",
        "   - En caso de error, imprime un mensaje de error que incluye la descripción del problema.\n",
        "\n",
        "### Comportamiento de la Función\n",
        "\n",
        "- **División Exitosa:**\n",
        "  - Si `b` no es `0`, la división se realiza y el resultado se devuelve.\n",
        "\n",
        "- **División por Cero:**\n",
        "  - Si `b` es `0`, se captura la excepción `ZeroDivisionError`, y se imprime un mensaje indicando que ocurrió un error, pero la función no devuelve un valor en este caso.\n",
        "\n",
        "Este enfoque maneja el caso en que el denominador es cero y proporciona una forma de notificar al usuario del error sin que el programa se detenga abruptamente.\n",
        "\n",
        "### Ejemplo de Uso\n",
        "\n",
        "```python\n",
        "print(division(10, 2))  # Imprime: 5.0\n",
        "print(division(10, 0))  # Imprime: Algo salió mal:  division by zero\n",
        "```"
      ],
      "metadata": {
        "id": "P90rn62oECDz"
      }
    },
    {
      "cell_type": "code",
      "source": [
        "def division(a,b):\n",
        "\t# if b==0:\n",
        "\t# \tprint(\"El denominador no puede ser cero\")\n",
        "\t# \treturn\n",
        "\t# resultado = a/b\n",
        "\t# return resultado\n",
        "\ttry:\n",
        "\t\treturn a/b\n",
        "\texcept ZeroDivisionError as e:\n",
        "\t\tprint(\"Algo salió mal: \", e)"
      ],
      "metadata": {
        "id": "cQs4ybNMECa7"
      },
      "execution_count": 134,
      "outputs": []
    },
    {
      "cell_type": "code",
      "source": [
        "print(division(10, 2))  # Imprime: 5.0"
      ],
      "metadata": {
        "colab": {
          "base_uri": "https://localhost:8080/"
        },
        "id": "DutfesdGEKtb",
        "outputId": "abafc890-e2fb-4b6b-ff1f-ec87aa1a14e1"
      },
      "execution_count": 135,
      "outputs": [
        {
          "output_type": "stream",
          "name": "stdout",
          "text": [
            "5.0\n"
          ]
        }
      ]
    },
    {
      "cell_type": "code",
      "source": [
        "print(division(10, 0))  # Imprime: Algo salió mal:  division by zero"
      ],
      "metadata": {
        "colab": {
          "base_uri": "https://localhost:8080/"
        },
        "id": "UUpmlhghEM_K",
        "outputId": "a6dd8658-cac6-4bcc-8c33-7827c3097cc8"
      },
      "execution_count": 136,
      "outputs": [
        {
          "output_type": "stream",
          "name": "stdout",
          "text": [
            "Algo salió mal:  division by zero\n",
            "None\n"
          ]
        }
      ]
    },
    {
      "cell_type": "markdown",
      "source": [
        "Esta función, `f`, realiza una tarea simple:\n",
        "\n",
        "1. **Definición de la Función:**\n",
        "   - La función `f` toma un parámetro `nombre`.\n",
        "\n",
        "2. **Impresión del Mensaje:**\n",
        "   - Dentro de la función, se imprime un saludo que incluye el valor del parámetro `nombre`. El mensaje será `\"Hola <nombre>\"`, donde `<nombre>` es el valor que se pasa a la función.\n",
        "\n",
        "3. **Valor de Retorno:**\n",
        "   - La función usa `return` al final, lo cual indica el final de la función. En este caso, `return` no devuelve ningún valor explícito; simplemente termina la ejecución de la función.\n",
        "\n",
        "#### Ejemplo de Uso\n",
        "\n",
        "```python\n",
        "f(\"Ana\")  # Imprime: Hola Ana\n",
        "f(\"Juan\") # Imprime: Hola Juan\n",
        "```\n",
        "\n",
        "El `return` al final de la función es opcional en este caso, ya que la función no devuelve ningún valor."
      ],
      "metadata": {
        "id": "ASbaMHX_ETZJ"
      }
    },
    {
      "cell_type": "code",
      "source": [
        "def f(nombre):\n",
        "\tprint(\"Hola\", nombre)\n",
        "\treturn"
      ],
      "metadata": {
        "id": "3tnzfiJUET69"
      },
      "execution_count": 137,
      "outputs": []
    },
    {
      "cell_type": "code",
      "source": [
        "f(\"Ana\")  # Imprime: Hola Ana"
      ],
      "metadata": {
        "colab": {
          "base_uri": "https://localhost:8080/"
        },
        "id": "nbCclOtcEYbO",
        "outputId": "efcb8dd0-8a6b-4c9c-a740-0f689e101378"
      },
      "execution_count": 138,
      "outputs": [
        {
          "output_type": "stream",
          "name": "stdout",
          "text": [
            "Hola Ana\n"
          ]
        }
      ]
    },
    {
      "cell_type": "code",
      "source": [
        "f(\"Juan\") # Imprime: Hola Juan"
      ],
      "metadata": {
        "colab": {
          "base_uri": "https://localhost:8080/"
        },
        "id": "eY-BD2ZtEad8",
        "outputId": "cb050148-d197-43c1-e020-ff94b8c790e6"
      },
      "execution_count": 139,
      "outputs": [
        {
          "output_type": "stream",
          "name": "stdout",
          "text": [
            "Hola Juan\n"
          ]
        }
      ]
    },
    {
      "cell_type": "markdown",
      "source": [
        "Esta función, `f`, tiene un comportamiento muy simple:\n",
        "\n",
        "1. **Definición de la Función:**\n",
        "   - La función `f` no toma parámetros.\n",
        "\n",
        "2. **Valor de Retorno:**\n",
        "   - La función usa `return 0`, lo que indica que el valor `0` será devuelto cuando se llame a la función.\n",
        "\n",
        "#### Ejemplo de Uso\n",
        "\n",
        "```python\n",
        "resultado = f()\n",
        "print(resultado)  # Imprime: 0\n",
        "```\n",
        "\n",
        "En este caso, `f()` siempre devolverá `0` sin importar nada, y el valor devuelto se puede almacenar en una variable o usar directamente."
      ],
      "metadata": {
        "id": "tnkeLFKHEihT"
      }
    },
    {
      "cell_type": "code",
      "source": [
        "def f():\n",
        "\treturn 0"
      ],
      "metadata": {
        "id": "mnKRt8_UEi5C"
      },
      "execution_count": 140,
      "outputs": []
    },
    {
      "cell_type": "code",
      "source": [
        "resultado = f()\n",
        "print(resultado)  # Imprime: 0"
      ],
      "metadata": {
        "colab": {
          "base_uri": "https://localhost:8080/"
        },
        "id": "ViNmICtnEvXx",
        "outputId": "4b83beb4-25b7-4d2e-cf22-39a8f84aae1b"
      },
      "execution_count": 141,
      "outputs": [
        {
          "output_type": "stream",
          "name": "stdout",
          "text": [
            "0\n"
          ]
        }
      ]
    },
    {
      "cell_type": "markdown",
      "source": [
        "### Scope (alcance)"
      ],
      "metadata": {
        "id": "lVKzgduqFhQi"
      }
    },
    {
      "cell_type": "markdown",
      "source": [
        "En Python, el **scope local** se refiere a la accesibilidad de una variable dentro de una función. Por ejemplo, considera la siguiente función:\n",
        "\n",
        "```python\n",
        "def f():\n",
        "\tx_local_scope = 10 # scope local\n",
        "\tprint(x_local_scope**2)\n",
        "```\n",
        "\n",
        "En esta función, `x` se define dentro de `f`, lo que significa que `x` solo está disponible y puede ser utilizada dentro de esa función. El valor de `x` es 10, y dentro de `f`, se calcula y se imprime el cuadrado de `x` (que es 100). Sin embargo, fuera de la función `f`, la variable `x` no existe y no puede ser utilizada. Esta característica asegura que las variables locales no interfieran con el resto del código fuera de la función en la que se definen."
      ],
      "metadata": {
        "id": "sRgPBLggFkBp"
      }
    },
    {
      "cell_type": "code",
      "source": [
        "def f():\n",
        "\tx_local_scope = 10 # scope local\n",
        "\tprint(x_local_scope**2)\n",
        "\n",
        "f()\n",
        "\n",
        "try:\n",
        "  print(x_local_scope)\n",
        "except NameError as e:\n",
        "\tprint(\"Algo salió mal: \", e)"
      ],
      "metadata": {
        "colab": {
          "base_uri": "https://localhost:8080/"
        },
        "id": "pu_yfwP_FmTx",
        "outputId": "c32d832d-2683-45b5-bc2e-21a08ddaf763"
      },
      "execution_count": 142,
      "outputs": [
        {
          "output_type": "stream",
          "name": "stdout",
          "text": [
            "100\n",
            "Algo salió mal:  name 'x_local_scope' is not defined\n"
          ]
        }
      ]
    },
    {
      "cell_type": "markdown",
      "source": [
        "En Python, el **scope global** se refiere a la accesibilidad de una variable en todo el código, fuera de cualquier función. Considera el siguiente ejemplo:\n",
        "\n",
        "```python\n",
        "y_global = 5\n",
        "\n",
        "def g():\n",
        "    print(y_global)\n",
        "\n",
        "g()\n",
        "print(y_global**2)\n",
        "```\n",
        "\n",
        "En este caso, `y_global` es una variable global porque se define fuera de cualquier función. Esto significa que está disponible para ser utilizada tanto dentro como fuera de funciones. Dentro de la función `g`, `y_global` se imprime y muestra su valor, que es 5. Luego, fuera de la función, también puedes usar `y_global` para realizar operaciones, como calcular su cuadrado (`y_global**2`), que resulta en 25. La variable global `y_global` mantiene su valor y es accesible desde cualquier parte del código donde se defina."
      ],
      "metadata": {
        "id": "ghFUqfv5GNgy"
      }
    },
    {
      "cell_type": "code",
      "source": [
        "y_global = 5\n",
        "\n",
        "def g():\n",
        "\tprint(y_global)\n",
        "\n",
        "g()\n",
        "print(y_global**2)"
      ],
      "metadata": {
        "colab": {
          "base_uri": "https://localhost:8080/"
        },
        "id": "ze-zxpHnGNy7",
        "outputId": "a81828e3-ff23-41ff-aa98-748271d4218f"
      },
      "execution_count": 143,
      "outputs": [
        {
          "output_type": "stream",
          "name": "stdout",
          "text": [
            "5\n",
            "25\n"
          ]
        }
      ]
    },
    {
      "cell_type": "markdown",
      "source": [
        "En Python, el keyword `global` se utiliza para indicar que una variable dentro de una función se refiere a una variable global, en lugar de crear una nueva variable local. Aquí tienes un ejemplo que ilustra cómo funciona:\n",
        "\n",
        "```python\n",
        "z_global = 20\n",
        "\n",
        "def h():\n",
        "    global z_global\n",
        "    z_global = 30\n",
        "    print(z_global)\n",
        "\n",
        "h()\n",
        "print(z_global)\n",
        "```\n",
        "\n",
        "En este caso, `z_global` se define fuera de la función `h`, y su valor inicial es 20. Dentro de la función `h`, usamos el keyword `global` para especificar que queremos modificar la variable global `z_global` en lugar de crear una variable local con el mismo nombre. Cuando `h` se ejecuta, cambia el valor de `z_global` a 30 y lo imprime. Después de ejecutar la función `h`, el valor global de `z_global` también se ha actualizado a 30, lo que significa que al imprimir `z_global` fuera de la función también se muestra 30. El keyword `global` permite que los cambios realizados dentro de la función afecten a la variable global en todo el programa."
      ],
      "metadata": {
        "id": "YI-4R8xXGaVF"
      }
    },
    {
      "cell_type": "code",
      "source": [
        "z_global = 20\n",
        "\n",
        "def h():\n",
        "\tglobal z_global\n",
        "\tz_global = 30\n",
        "\tprint(z_global)\n",
        "\n",
        "h()\n",
        "print(z_global)"
      ],
      "metadata": {
        "colab": {
          "base_uri": "https://localhost:8080/"
        },
        "id": "uWivC2NLGar6",
        "outputId": "305e9076-dc8a-4a74-cd26-77e230717ee4"
      },
      "execution_count": 144,
      "outputs": [
        {
          "output_type": "stream",
          "name": "stdout",
          "text": [
            "30\n",
            "30\n"
          ]
        }
      ]
    },
    {
      "cell_type": "markdown",
      "source": [
        "El keyword `nonlocal` se utiliza en Python para trabajar con variables que no son locales a una función, pero que tampoco son globales. Se usa principalmente en funciones anidadas para referirse a variables en un ámbito de cierre (en el ámbito de una función envolvente). Aquí tienes un ejemplo que ilustra cómo funciona:\n",
        "\n",
        "```python\n",
        "def r():\n",
        "    a_non_local = 10  # scope no local\n",
        "    def s():\n",
        "        nonlocal a_non_local\n",
        "        a_non_local = 20\n",
        "    s()\n",
        "    print(a_non_local)\n",
        "\n",
        "r()\n",
        "```\n",
        "\n",
        "En este caso, `a_non_local` se define dentro de la función `r` y tiene un **scope no local** a la función `s`, que está anidada dentro de `r`. Dentro de `s`, usamos el keyword `nonlocal` para indicar que queremos modificar la variable `a_non_local` que pertenece al ámbito de la función `r`, no una nueva variable local a `s`. Cuando `s` se ejecuta, cambia el valor de `a_non_local` a 20. Al imprimir `a_non_local` en la función `r` después de ejecutar `s`, se muestra 20, porque el keyword `nonlocal` asegura que `s` modifica la variable `a_non_local` en el ámbito de `r`, en lugar de crear una nueva variable local."
      ],
      "metadata": {
        "id": "m2KsGOcJGmB8"
      }
    },
    {
      "cell_type": "code",
      "source": [
        "def r():\n",
        "\ta_non_local = 10 # scope no local\n",
        "\tdef s():\n",
        "\t\tnonlocal a_non_local\n",
        "\t\ta_non_local= 20\n",
        "\ts()\n",
        "\tprint(a_non_local)\n",
        "\n",
        "r()"
      ],
      "metadata": {
        "colab": {
          "base_uri": "https://localhost:8080/"
        },
        "id": "XnQ3wRXZGmpX",
        "outputId": "322fc2de-0c12-40f1-dcba-3e7f552d49a6"
      },
      "execution_count": 145,
      "outputs": [
        {
          "output_type": "stream",
          "name": "stdout",
          "text": [
            "20\n"
          ]
        }
      ]
    },
    {
      "cell_type": "markdown",
      "source": [
        "## Estructuras de datos\n",
        "\n",
        "Una **estructura de datos** es una forma organizada de almacenar y gestionar datos en un sistema informático, permitiendo un acceso y modificación eficientes. Ejemplos comunes incluyen listas, pilas, colas, árboles y grafos. Cada estructura de datos está diseñada para optimizar ciertas operaciones como búsqueda, inserción, eliminación y ordenamiento."
      ],
      "metadata": {
        "id": "3-6A1Ra2o_vX"
      }
    },
    {
      "cell_type": "markdown",
      "source": [
        "\n",
        "\n",
        "### Listas\n",
        "\n",
        "En Python, una **lista** es una estructura de datos que permite almacenar una colección ordenada de elementos, los cuales pueden ser de diferentes tipos (números, cadenas, objetos, etc.). Las listas son mutables, lo que significa que puedes modificar sus elementos después de haberlas creado. Puedes acceder a los elementos de una lista utilizando índices, empezando desde 0 para el primer elemento. Aquí tienes un ejemplo:\n",
        "\n",
        "```python\n",
        "mi_lista = [1, \"hola\", 3.14, True]\n",
        "```\n",
        "\n",
        "En este ejemplo, `mi_lista` contiene un número entero, una cadena, un número flotante, y un valor booleano. Puedes agregar, eliminar o cambiar elementos en la lista según sea necesario.\n",
        "\n",
        "#### Iteración\n",
        "\n",
        "En Python, puedes **iterar** sobre una lista utilizando un bucle `for`. Esto te permite acceder a cada elemento de la lista uno por uno. Aquí tienes un ejemplo:\n",
        "\n",
        "```python\n",
        "mi_lista = [1, \"hola\", 3.14, True]\n",
        "\n",
        "for elemento in mi_lista:\n",
        "    print(elemento)\n",
        "```\n",
        "\n",
        "En este código, el bucle `for` recorre cada elemento de `mi_lista` y lo asigna a la variable `elemento`. Luego, `print(elemento)` muestra cada valor en la consola, uno por uno. Así, el bucle iterará sobre toda la lista hasta que no queden más elementos.\n",
        "\n",
        "#### Mutabilidad\n",
        "\n",
        "Una lista en Python se considera una estructura **mutable** porque puedes modificar su contenido después de haberla creado. Esto significa que puedes cambiar, agregar o eliminar elementos dentro de una lista sin necesidad de crear una nueva.\n",
        "\n",
        "Aquí tienes algunas operaciones que demuestran la mutabilidad de una lista:\n",
        "\n",
        "1. **Modificar un elemento**:\n",
        "   ```python\n",
        "   mi_lista = [1, 2, 3]\n",
        "   mi_lista[1] = 20  # Cambia el segundo elemento (índice 1) a 20\n",
        "   print(mi_lista)  # Output: [1, 20, 3]\n",
        "   ```\n",
        "\n",
        "2. **Agregar elementos**:\n",
        "   ```python\n",
        "   mi_lista.append(4)  # Agrega 4 al final de la lista\n",
        "   print(mi_lista)  # Output: [1, 20, 3, 4]\n",
        "   ```\n",
        "\n",
        "3. **Eliminar elementos**:\n",
        "   ```python\n",
        "   mi_lista.remove(20)  # Elimina el elemento 20 de la lista\n",
        "   print(mi_lista)  # Output: [1, 3, 4]\n",
        "   ```\n",
        "\n",
        "La mutabilidad de las listas es útil cuando necesitas una estructura de datos que pueda cambiar en respuesta a diferentes condiciones o entradas durante la ejecución de un programa."
      ],
      "metadata": {
        "id": "stQy5HU8YQHI"
      }
    },
    {
      "cell_type": "markdown",
      "source": [
        "### Tuplas\n",
        "\n",
        "Una **tupla** en Python es una estructura de datos que almacena una colección ordenada de elementos, similar a una lista, pero con una diferencia clave: las tuplas son **inmutables**. Esto significa que, una vez creadas, no puedes modificar, agregar o eliminar elementos de una tupla.\n",
        "\n",
        "Aquí tienes un ejemplo de una tupla:\n",
        "\n",
        "```python\n",
        "mi_tupla = (1, \"hola\", 3.14, True)\n",
        "```\n",
        "\n",
        "En este ejemplo, `mi_tupla` contiene cuatro elementos de diferentes tipos: un entero, una cadena, un número flotante, y un valor booleano. Como las listas, puedes acceder a los elementos de una tupla utilizando índices, empezando desde 0 para el primer elemento. Sin embargo, no puedes cambiar los elementos ni su orden después de que la tupla ha sido creada.\n",
        "\n",
        "Las tuplas son útiles cuando necesitas una colección de datos que no deba cambiar a lo largo del tiempo.\n",
        "\n",
        "#### Inmutabilidad\n",
        "\n",
        "Una tupla en Python es **inmutable** porque una vez que se ha creado, no puedes cambiar su contenido. Esto significa que no puedes modificar, agregar o eliminar elementos de una tupla después de su creación.\n",
        "\n",
        "Aquí están las razones por las cuales las tuplas son inmutables:\n",
        "\n",
        "1. **No se pueden cambiar los elementos**:\n",
        "   ```python\n",
        "   mi_tupla = (1, 2, 3)\n",
        "   # Intentar cambiar un elemento resultará en un error\n",
        "   mi_tupla[1] = 20  # Esto provocará un TypeError\n",
        "   ```\n",
        "\n",
        "2. **No se pueden agregar o eliminar elementos**:\n",
        "   ```python\n",
        "   mi_tupla = (1, 2, 3)\n",
        "   # Intentar agregar un elemento también provocará un error\n",
        "   mi_tupla.append(4)  # Esto provocará un AttributeError\n",
        "   ```\n",
        "\n",
        "3. **Beneficios de inmutabilidad**:\n",
        "   - **Seguridad**: Como los elementos no pueden cambiar, la tupla garantiza que su contenido permanezca constante.\n",
        "   - **Uso como clave en diccionarios**: Las tuplas pueden usarse como claves en diccionarios, mientras que las listas no, debido a que las tuplas son inmutables y, por lo tanto, son hashable.\n",
        "\n",
        "La inmutabilidad de las tuplas las hace adecuadas para representar datos que no deben cambiar, proporcionando una garantía adicional de estabilidad y seguridad en tu código.\n",
        "\n",
        "#### Tuplas y funciones\n",
        "\n",
        "En Python, las tuplas se utilizan en las funciones de varias maneras concretas:\n",
        "\n",
        "1. **Devolver múltiples valores**:\n",
        "   Puedes usar una tupla para devolver varios valores desde una función. Esto es útil cuando una función necesita proporcionar más de un resultado.\n",
        "\n",
        "   ```python\n",
        "   def calcular_datos():\n",
        "       suma = 10 + 5\n",
        "       diferencia = 10 - 5\n",
        "       return suma, diferencia  # Devuelve una tupla (15, 5)\n",
        "\n",
        "   resultado = calcular_datos()\n",
        "   print(resultado)  # Output: (15, 5)\n",
        "   ```\n",
        "\n",
        "2. **Desempaquetar tuplas**:\n",
        "   Puedes desempaquetar una tupla devuelta por una función en múltiples variables.\n",
        "\n",
        "   ```python\n",
        "   suma, diferencia = calcular_datos()\n",
        "   print(suma)        # Output: 15\n",
        "   print(diferencia)  # Output: 5\n",
        "   ```\n",
        "\n",
        "3. **Argumentos de función**:\n",
        "   Las tuplas también se pueden usar para pasar un número variable de argumentos a una función mediante el operador `*`.\n",
        "\n",
        "   ```python\n",
        "   def imprimir_elementos(*elementos):\n",
        "       for elemento in elementos:\n",
        "           print(elemento)\n",
        "\n",
        "   imprimir_elementos(1, 2, 3, \"hola\")\n",
        "   # Output:\n",
        "   # 1\n",
        "   # 2\n",
        "   # 3\n",
        "   # hola\n",
        "   ```\n",
        "\n",
        "4. **Parámetros de función**:\n",
        "   Puedes usar tuplas para pasar múltiples parámetros a una función mediante el operador `**` para recibir un número variable de argumentos con nombre, aunque esto es más comúnmente con diccionarios.\n",
        "\n",
        "   ```python\n",
        "   def mostrar_info(nombre, edad):\n",
        "       print(f\"Nombre: {nombre}, Edad: {edad}\")\n",
        "\n",
        "   info = (\"Juan\", 30)\n",
        "   mostrar_info(*info)  # Desempaqueta la tupla en argumentos\n",
        "   # Output: Nombre: Juan, Edad: 30\n",
        "   ```\n",
        "\n",
        "En resumen, las tuplas proporcionan una manera conveniente de manejar múltiples valores en funciones, ya sea devolviendo varios resultados, desempaquetando valores, o pasando argumentos."
      ],
      "metadata": {
        "id": "grwZu6wNpKAX"
      }
    },
    {
      "cell_type": "markdown",
      "source": [
        "### Diccionarios\n",
        "\n",
        "En Python, un **diccionario** es una estructura de datos que almacena pares de claves y valores. Cada clave en un diccionario es única, y se utiliza para acceder a su valor asociado. Los diccionarios son mutables, lo que significa que puedes cambiar, agregar o eliminar pares de claves y valores después de haberlos creado. Aquí tienes un ejemplo:\n",
        "\n",
        "```python\n",
        "mi_diccionario = {\n",
        "    \"nombre\": \"Juan\",\n",
        "    \"edad\": 30,\n",
        "    \"ciudad\": \"Madrid\"\n",
        "}\n",
        "```\n",
        "\n",
        "En este ejemplo, `mi_diccionario` tiene tres pares clave-valor: `\"nombre\"` es la clave asociada al valor `\"Juan\"`, `\"edad\"` a `30`, y `\"ciudad\"` a `\"Madrid\"`. Puedes acceder a los valores utilizando las claves, como `mi_diccionario[\"nombre\"]`, que devolverá `\"Juan\"`.\n",
        "\n",
        "### Iteración\n",
        "\n",
        "En Python, puedes iterar sobre un diccionario utilizando un bucle `for`. Dependiendo de lo que necesites, puedes iterar sobre las claves, los valores, o ambos. Aquí te muestro las tres formas más comunes:\n",
        "\n",
        "1. **Iterar sobre las claves:**\n",
        "\n",
        "   ```python\n",
        "   mi_diccionario = {\"nombre\": \"Juan\", \"edad\": 30, \"ciudad\": \"Madrid\"}\n",
        "\n",
        "   for clave in mi_diccionario:\n",
        "       print(clave)\n",
        "   ```\n",
        "\n",
        "   Esto imprimirá cada clave del diccionario: `\"nombre\"`, `\"edad\"`, `\"ciudad\"`.\n",
        "\n",
        "2. **Iterar sobre los valores:**\n",
        "\n",
        "   ```python\n",
        "   for valor in mi_diccionario.values():\n",
        "       print(valor)\n",
        "   ```\n",
        "\n",
        "   Esto imprimirá cada valor del diccionario: `\"Juan\"`, `30`, `\"Madrid\"`.\n",
        "\n",
        "3. **Iterar sobre las claves y valores:**\n",
        "\n",
        "   ```python\n",
        "   for clave, valor in mi_diccionario.items():\n",
        "       print(clave, \":\", valor)\n",
        "   ```\n",
        "\n",
        "   Esto imprimirá cada par clave-valor en el formato `clave: valor`, como `\"nombre: Juan\"`, `\"edad: 30\"`, `\"ciudad: Madrid\"`.\n",
        "\n",
        "   #### Argumentos variables\n",
        "\n",
        "   ¡Entendido! En Python, puedes usar `**kwargs` en una función para aceptar un número variable de argumentos con nombre (keyword arguments). Los argumentos se agrupan en un diccionario dentro de la función. Aquí te muestro cómo funciona:\n",
        "\n",
        "```python\n",
        "def describir_persona(**kwargs):\n",
        "    for clave, valor in kwargs.items():\n",
        "        print(f\"{clave}: {valor}\")\n",
        "\n",
        "describir_persona(nombre=\"Ana\", edad=25, ciudad=\"Barcelona\")\n",
        "```\n",
        "\n",
        "En este ejemplo, la función `describir_persona` utiliza `**kwargs` para aceptar cualquier cantidad de argumentos con nombre. Dentro de la función, `kwargs` se convierte en un diccionario que contiene los pares clave-valor pasados a la función. Luego, iteramos sobre este diccionario para imprimir cada clave y su valor asociado.\n",
        "\n",
        "Cuando llamas a la función con `describir_persona(nombre=\"Ana\", edad=25, ciudad=\"Barcelona\")`, la salida será:\n",
        "\n",
        "```\n",
        "nombre: Ana\n",
        "edad: 25\n",
        "ciudad: Barcelona\n",
        "```\n",
        "\n",
        "Este uso de `**kwargs` es útil cuando no sabes de antemano cuántos o cuáles argumentos se pasarán a la función."
      ],
      "metadata": {
        "id": "s3uZr5fTZ-u4"
      }
    },
    {
      "cell_type": "code",
      "source": [],
      "metadata": {
        "id": "Va9Lv_G1awT1"
      },
      "execution_count": 145,
      "outputs": []
    }
  ]
}