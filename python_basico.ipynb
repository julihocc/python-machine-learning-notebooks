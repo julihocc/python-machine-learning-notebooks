{
  "nbformat": 4,
  "nbformat_minor": 0,
  "metadata": {
    "colab": {
      "provenance": [],
      "toc_visible": true,
      "authorship_tag": "ABX9TyNMLE4kg76KIppGGRBsjiW2",
      "include_colab_link": true
    },
    "kernelspec": {
      "name": "python3",
      "display_name": "Python 3"
    },
    "language_info": {
      "name": "python"
    }
  },
  "cells": [
    {
      "cell_type": "markdown",
      "metadata": {
        "id": "view-in-github",
        "colab_type": "text"
      },
      "source": [
        "<a href=\"https://colab.research.google.com/github/julihocc/python-machine-learning-notebooks/blob/main/python_basico.ipynb\" target=\"_parent\"><img src=\"https://colab.research.google.com/assets/colab-badge.svg\" alt=\"Open In Colab\"/></a>"
      ]
    },
    {
      "cell_type": "markdown",
      "source": [
        "# Fundamentos de programación con Python\n"
      ],
      "metadata": {
        "id": "WKWrUKuDKJ5h"
      }
    },
    {
      "cell_type": "markdown",
      "source": [
        "## Primeros pasos"
      ],
      "metadata": {
        "id": "w2ad1ZCNBsMH"
      }
    },
    {
      "cell_type": "markdown",
      "source": [
        "### Como funciona una Libreta Jupyter\n",
        "\n",
        "Una libreta Jupyter, o \"Jupyter Notebook,\" es una aplicación web que permite crear y compartir documentos que contienen código ejecutable, visualizaciones, y texto narrativo en un formato interactivo. Es muy popular en entornos de ciencia de datos, aprendizaje automático, análisis de datos y educación. Aquí te explico cómo funciona:\n",
        "\n",
        "### 1. **Estructura de la Libreta Jupyter**\n",
        "   - **Celdas (Cells):** Una libreta Jupyter está dividida en celdas. Hay dos tipos principales de celdas:\n",
        "     - **Celdas de Código (Code Cells):** En estas celdas puedes escribir y ejecutar código en un lenguaje de programación soportado (generalmente Python, pero también R, Julia, etc.).\n",
        "     - **Celdas de Texto (Markdown Cells):** En estas celdas puedes escribir texto en formato Markdown para agregar descripciones, títulos, ecuaciones, imágenes, etc.\n",
        "  \n",
        "   - **Celdas de Salida:** Cuando ejecutas una celda de código, la salida (resultados, gráficos, errores) se muestra inmediatamente debajo de la celda.\n",
        "\n",
        "### 2. **Ejecutar Código**\n",
        "   - Puedes escribir y ejecutar código directamente en una celda de código. Al presionar `Shift + Enter`, el código se ejecuta y la salida se muestra justo debajo de la celda.\n",
        "   - Las celdas pueden ejecutarse en cualquier orden, pero es común seguir el flujo secuencial, de arriba hacia abajo.\n",
        "   - Los resultados de las ejecuciones anteriores se mantienen en la sesión, por lo que las variables y funciones definidas en celdas anteriores están disponibles para las celdas posteriores, a menos que reinicies el kernel.\n",
        "\n",
        "### 3. **Kernel**\n",
        "   - **Kernel:** Es el motor que ejecuta el código que escribes en las celdas de código. En Jupyter, el kernel más común es el de Python, pero puedes cambiar de kernel para usar otros lenguajes.\n",
        "   - Puedes reiniciar el kernel si quieres limpiar todas las variables y comenzar de nuevo desde cero. Esto es útil si encuentras errores difíciles de rastrear o si deseas comenzar con un entorno limpio.\n",
        "\n",
        "### 4. **Interactividad**\n",
        "   - **Widgets Interactivos:** Jupyter soporta widgets interactivos que te permiten crear aplicaciones simples y dinámicas dentro de la libreta, como controles deslizantes, menús desplegables, botones, etc.\n",
        "   - **Visualización de Datos:** Puedes generar gráficos interactivos y visualizaciones avanzadas dentro de la libreta usando bibliotecas como Matplotlib, Seaborn, Plotly, etc.\n",
        "\n",
        "### 5. **Documentación y Narrativa**\n",
        "   - **Markdown:** Puedes usar celdas Markdown para agregar comentarios, explicaciones, y documentación. Esto permite que las libretas Jupyter sean más que solo un conjunto de código; pueden ser reportes completos con análisis detallado.\n",
        "   - **LaTeX:** Jupyter también soporta LaTeX para escribir ecuaciones matemáticas con formato profesional.\n",
        "\n",
        "### 6. **Guardar y Compartir**\n",
        "   - **Guardar:** Las libretas se guardan en archivos con extensión `.ipynb` (IPython Notebook). Estos archivos pueden ser compartidos fácilmente con otros usuarios.\n",
        "   - **Exportar:** Puedes exportar la libreta a otros formatos como HTML, PDF, Markdown, etc., para su distribución o publicación.\n",
        "   - **Compartir en Línea:** Hay servicios como GitHub, NBViewer, o Google Colab que permiten visualizar y compartir libretas Jupyter en línea.\n",
        "\n",
        "### 7. **Extensiones y Plugins**\n",
        "   - Existen muchas extensiones y plugins que puedes instalar para mejorar la funcionalidad de Jupyter, como agregar botones de exportación rápida, mejorar la visualización de datos, o integrar nuevas herramientas.\n",
        "\n",
        "En resumen, una libreta Jupyter es una herramienta versátil y poderosa que combina código, texto, y visualizaciones en un solo documento interactivo, facilitando el proceso de análisis de datos y la creación de reportes."
      ],
      "metadata": {
        "id": "YDijSuALJQZD"
      }
    },
    {
      "cell_type": "code",
      "execution_count": 228,
      "metadata": {
        "colab": {
          "base_uri": "https://localhost:8080/"
        },
        "id": "yfxaE-StIYe6",
        "outputId": "99efc654-365e-44e8-a1cf-80d80771f42b"
      },
      "outputs": [
        {
          "output_type": "stream",
          "name": "stdout",
          "text": [
            "2\n"
          ]
        }
      ],
      "source": [
        "# Nuestra primer tarea será sumar dos números\n",
        "# e imprimirlos en la consola\n",
        "print(1+1)"
      ]
    },
    {
      "cell_type": "code",
      "source": [
        "# Para imprimir texto, necesitamos comillas dobles o sencillas\n",
        "print(\"¡Hola, mundo!\")\n",
        "print('Hola de nuevo')"
      ],
      "metadata": {
        "colab": {
          "base_uri": "https://localhost:8080/"
        },
        "id": "UOCaWaN8I13D",
        "outputId": "c126c0db-adf0-435b-eb04-18708b41ad0e"
      },
      "execution_count": 229,
      "outputs": [
        {
          "output_type": "stream",
          "name": "stdout",
          "text": [
            "¡Hola, mundo!\n",
            "Hola de nuevo\n"
          ]
        }
      ]
    },
    {
      "cell_type": "markdown",
      "source": [
        "## Tipos de datos"
      ],
      "metadata": {
        "id": "PVcuYvciJ6gs"
      }
    },
    {
      "cell_type": "markdown",
      "source": [
        "### Variables numéricas\n",
        "\n",
        "En Python, las variables numéricas son usadas para almacenar y manipular valores numéricos. Hay varios tipos de variables numéricas, cada una adecuada para diferentes propósitos. Aquí te explico los principales tipos:\n",
        "\n",
        "### 1. **Enteros (`int`):**\n",
        "   - **Descripción:** Representan números enteros sin parte decimal. Pueden ser positivos o negativos.\n",
        "   - **Ejemplo:** `x = 5`, `y = -10`\n",
        "   - **Características:** Los enteros en Python tienen precisión arbitraria, lo que significa que pueden ser muy grandes sin perder precisión.\n",
        "\n",
        "### 2. **Números de Punto Flotante (`float`):**\n",
        "   - **Descripción:** Representan números que tienen una parte decimal. Son usados para valores que requieren precisión decimal.\n",
        "   - **Ejemplo:** `a = 3.14`, `b = -0.001`\n",
        "   - **Características:** Los floats en Python son números en punto flotante de doble precisión (usualmente 64 bits) y están sujetos a limitaciones de precisión debido a la forma en que se representan internamente.\n",
        "\n",
        "### 3. **Números Complejos (`complex`):**\n",
        "   - **Descripción:** Representan números complejos con una parte real y una parte imaginaria.\n",
        "   - **Ejemplo:** `z = 3 + 4j`\n",
        "   - **Características:** Los números complejos tienen una parte real y una parte imaginaria, y se representan con el sufijo `j` para la parte imaginaria en Python.\n",
        "\n",
        "### Operaciones Básicas con Variables Numéricas:\n",
        "\n",
        "- **Aritmética Básica:** Puedes realizar operaciones básicas como suma (`+`), resta (`-`), multiplicación (`*`), división (`/`), y módulo (`%`) con variables numéricas.\n",
        "  - Ejemplo: `5 + 3` da `8`, `7 / 2` da `3.5`\n",
        "\n",
        "- **Operadores Aritméticos Avanzados:** También puedes usar operaciones como exponenciación (`**`) y división entera (`//`).\n",
        "  - Ejemplo: `2 ** 3` da `8`, `7 // 2` da `3`\n",
        "\n",
        "- **Conversión entre Tipos:** Puedes convertir entre enteros y flotantes usando `int()` y `float()`.\n",
        "  - Ejemplo: `int(3.14)` da `3`, `float(5)` da `5.0`\n",
        "\n",
        "### Ejemplos de Uso:\n",
        "\n",
        "```python\n",
        "# Enteros\n",
        "x = 10\n",
        "y = -3\n",
        "print(x + y)  # Resultado: 7\n",
        "\n",
        "# Flotantes\n",
        "a = 2.5\n",
        "b = 3.14\n",
        "print(a * b)  # Resultado: 7.85\n",
        "\n",
        "# Números Complejos\n",
        "z = 1 + 2j\n",
        "w = 3 + 4j\n",
        "print(z + w)  # Resultado: (4+6j)\n",
        "```\n",
        "\n",
        "Cada tipo numérico tiene características específicas que los hacen adecuados para diferentes tipos de cálculos y aplicaciones en programación."
      ],
      "metadata": {
        "id": "tAiE4eKSB1MH"
      }
    },
    {
      "cell_type": "markdown",
      "source": [
        "Este código asigna el valor `2` a la variable `n`, luego imprime tanto el valor de `n` como su tipo de dato, que es `int` en este caso."
      ],
      "metadata": {
        "id": "6KK0-k3-_Yze"
      }
    },
    {
      "cell_type": "code",
      "source": [
        "n = 2\n",
        "print(n)\n",
        "print(type(n))\n"
      ],
      "metadata": {
        "colab": {
          "base_uri": "https://localhost:8080/"
        },
        "id": "n_pzsRppJ81x",
        "outputId": "a25fd2fb-1c02-4bcc-8b9e-39bd3fab79fd"
      },
      "execution_count": 230,
      "outputs": [
        {
          "output_type": "stream",
          "name": "stdout",
          "text": [
            "2\n",
            "<class 'int'>\n"
          ]
        }
      ]
    },
    {
      "cell_type": "markdown",
      "source": [
        "En este código, se asigna un valor muy largo y preciso a la variable `x`. Sin embargo, Python lo redondea automáticamente a la precisión disponible para los números de punto flotante (`float`). Al imprimir `x`, verás que el valor ha sido redondeado a `2.0`, y el tipo de dato será `float`, indicando que `x` es tratado como un número de punto flotante."
      ],
      "metadata": {
        "id": "Wh8DIGsa_dR8"
      }
    },
    {
      "cell_type": "code",
      "source": [
        "\n",
        "x = 1.9999999999999999999999999999999999999999999999999999999999999999999999999999999999999999999999999999999999999999999999999999999999999999999999999999999999999\n",
        "print(x)\n",
        "print(type(x))\n"
      ],
      "metadata": {
        "colab": {
          "base_uri": "https://localhost:8080/"
        },
        "id": "jjGosaw4Kl2D",
        "outputId": "8babfff7-36af-4dfc-b617-25c701bcb58e"
      },
      "execution_count": 231,
      "outputs": [
        {
          "output_type": "stream",
          "name": "stdout",
          "text": [
            "2.0\n",
            "<class 'float'>\n"
          ]
        }
      ]
    },
    {
      "cell_type": "markdown",
      "source": [
        "Este código compara la variable `n`, que tiene el valor `2`, con la variable `x`, que fue redondeada a `2.0`. La comparación `n == x` evaluará si ambos valores son iguales. Dado que Python trata a `2` y `2.0` como equivalentes en comparaciones, la expresión devolverá `True`."
      ],
      "metadata": {
        "id": "0zq9oXwW_hpK"
      }
    },
    {
      "cell_type": "code",
      "source": [
        "\n",
        "print(n==x)\n"
      ],
      "metadata": {
        "colab": {
          "base_uri": "https://localhost:8080/"
        },
        "id": "Dar8551yKov7",
        "outputId": "ff9fd35b-36db-4271-a6a7-60f95b4d0ecb"
      },
      "execution_count": 232,
      "outputs": [
        {
          "output_type": "stream",
          "name": "stdout",
          "text": [
            "True\n"
          ]
        }
      ]
    },
    {
      "cell_type": "markdown",
      "source": [
        "### Cadenas de Caracteres\n",
        "\n",
        "Una cadena de caracteres, o simplemente \"cadena\", es una secuencia de caracteres que se utilizan para representar texto en programación. En Python y otros lenguajes de programación, una cadena es un tipo de dato fundamental que se usa para almacenar y manipular texto.\n",
        "\n",
        "### Características de las Cadenas de Caracteres:\n",
        "\n",
        "1. **Definición:**\n",
        "   - Las cadenas se definen colocando texto entre comillas simples (`'`) o dobles (`\"`). Por ejemplo, `'hola'` o `\"hola\"`.\n",
        "\n",
        "2. **Inmutabilidad:**\n",
        "   - Las cadenas son inmutables, lo que significa que una vez que se crea una cadena, su contenido no puede ser modificado. Cualquier operación que parezca modificar una cadena en realidad crea una nueva cadena.\n",
        "\n",
        "3. **Indexación:**\n",
        "   - Los caracteres en una cadena están indexados, comenzando desde `0`. Puedes acceder a un carácter específico usando su índice. Por ejemplo, en la cadena `\"hola\"`, el carácter en el índice `0` es `'h'`.\n",
        "\n",
        "4. **Operaciones Comunes:**\n",
        "   - **Concatenación:** Puedes unir varias cadenas usando el operador `+`. Por ejemplo, `'hola' + ' mundo'` resulta en `'hola mundo'`.\n",
        "   - **Repetición:** Puedes repetir una cadena un número determinado de veces usando el operador `*`. Por ejemplo, `'ho' * 3` resulta en `'hohoho'`.\n",
        "   - **Slicing:** Puedes obtener una subcadena usando el operador de corte `[inicio:fin]`. Por ejemplo, `'hola'[1:4]` resulta en `'ola'`.\n",
        "\n",
        "5. **Métodos:**\n",
        "   - Las cadenas tienen varios métodos incorporados para manipular texto, como `.upper()`, `.lower()`, `.strip()`, `.replace()`, `.split()`, y `.join()`. Estos métodos permiten transformar y analizar cadenas de manera eficiente.\n",
        "\n",
        "6. **Interpolación:**\n",
        "   - Las cadenas pueden incluir valores de variables mediante la interpolación o formateo. En Python, puedes usar f-strings (`f\"texto {variable}\"`), el método `.format()`, o el operador `%` para formatear cadenas.\n",
        "\n",
        "Las cadenas son esenciales para trabajar con texto en programación y se utilizan en una variedad de aplicaciones, desde la manipulación de datos hasta la generación de salidas en interfaces de usuario."
      ],
      "metadata": {
        "id": "viV73xodB_WI"
      }
    },
    {
      "cell_type": "markdown",
      "source": [
        "Aquí se asigna el valor `\"2\"` a la variable `s`. El valor está entre comillas, lo que indica que es una cadena de texto. Al imprimir `s`, verás el texto `\"2\"`, y al imprimir `type(s)`, el resultado será `str`, mostrando que `s` es una cadena."
      ],
      "metadata": {
        "id": "PkudyFyT__62"
      }
    },
    {
      "cell_type": "code",
      "source": [
        "s = \"2\"\n",
        "print(s)\n",
        "print(type(s))"
      ],
      "metadata": {
        "colab": {
          "base_uri": "https://localhost:8080/"
        },
        "id": "QB_lQVDYKq3f",
        "outputId": "a615fcd9-d764-4b3d-aa16-430c6b8782fd"
      },
      "execution_count": 233,
      "outputs": [
        {
          "output_type": "stream",
          "name": "stdout",
          "text": [
            "2\n",
            "<class 'str'>\n"
          ]
        }
      ]
    },
    {
      "cell_type": "markdown",
      "source": [
        "Este código compara la variable `s`, que es una cadena de texto con el valor `\"2\"`, con la variable `n`, que es un número entero con el valor `2`. La comparación `s == n` evaluará si ambos valores son iguales. Dado que `s` es una cadena y `n` es un número entero, la comparación devolverá `False` porque los tipos de datos son diferentes."
      ],
      "metadata": {
        "id": "dFgSe6K7AEjO"
      }
    },
    {
      "cell_type": "code",
      "source": [
        "print(s==n)"
      ],
      "metadata": {
        "colab": {
          "base_uri": "https://localhost:8080/"
        },
        "id": "WfQ2kz6U_3Um",
        "outputId": "130dc69e-dcb1-408b-ebc8-d12655830e27"
      },
      "execution_count": 234,
      "outputs": [
        {
          "output_type": "stream",
          "name": "stdout",
          "text": [
            "False\n"
          ]
        }
      ]
    },
    {
      "cell_type": "markdown",
      "source": [
        "Aquí, la variable `s`, que es una cadena de texto con el valor `\"2\"`, se convierte en un número entero usando la función `int()`. El valor convertido se asigna a la variable `s_int`. Al imprimir `s_int`, verás el número `2`, y al imprimir `type(s_int)`, el resultado será `int`, indicando que `s_int` es un número entero."
      ],
      "metadata": {
        "id": "obzZufWfAJsp"
      }
    },
    {
      "cell_type": "code",
      "source": [
        "s_int = int(s)\n",
        "print(s_int)\n",
        "print(type(s_int))"
      ],
      "metadata": {
        "colab": {
          "base_uri": "https://localhost:8080/"
        },
        "id": "KkMT65_3_3LS",
        "outputId": "973fa0d1-046d-4296-bedb-a295ee4adfaa"
      },
      "execution_count": 235,
      "outputs": [
        {
          "output_type": "stream",
          "name": "stdout",
          "text": [
            "2\n",
            "<class 'int'>\n"
          ]
        }
      ]
    },
    {
      "cell_type": "markdown",
      "source": [
        "Este código compara `s_int`, que es el número entero `2` obtenido al convertir la cadena `\"2\"`, con `n`, que también es el número entero `2`. La comparación `s_int == n` devolverá `True`, ya que ambos valores son iguales y ambos son enteros."
      ],
      "metadata": {
        "id": "wyiTmDOGANSw"
      }
    },
    {
      "cell_type": "code",
      "source": [
        "print(s_int==n)"
      ],
      "metadata": {
        "colab": {
          "base_uri": "https://localhost:8080/"
        },
        "id": "nYINo1jh_3Bo",
        "outputId": "be37941f-7496-4a96-f2ff-1e3295413f48"
      },
      "execution_count": 236,
      "outputs": [
        {
          "output_type": "stream",
          "name": "stdout",
          "text": [
            "True\n"
          ]
        }
      ]
    },
    {
      "cell_type": "markdown",
      "source": [
        "### Booleanos\n",
        "\n",
        "En Python, los booleanos son un tipo de dato que se utiliza para representar valores de verdad. Hay dos valores booleanos en Python:\n",
        "\n",
        "1. **`True`:** Representa una afirmación verdadera.\n",
        "2. **`False`:** Representa una afirmación falsa.\n",
        "\n",
        "### Características de los Booleanos:\n",
        "\n",
        "- **Tipo de Dato:**\n",
        "  - Los valores booleanos tienen el tipo de dato `bool`.\n",
        "  \n",
        "- **Operaciones Booleanas:**\n",
        "  - **Comparaciones:** Las comparaciones entre valores, como `==`, `!=`, `>`, `<`, `>=`, `<=`, devuelven valores booleanos.\n",
        "    - Ejemplo: `5 > 3` devuelve `True`.\n",
        "  \n",
        "  - **Operadores Lógicos:** Los operadores lógicos permiten combinar o invertir valores booleanos.\n",
        "    - **`and`:** Devuelve `True` solo si ambas expresiones son `True`.\n",
        "      - Ejemplo: `True and False` devuelve `False`.\n",
        "    - **`or`:** Devuelve `True` si al menos una de las expresiones es `True`.\n",
        "      - Ejemplo: `True or False` devuelve `True`.\n",
        "    - **`not`:** Invierte el valor booleano. Devuelve `True` si la expresión es `False`, y viceversa.\n",
        "      - Ejemplo: `not True` devuelve `False`.\n",
        "  \n",
        "- **Conversiones:**\n",
        "  - Puedes convertir otros tipos de datos a booleanos usando la función `bool()`. Los valores como `0`, `0.0`, `None`, `[]`, `{}`, y `''` se convierten en `False`, mientras que otros valores se convierten en `True`.\n",
        "    - Ejemplo: `bool(0)` devuelve `False`, `bool(1)` devuelve `True`.\n",
        "\n",
        "### Ejemplos de Uso:\n",
        "\n",
        "```python\n",
        "# Comparaciones\n",
        "print(5 > 3)  # Resultado: True\n",
        "print(2 == 3)  # Resultado: False\n",
        "\n",
        "# Operadores lógicos\n",
        "print(True and False)  # Resultado: False\n",
        "print(True or False)   # Resultado: True\n",
        "print(not True)        # Resultado: False\n",
        "\n",
        "# Conversiones a booleano\n",
        "print(bool(0))         # Resultado: False\n",
        "print(bool(5))         # Resultado: True\n",
        "print(bool('text'))   # Resultado: True\n",
        "print(bool(''))       # Resultado: False\n",
        "```\n",
        "\n",
        "Los booleanos son fundamentales en la programación para tomar decisiones y controlar el flujo de los programas a través de estructuras de control como condicionales y bucles.\n",
        "\n",
        "Este código imprime los valores booleanos `True` y `False`, junto con su tipo de dato. `True` y `False` son valores booleanos en Python y tienen el tipo `bool`. Al ejecutar este código, verás `True <class 'bool'>` y `False <class 'bool'>`, mostrando que ambos valores son de tipo booleano."
      ],
      "metadata": {
        "id": "NeA-L1o8ARr3"
      }
    },
    {
      "cell_type": "code",
      "source": [
        "print(True, type(True))\n",
        "print(False, type(False))"
      ],
      "metadata": {
        "colab": {
          "base_uri": "https://localhost:8080/"
        },
        "id": "etL7XzncAOvk",
        "outputId": "bd694c05-a742-4607-e3e1-1b4317cfb39e"
      },
      "execution_count": 237,
      "outputs": [
        {
          "output_type": "stream",
          "name": "stdout",
          "text": [
            "True <class 'bool'>\n",
            "False <class 'bool'>\n"
          ]
        }
      ]
    },
    {
      "cell_type": "markdown",
      "source": [
        "Este código realiza y muestra el resultado de varias comparaciones booleanas:\n",
        "\n",
        "- `2 > 1` evalúa si `2` es mayor que `1`. Devuelve `True`.\n",
        "- `2 == 1` evalúa si `2` es igual a `1`. Devuelve `False`.\n",
        "- `2 != 1` evalúa si `2` es diferente de `1`. Devuelve `True`.\n",
        "- `2 < 1` evalúa si `2` es menor que `1`. Devuelve `False`.\n",
        "- `2 >= 1` evalúa si `2` es mayor o igual a `1`. Devuelve `True`.\n",
        "- `2 <= 1` evalúa si `2` es menor o igual a `1`. Devuelve `False`."
      ],
      "metadata": {
        "id": "wXLLCB1zAdjX"
      }
    },
    {
      "cell_type": "code",
      "source": [
        "print(2>1)\n",
        "print(2==1)\n",
        "print(2!=1)\n",
        "print(2<1)\n",
        "print(2>=1)\n",
        "print(2<=1)"
      ],
      "metadata": {
        "colab": {
          "base_uri": "https://localhost:8080/"
        },
        "id": "DLvsTBqmAZB_",
        "outputId": "babfaa3b-c726-49f2-97cd-712e866e28ad"
      },
      "execution_count": 238,
      "outputs": [
        {
          "output_type": "stream",
          "name": "stdout",
          "text": [
            "True\n",
            "False\n",
            "True\n",
            "False\n",
            "True\n",
            "False\n"
          ]
        }
      ]
    },
    {
      "cell_type": "markdown",
      "source": [
        "Este código convierte los valores booleanos `True` y `False` a enteros usando la función `int()`. En Python, `True` se convierte en `1` y `False` se convierte en `0`. Así que `int(True)` imprimirá `1`, y `int(False)` imprimirá `0`."
      ],
      "metadata": {
        "id": "L_qZ0KnEAiWL"
      }
    },
    {
      "cell_type": "code",
      "source": [
        "print(int(True))\n",
        "print(int(False))"
      ],
      "metadata": {
        "colab": {
          "base_uri": "https://localhost:8080/"
        },
        "id": "TyyZwjMjKt50",
        "outputId": "5dd0902c-951e-4d5b-931b-3e99fc53cdb5"
      },
      "execution_count": 239,
      "outputs": [
        {
          "output_type": "stream",
          "name": "stdout",
          "text": [
            "1\n",
            "0\n"
          ]
        }
      ]
    },
    {
      "cell_type": "markdown",
      "source": [
        "Este código suma los valores booleanos `True` y `True`. En Python, `True` se trata como `1` en operaciones aritméticas, por lo que `True + True` es equivalente a `1 + 1`, lo que da como resultado `2`."
      ],
      "metadata": {
        "id": "hzwRqTA5AlG1"
      }
    },
    {
      "cell_type": "code",
      "source": [
        "print(True+True)"
      ],
      "metadata": {
        "colab": {
          "base_uri": "https://localhost:8080/"
        },
        "id": "fYnbWosZAmtf",
        "outputId": "fa9a0376-c09d-4a3c-a2cb-5df6404e4436"
      },
      "execution_count": 240,
      "outputs": [
        {
          "output_type": "stream",
          "name": "stdout",
          "text": [
            "2\n"
          ]
        }
      ]
    },
    {
      "cell_type": "markdown",
      "source": [],
      "metadata": {
        "id": "pVBrBGtGBjgQ"
      }
    },
    {
      "cell_type": "markdown",
      "source": [
        "## Operaciones aritméticas\n"
      ],
      "metadata": {
        "id": "3Yuq00vUCx5B"
      }
    },
    {
      "cell_type": "markdown",
      "source": [
        "1. **Suma:**\n",
        "   - Se calcula la suma de `x` y `y` y se asigna a la variable `suma`. La operación `x + y` resulta en `10`. Al imprimir `suma`, se muestra el valor `10` y el tipo de dato será `int`, que indica que es un número entero.\n",
        "\n",
        "2. **Resta:**\n",
        "   - Se calcula la resta de `x` y `y` y se asigna a la variable `resta`. La operación `x - y` resulta en `4`. Al imprimir `resta`, se muestra el valor `4` y el tipo de dato será `int`.\n",
        "\n",
        "3. **Multiplicación:**\n",
        "   - Se calcula la multiplicación de `x` y `y` y se asigna a la variable `multiplicacion`. La operación `x * y` resulta en `21`. Al imprimir `multiplicacion`, se muestra el valor `21` y el tipo de dato será `int`."
      ],
      "metadata": {
        "id": "11Wi3eZOC-Tw"
      }
    },
    {
      "cell_type": "code",
      "source": [
        "x = 7\n",
        "y = 3\n",
        "suma = x+y\n",
        "print(suma, type(suma))\n",
        "resta = x-y\n",
        "print(resta, type(resta))\n",
        "multiplicacion = x*y\n",
        "print(multiplicacion, type(multiplicacion))"
      ],
      "metadata": {
        "colab": {
          "base_uri": "https://localhost:8080/"
        },
        "id": "IeNoNpUlDHoR",
        "outputId": "32d247d1-1254-452f-9c75-ce3e29cbb684"
      },
      "execution_count": 241,
      "outputs": [
        {
          "output_type": "stream",
          "name": "stdout",
          "text": [
            "10 <class 'int'>\n",
            "4 <class 'int'>\n",
            "21 <class 'int'>\n"
          ]
        }
      ]
    },
    {
      "cell_type": "markdown",
      "source": [
        "1. **División:**\n",
        "   - Se realiza la división de `x` entre `y` y el resultado se asigna a la variable `division`. La operación `x / y` resulta en `2.3333333333333335`. Al imprimir `division`, se muestra el valor `2.3333333333333335` y el tipo de dato será `float`, ya que el resultado de la división es un número de punto flotante.\n",
        "\n",
        "2. **División Entera:**\n",
        "   - Se realiza la división entera de `x` entre `y` y el resultado se asigna a la variable `division_entera`. La operación `x // y` resulta en `2`. Al imprimir `division_entera`, se muestra el valor `2` y el tipo de dato será `int`, ya que la división entera devuelve un número entero truncado.\n",
        "\n",
        "3. **Residuo:**\n",
        "   - Se calcula el residuo de la división de `x` entre `y` y el resultado se asigna a la variable `residuo`. La operación `x % y` resulta en `1`. Al imprimir `residuo`, se muestra el valor `1` y el tipo de dato será `int`, ya que el residuo de una división es un número entero."
      ],
      "metadata": {
        "id": "sxIiFT8WDTFr"
      }
    },
    {
      "cell_type": "code",
      "source": [
        "division = x/y\n",
        "print(division, type(division))\n",
        "division_entera = x//y\n",
        "print(division_entera, type(division_entera))\n",
        "residuo = x%y\n",
        "print(residuo, type(residuo))"
      ],
      "metadata": {
        "colab": {
          "base_uri": "https://localhost:8080/"
        },
        "id": "68_8meYlDWFA",
        "outputId": "01bb1f8d-2acd-444a-ae71-ef2ed8e3856e"
      },
      "execution_count": 242,
      "outputs": [
        {
          "output_type": "stream",
          "name": "stdout",
          "text": [
            "2.3333333333333335 <class 'float'>\n",
            "2 <class 'int'>\n",
            "1 <class 'int'>\n"
          ]
        }
      ]
    },
    {
      "cell_type": "markdown",
      "source": [
        "En este código, se concatenan dos cadenas de texto:\n",
        "\n",
        "1. La variable `saludo` contiene el texto `\"Hola\"`.\n",
        "2. La variable `nombre` contiene el texto `\"mundo\"`.\n",
        "\n",
        "La operación `saludo + \" \" + nombre` une las dos cadenas con un espacio en blanco entre ellas, resultando en `\"Hola mundo\"`. Al imprimir el resultado, se muestra el texto `\"Hola mundo\"`."
      ],
      "metadata": {
        "id": "JUzPdoxTDddX"
      }
    },
    {
      "cell_type": "code",
      "source": [
        "saludo = \"Hola\"\n",
        "nombre = \"mundo\"\n",
        "print(saludo+\" \"+nombre)"
      ],
      "metadata": {
        "colab": {
          "base_uri": "https://localhost:8080/"
        },
        "id": "ZN7xg0IjDePy",
        "outputId": "5dcbc358-de70-4c62-ba40-abbe0acf0c82"
      },
      "execution_count": 243,
      "outputs": [
        {
          "output_type": "stream",
          "name": "stdout",
          "text": [
            "Hola mundo\n"
          ]
        }
      ]
    },
    {
      "cell_type": "markdown",
      "source": [
        "1. **Intento de Restar Cadenas:**\n",
        "   - Se intenta restar la variable `nombre` de la variable `saludo` usando `saludo - nombre`. En Python, la resta no está definida para cadenas de caracteres, por lo que esto causará un error.\n",
        "\n",
        "2. **Manejo de Excepciones:**\n",
        "   - El bloque `try` captura el error que ocurre durante la operación de resta. Cuando se produce una excepción, el control pasa al bloque `except`.\n",
        "\n",
        "3. **Mensaje de Error:**\n",
        "   - El bloque `except` imprime el mensaje `\"No puedo restar cadenas de caracteres\"`, indicando que la operación de resta no es válida para cadenas."
      ],
      "metadata": {
        "id": "y92YBRU2Di_w"
      }
    },
    {
      "cell_type": "code",
      "source": [
        "try:\n",
        "\tprint(saludo-nombre)\n",
        "except:\n",
        "\tprint(\"No puedo restar cadenas de caracteres\")"
      ],
      "metadata": {
        "colab": {
          "base_uri": "https://localhost:8080/"
        },
        "id": "36uDC7TGDmI4",
        "outputId": "fc3d0ccc-70c6-46b5-a5ca-d48b77f36e29"
      },
      "execution_count": 244,
      "outputs": [
        {
          "output_type": "stream",
          "name": "stdout",
          "text": [
            "No puedo restar cadenas de caracteres\n"
          ]
        }
      ]
    },
    {
      "cell_type": "markdown",
      "source": [
        "## Funciones\n",
        "\n",
        "En Python, las funciones son bloques de código reutilizables diseñados para realizar una tarea específica. Permiten organizar y estructurar el código, haciéndolo más modular, legible y mantenible. Aquí te explico los conceptos básicos sobre las funciones en Python:\n",
        "\n",
        "### Definición de Funciones\n",
        "\n",
        "- **Sintaxis:**\n",
        "  Para definir una función, se usa la palabra clave `def`, seguida del nombre de la función, paréntesis con parámetros (si los hay) y dos puntos. El cuerpo de la función se escribe indentado debajo de la definición.\n",
        "  ```python\n",
        "  def nombre_funcion(parametros):\n",
        "      # Cuerpo de la función\n",
        "      pass  # 'pass' es un marcador de posición que no hace nada\n",
        "  ```\n",
        "\n",
        "- **Ejemplo:**\n",
        "  ```python\n",
        "  def saludar(nombre):\n",
        "      print(f\"Hola, {nombre}!\")\n",
        "  ```\n",
        "\n",
        "### Llamada a Funciones\n",
        "\n",
        "- **Sintaxis:**\n",
        "  Una vez que una función está definida, puedes llamarla usando su nombre seguido de paréntesis. Si la función requiere parámetros, debes pasarlos dentro de los paréntesis.\n",
        "  ```python\n",
        "  saludar(\"Ana\")  # Imprime: Hola, Ana!\n",
        "  ```\n",
        "\n",
        "### Parámetros y Argumentos\n",
        "\n",
        "- **Parámetros:** Son las variables que se definen en la firma de la función y que recibirán los valores cuando la función sea llamada.\n",
        "  ```python\n",
        "  def sumar(a, b):  # 'a' y 'b' son parámetros\n",
        "      return a + b\n",
        "  ```\n",
        "\n",
        "- **Argumentos:** Son los valores que se pasan a la función cuando se llama.\n",
        "  ```python\n",
        "  resultado = sumar(3, 5)  # 3 y 5 son argumentos\n",
        "  ```\n",
        "\n",
        "### Valor de Retorno\n",
        "\n",
        "- Las funciones pueden devolver un valor usando la palabra clave `return`. Si no se especifica un valor de retorno, la función devuelve `None` por defecto.\n",
        "  ```python\n",
        "  def multiplicar(a, b):\n",
        "      return a * b\n",
        "  ```\n",
        "\n",
        "### Funciones con Valores Predeterminados\n",
        "\n",
        "- Puedes definir valores predeterminados para los parámetros, que se utilizan si no se proporciona un valor al llamar a la función.\n",
        "  ```python\n",
        "  def saludar(nombre=\"mundo\"):\n",
        "      print(f\"Hola, {nombre}!\")\n",
        "  ```\n",
        "\n",
        "### Funciones Anónimas (Lambdas)\n",
        "\n",
        "- Las funciones anónimas, o lambdas, son funciones pequeñas y sin nombre que se definen con la palabra clave `lambda`. Se usan para operaciones simples que no requieren una definición completa de función.\n",
        "  ```python\n",
        "  suma = lambda a, b: a + b\n",
        "  print(suma(2, 3))  # Imprime: 5\n",
        "  ```\n",
        "\n",
        "### Funciones de Orden Superior\n",
        "\n",
        "- Las funciones en Python pueden aceptar otras funciones como argumentos y devolver funciones como resultados. Esto permite crear funciones más abstractas y flexibles.\n",
        "  ```python\n",
        "  def aplicar_funcion(func, valor):\n",
        "      return func(valor)\n",
        "\n",
        "  def cuadrado(x):\n",
        "      return x * x\n",
        "\n",
        "  print(aplicar_funcion(cuadrado, 5))  # Imprime: 25\n",
        "  ```\n",
        "\n",
        "### Ejemplo Completo\n",
        "\n",
        "Aquí tienes un ejemplo que muestra algunos de estos conceptos:\n",
        "\n",
        "```python\n",
        "# Definición de una función con parámetros y valor de retorno\n",
        "def sumar(a, b=0):\n",
        "    return a + b\n",
        "\n",
        "# Llamada a la función con un argumento\n",
        "resultado = sumar(5)\n",
        "print(resultado)  # Imprime: 5\n",
        "\n",
        "# Llamada a la función con dos argumentos\n",
        "resultado = sumar(5, 10)\n",
        "print(resultado)  # Imprime: 15\n",
        "```\n",
        "\n",
        "Las funciones son esenciales para escribir código limpio y eficiente, facilitando la reutilización y la organización del código."
      ],
      "metadata": {
        "id": "-uRPOcDwDwkJ"
      }
    },
    {
      "cell_type": "markdown",
      "source": [
        "Este código define una función llamada `division` que realiza la división de dos números `a` y `b`. Aquí está el detalle de su funcionamiento:\n",
        "\n",
        "1. **Definición de la Función:**\n",
        "   - La función `division` toma dos parámetros: `a` (el numerador) y `b` (el denominador).\n",
        "\n",
        "2. **Manejo de Excepciones:**\n",
        "   - La función utiliza un bloque `try` para intentar ejecutar la división `a / b`.\n",
        "   - Si ocurre una excepción durante la división, específicamente un `ZeroDivisionError` (que ocurre cuando `b` es `0`), el bloque `except` captura la excepción.\n",
        "   - En caso de error, imprime un mensaje de error que incluye la descripción del problema.\n",
        "\n",
        "### Comportamiento de la Función\n",
        "\n",
        "- **División Exitosa:**\n",
        "  - Si `b` no es `0`, la división se realiza y el resultado se devuelve.\n",
        "\n",
        "- **División por Cero:**\n",
        "  - Si `b` es `0`, se captura la excepción `ZeroDivisionError`, y se imprime un mensaje indicando que ocurrió un error, pero la función no devuelve un valor en este caso.\n",
        "\n",
        "Este enfoque maneja el caso en que el denominador es cero y proporciona una forma de notificar al usuario del error sin que el programa se detenga abruptamente.\n",
        "\n",
        "### Ejemplo de Uso\n",
        "\n",
        "```python\n",
        "print(division(10, 2))  # Imprime: 5.0\n",
        "print(division(10, 0))  # Imprime: Algo salió mal:  division by zero\n",
        "```"
      ],
      "metadata": {
        "id": "P90rn62oECDz"
      }
    },
    {
      "cell_type": "code",
      "source": [
        "def division(a,b):\n",
        "\t# if b==0:\n",
        "\t# \tprint(\"El denominador no puede ser cero\")\n",
        "\t# \treturn\n",
        "\t# resultado = a/b\n",
        "\t# return resultado\n",
        "\ttry:\n",
        "\t\treturn a/b\n",
        "\texcept ZeroDivisionError as e:\n",
        "\t\tprint(\"Algo salió mal: \", e)"
      ],
      "metadata": {
        "id": "cQs4ybNMECa7"
      },
      "execution_count": 245,
      "outputs": []
    },
    {
      "cell_type": "code",
      "source": [
        "print(division(10, 2))  # Imprime: 5.0"
      ],
      "metadata": {
        "colab": {
          "base_uri": "https://localhost:8080/"
        },
        "id": "DutfesdGEKtb",
        "outputId": "11207c45-be34-4364-f282-3f83352988a2"
      },
      "execution_count": 246,
      "outputs": [
        {
          "output_type": "stream",
          "name": "stdout",
          "text": [
            "5.0\n"
          ]
        }
      ]
    },
    {
      "cell_type": "code",
      "source": [
        "print(division(10, 0))  # Imprime: Algo salió mal:  division by zero"
      ],
      "metadata": {
        "colab": {
          "base_uri": "https://localhost:8080/"
        },
        "id": "UUpmlhghEM_K",
        "outputId": "54325883-1a30-4085-f48d-c1266ac29d82"
      },
      "execution_count": 247,
      "outputs": [
        {
          "output_type": "stream",
          "name": "stdout",
          "text": [
            "Algo salió mal:  division by zero\n",
            "None\n"
          ]
        }
      ]
    },
    {
      "cell_type": "markdown",
      "source": [
        "Esta función, `f`, realiza una tarea simple:\n",
        "\n",
        "1. **Definición de la Función:**\n",
        "   - La función `f` toma un parámetro `nombre`.\n",
        "\n",
        "2. **Impresión del Mensaje:**\n",
        "   - Dentro de la función, se imprime un saludo que incluye el valor del parámetro `nombre`. El mensaje será `\"Hola <nombre>\"`, donde `<nombre>` es el valor que se pasa a la función.\n",
        "\n",
        "3. **Valor de Retorno:**\n",
        "   - La función usa `return` al final, lo cual indica el final de la función. En este caso, `return` no devuelve ningún valor explícito; simplemente termina la ejecución de la función.\n",
        "\n",
        "### Ejemplo de Uso\n",
        "\n",
        "```python\n",
        "f(\"Ana\")  # Imprime: Hola Ana\n",
        "f(\"Juan\") # Imprime: Hola Juan\n",
        "```\n",
        "\n",
        "El `return` al final de la función es opcional en este caso, ya que la función no devuelve ningún valor."
      ],
      "metadata": {
        "id": "ASbaMHX_ETZJ"
      }
    },
    {
      "cell_type": "code",
      "source": [
        "def f(nombre):\n",
        "\tprint(\"Hola\", nombre)\n",
        "\treturn"
      ],
      "metadata": {
        "id": "3tnzfiJUET69"
      },
      "execution_count": 248,
      "outputs": []
    },
    {
      "cell_type": "code",
      "source": [
        "f(\"Ana\")  # Imprime: Hola Ana"
      ],
      "metadata": {
        "colab": {
          "base_uri": "https://localhost:8080/"
        },
        "id": "nbCclOtcEYbO",
        "outputId": "ebf128b7-f236-462f-89f3-d999343bb32a"
      },
      "execution_count": 249,
      "outputs": [
        {
          "output_type": "stream",
          "name": "stdout",
          "text": [
            "Hola Ana\n"
          ]
        }
      ]
    },
    {
      "cell_type": "code",
      "source": [
        "f(\"Juan\") # Imprime: Hola Juan"
      ],
      "metadata": {
        "colab": {
          "base_uri": "https://localhost:8080/"
        },
        "id": "eY-BD2ZtEad8",
        "outputId": "a1869a89-b0fa-4d1e-dd99-73f6b4f2315e"
      },
      "execution_count": 250,
      "outputs": [
        {
          "output_type": "stream",
          "name": "stdout",
          "text": [
            "Hola Juan\n"
          ]
        }
      ]
    },
    {
      "cell_type": "markdown",
      "source": [
        "Esta función, `f`, tiene un comportamiento muy simple:\n",
        "\n",
        "1. **Definición de la Función:**\n",
        "   - La función `f` no toma parámetros.\n",
        "\n",
        "2. **Valor de Retorno:**\n",
        "   - La función usa `return 0`, lo que indica que el valor `0` será devuelto cuando se llame a la función.\n",
        "\n",
        "### Ejemplo de Uso\n",
        "\n",
        "```python\n",
        "resultado = f()\n",
        "print(resultado)  # Imprime: 0\n",
        "```\n",
        "\n",
        "En este caso, `f()` siempre devolverá `0` sin importar nada, y el valor devuelto se puede almacenar en una variable o usar directamente."
      ],
      "metadata": {
        "id": "tnkeLFKHEihT"
      }
    },
    {
      "cell_type": "code",
      "source": [
        "def f():\n",
        "\treturn 0"
      ],
      "metadata": {
        "id": "mnKRt8_UEi5C"
      },
      "execution_count": 251,
      "outputs": []
    },
    {
      "cell_type": "code",
      "source": [
        "resultado = f()\n",
        "print(resultado)  # Imprime: 0"
      ],
      "metadata": {
        "colab": {
          "base_uri": "https://localhost:8080/"
        },
        "id": "ViNmICtnEvXx",
        "outputId": "7d008cf1-53a8-414f-a68a-0d7132c08db3"
      },
      "execution_count": 252,
      "outputs": [
        {
          "output_type": "stream",
          "name": "stdout",
          "text": [
            "0\n"
          ]
        }
      ]
    },
    {
      "cell_type": "markdown",
      "source": [
        "## Scope (alcance)"
      ],
      "metadata": {
        "id": "lVKzgduqFhQi"
      }
    },
    {
      "cell_type": "markdown",
      "source": [
        "En Python, el **scope local** se refiere a la accesibilidad de una variable dentro de una función. Por ejemplo, considera la siguiente función:\n",
        "\n",
        "```python\n",
        "def f():\n",
        "\tx_local_scope = 10 # scope local\n",
        "\tprint(x_local_scope**2)\n",
        "```\n",
        "\n",
        "En esta función, `x` se define dentro de `f`, lo que significa que `x` solo está disponible y puede ser utilizada dentro de esa función. El valor de `x` es 10, y dentro de `f`, se calcula y se imprime el cuadrado de `x` (que es 100). Sin embargo, fuera de la función `f`, la variable `x` no existe y no puede ser utilizada. Esta característica asegura que las variables locales no interfieran con el resto del código fuera de la función en la que se definen."
      ],
      "metadata": {
        "id": "sRgPBLggFkBp"
      }
    },
    {
      "cell_type": "code",
      "source": [
        "def f():\n",
        "\tx_local_scope = 10 # scope local\n",
        "\tprint(x_local_scope**2)\n",
        "\n",
        "f()\n",
        "\n",
        "try:\n",
        "  print(x_local_scope)\n",
        "except NameError as e:\n",
        "\tprint(\"Algo salió mal: \", e)"
      ],
      "metadata": {
        "colab": {
          "base_uri": "https://localhost:8080/"
        },
        "id": "pu_yfwP_FmTx",
        "outputId": "895fde76-2264-4cad-d75e-059f88dfcbdc"
      },
      "execution_count": 253,
      "outputs": [
        {
          "output_type": "stream",
          "name": "stdout",
          "text": [
            "100\n",
            "Algo salió mal:  name 'x_local_scope' is not defined\n"
          ]
        }
      ]
    },
    {
      "cell_type": "markdown",
      "source": [
        "En Python, el **scope global** se refiere a la accesibilidad de una variable en todo el código, fuera de cualquier función. Considera el siguiente ejemplo:\n",
        "\n",
        "```python\n",
        "y_global = 5\n",
        "\n",
        "def g():\n",
        "    print(y_global)\n",
        "\n",
        "g()\n",
        "print(y_global**2)\n",
        "```\n",
        "\n",
        "En este caso, `y_global` es una variable global porque se define fuera de cualquier función. Esto significa que está disponible para ser utilizada tanto dentro como fuera de funciones. Dentro de la función `g`, `y_global` se imprime y muestra su valor, que es 5. Luego, fuera de la función, también puedes usar `y_global` para realizar operaciones, como calcular su cuadrado (`y_global**2`), que resulta en 25. La variable global `y_global` mantiene su valor y es accesible desde cualquier parte del código donde se defina."
      ],
      "metadata": {
        "id": "ghFUqfv5GNgy"
      }
    },
    {
      "cell_type": "code",
      "source": [
        "y_global = 5\n",
        "\n",
        "def g():\n",
        "\tprint(y_global)\n",
        "\n",
        "g()\n",
        "print(y_global**2)"
      ],
      "metadata": {
        "colab": {
          "base_uri": "https://localhost:8080/"
        },
        "id": "ze-zxpHnGNy7",
        "outputId": "36adfaf1-f987-4656-f503-f8bab4ed15d9"
      },
      "execution_count": 254,
      "outputs": [
        {
          "output_type": "stream",
          "name": "stdout",
          "text": [
            "5\n",
            "25\n"
          ]
        }
      ]
    },
    {
      "cell_type": "markdown",
      "source": [
        "En Python, el keyword `global` se utiliza para indicar que una variable dentro de una función se refiere a una variable global, en lugar de crear una nueva variable local. Aquí tienes un ejemplo que ilustra cómo funciona:\n",
        "\n",
        "```python\n",
        "z_global = 20\n",
        "\n",
        "def h():\n",
        "    global z_global\n",
        "    z_global = 30\n",
        "    print(z_global)\n",
        "\n",
        "h()\n",
        "print(z_global)\n",
        "```\n",
        "\n",
        "En este caso, `z_global` se define fuera de la función `h`, y su valor inicial es 20. Dentro de la función `h`, usamos el keyword `global` para especificar que queremos modificar la variable global `z_global` en lugar de crear una variable local con el mismo nombre. Cuando `h` se ejecuta, cambia el valor de `z_global` a 30 y lo imprime. Después de ejecutar la función `h`, el valor global de `z_global` también se ha actualizado a 30, lo que significa que al imprimir `z_global` fuera de la función también se muestra 30. El keyword `global` permite que los cambios realizados dentro de la función afecten a la variable global en todo el programa."
      ],
      "metadata": {
        "id": "YI-4R8xXGaVF"
      }
    },
    {
      "cell_type": "code",
      "source": [
        "z_global = 20\n",
        "\n",
        "def h():\n",
        "\tglobal z_global\n",
        "\tz_global = 30\n",
        "\tprint(z_global)\n",
        "\n",
        "h()\n",
        "print(z_global)"
      ],
      "metadata": {
        "colab": {
          "base_uri": "https://localhost:8080/"
        },
        "id": "uWivC2NLGar6",
        "outputId": "da4b16da-d651-49ce-a126-640e59bd5c6d"
      },
      "execution_count": 255,
      "outputs": [
        {
          "output_type": "stream",
          "name": "stdout",
          "text": [
            "30\n",
            "30\n"
          ]
        }
      ]
    },
    {
      "cell_type": "markdown",
      "source": [
        "El keyword `nonlocal` se utiliza en Python para trabajar con variables que no son locales a una función, pero que tampoco son globales. Se usa principalmente en funciones anidadas para referirse a variables en un ámbito de cierre (en el ámbito de una función envolvente). Aquí tienes un ejemplo que ilustra cómo funciona:\n",
        "\n",
        "```python\n",
        "def r():\n",
        "    a_non_local = 10  # scope no local\n",
        "    def s():\n",
        "        nonlocal a_non_local\n",
        "        a_non_local = 20\n",
        "    s()\n",
        "    print(a_non_local)\n",
        "\n",
        "r()\n",
        "```\n",
        "\n",
        "En este caso, `a_non_local` se define dentro de la función `r` y tiene un **scope no local** a la función `s`, que está anidada dentro de `r`. Dentro de `s`, usamos el keyword `nonlocal` para indicar que queremos modificar la variable `a_non_local` que pertenece al ámbito de la función `r`, no una nueva variable local a `s`. Cuando `s` se ejecuta, cambia el valor de `a_non_local` a 20. Al imprimir `a_non_local` en la función `r` después de ejecutar `s`, se muestra 20, porque el keyword `nonlocal` asegura que `s` modifica la variable `a_non_local` en el ámbito de `r`, en lugar de crear una nueva variable local."
      ],
      "metadata": {
        "id": "m2KsGOcJGmB8"
      }
    },
    {
      "cell_type": "code",
      "source": [
        "def r():\n",
        "\ta_non_local = 10 # scope no local\n",
        "\tdef s():\n",
        "\t\tnonlocal a_non_local\n",
        "\t\ta_non_local= 20\n",
        "\ts()\n",
        "\tprint(a_non_local)\n",
        "\n",
        "r()"
      ],
      "metadata": {
        "colab": {
          "base_uri": "https://localhost:8080/"
        },
        "id": "XnQ3wRXZGmpX",
        "outputId": "3cfd7f9a-dc80-4aa0-baaf-6d7d2f8e5004"
      },
      "execution_count": 256,
      "outputs": [
        {
          "output_type": "stream",
          "name": "stdout",
          "text": [
            "20\n"
          ]
        }
      ]
    }
  ]
}