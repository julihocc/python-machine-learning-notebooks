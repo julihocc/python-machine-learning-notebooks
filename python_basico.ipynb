{
  "nbformat": 4,
  "nbformat_minor": 0,
  "metadata": {
    "colab": {
      "provenance": [],
      "authorship_tag": "ABX9TyNGWxe4ScI8/Fa/JfnHoF3D",
      "include_colab_link": true
    },
    "kernelspec": {
      "name": "python3",
      "display_name": "Python 3"
    },
    "language_info": {
      "name": "python"
    }
  },
  "cells": [
    {
      "cell_type": "markdown",
      "metadata": {
        "id": "view-in-github",
        "colab_type": "text"
      },
      "source": [
        "<a href=\"https://colab.research.google.com/github/julihocc/python-machine-learning-notebooks/blob/main/python_basico.ipynb\" target=\"_parent\"><img src=\"https://colab.research.google.com/assets/colab-badge.svg\" alt=\"Open In Colab\"/></a>"
      ]
    },
    {
      "cell_type": "markdown",
      "source": [
        "# Fundamentos de programación con Python\n"
      ],
      "metadata": {
        "id": "WKWrUKuDKJ5h"
      }
    },
    {
      "cell_type": "markdown",
      "source": [
        "## Primeros pasos\n",
        "\n",
        "### Como funciona una Libreta Jupyter\n",
        "\n",
        "Una libreta Jupyter, o \"Jupyter Notebook,\" es una aplicación web que permite crear y compartir documentos que contienen código ejecutable, visualizaciones, y texto narrativo en un formato interactivo. Es muy popular en entornos de ciencia de datos, aprendizaje automático, análisis de datos y educación. Aquí te explico cómo funciona:\n",
        "\n",
        "### 1. **Estructura de la Libreta Jupyter**\n",
        "   - **Celdas (Cells):** Una libreta Jupyter está dividida en celdas. Hay dos tipos principales de celdas:\n",
        "     - **Celdas de Código (Code Cells):** En estas celdas puedes escribir y ejecutar código en un lenguaje de programación soportado (generalmente Python, pero también R, Julia, etc.).\n",
        "     - **Celdas de Texto (Markdown Cells):** En estas celdas puedes escribir texto en formato Markdown para agregar descripciones, títulos, ecuaciones, imágenes, etc.\n",
        "  \n",
        "   - **Celdas de Salida:** Cuando ejecutas una celda de código, la salida (resultados, gráficos, errores) se muestra inmediatamente debajo de la celda.\n",
        "\n",
        "### 2. **Ejecutar Código**\n",
        "   - Puedes escribir y ejecutar código directamente en una celda de código. Al presionar `Shift + Enter`, el código se ejecuta y la salida se muestra justo debajo de la celda.\n",
        "   - Las celdas pueden ejecutarse en cualquier orden, pero es común seguir el flujo secuencial, de arriba hacia abajo.\n",
        "   - Los resultados de las ejecuciones anteriores se mantienen en la sesión, por lo que las variables y funciones definidas en celdas anteriores están disponibles para las celdas posteriores, a menos que reinicies el kernel.\n",
        "\n",
        "### 3. **Kernel**\n",
        "   - **Kernel:** Es el motor que ejecuta el código que escribes en las celdas de código. En Jupyter, el kernel más común es el de Python, pero puedes cambiar de kernel para usar otros lenguajes.\n",
        "   - Puedes reiniciar el kernel si quieres limpiar todas las variables y comenzar de nuevo desde cero. Esto es útil si encuentras errores difíciles de rastrear o si deseas comenzar con un entorno limpio.\n",
        "\n",
        "### 4. **Interactividad**\n",
        "   - **Widgets Interactivos:** Jupyter soporta widgets interactivos que te permiten crear aplicaciones simples y dinámicas dentro de la libreta, como controles deslizantes, menús desplegables, botones, etc.\n",
        "   - **Visualización de Datos:** Puedes generar gráficos interactivos y visualizaciones avanzadas dentro de la libreta usando bibliotecas como Matplotlib, Seaborn, Plotly, etc.\n",
        "\n",
        "### 5. **Documentación y Narrativa**\n",
        "   - **Markdown:** Puedes usar celdas Markdown para agregar comentarios, explicaciones, y documentación. Esto permite que las libretas Jupyter sean más que solo un conjunto de código; pueden ser reportes completos con análisis detallado.\n",
        "   - **LaTeX:** Jupyter también soporta LaTeX para escribir ecuaciones matemáticas con formato profesional.\n",
        "\n",
        "### 6. **Guardar y Compartir**\n",
        "   - **Guardar:** Las libretas se guardan en archivos con extensión `.ipynb` (IPython Notebook). Estos archivos pueden ser compartidos fácilmente con otros usuarios.\n",
        "   - **Exportar:** Puedes exportar la libreta a otros formatos como HTML, PDF, Markdown, etc., para su distribución o publicación.\n",
        "   - **Compartir en Línea:** Hay servicios como GitHub, NBViewer, o Google Colab que permiten visualizar y compartir libretas Jupyter en línea.\n",
        "\n",
        "### 7. **Extensiones y Plugins**\n",
        "   - Existen muchas extensiones y plugins que puedes instalar para mejorar la funcionalidad de Jupyter, como agregar botones de exportación rápida, mejorar la visualización de datos, o integrar nuevas herramientas.\n",
        "\n",
        "En resumen, una libreta Jupyter es una herramienta versátil y poderosa que combina código, texto, y visualizaciones en un solo documento interactivo, facilitando el proceso de análisis de datos y la creación de reportes."
      ],
      "metadata": {
        "id": "YDijSuALJQZD"
      }
    },
    {
      "cell_type": "code",
      "execution_count": 2,
      "metadata": {
        "colab": {
          "base_uri": "https://localhost:8080/"
        },
        "id": "yfxaE-StIYe6",
        "outputId": "f5dfdd02-2d16-42af-fdeb-f0d2c97f5820"
      },
      "outputs": [
        {
          "output_type": "stream",
          "name": "stdout",
          "text": [
            "2\n"
          ]
        }
      ],
      "source": [
        "# Nuestra primer tarea será sumar dos números\n",
        "# e imprimirlos en la consola\n",
        "print(1+1)"
      ]
    },
    {
      "cell_type": "code",
      "source": [
        "# Para imprimir texto, necesitamos comillas dobles o sencillas\n",
        "print(\"¡Hola, mundo!\")\n",
        "print('Hola de nuevo')"
      ],
      "metadata": {
        "colab": {
          "base_uri": "https://localhost:8080/"
        },
        "id": "UOCaWaN8I13D",
        "outputId": "20a6d689-a97a-4738-c8be-c37e8123af74"
      },
      "execution_count": 3,
      "outputs": [
        {
          "output_type": "stream",
          "name": "stdout",
          "text": [
            "¡Hola, mundo!\n",
            "Hola de nuevo\n"
          ]
        }
      ]
    },
    {
      "cell_type": "markdown",
      "source": [
        "## Tipos de datos\n",
        "\n"
      ],
      "metadata": {
        "id": "PVcuYvciJ6gs"
      }
    },
    {
      "cell_type": "markdown",
      "source": [
        "Este código asigna el valor `2` a la variable `n`, luego imprime tanto el valor de `n` como su tipo de dato, que es `int` en este caso."
      ],
      "metadata": {
        "id": "6KK0-k3-_Yze"
      }
    },
    {
      "cell_type": "code",
      "source": [
        "n = 2\n",
        "print(n)\n",
        "print(type(n))\n"
      ],
      "metadata": {
        "colab": {
          "base_uri": "https://localhost:8080/"
        },
        "id": "n_pzsRppJ81x",
        "outputId": "f97e4e35-1347-4d68-afcd-d46d1db55149"
      },
      "execution_count": 4,
      "outputs": [
        {
          "output_type": "stream",
          "name": "stdout",
          "text": [
            "2\n",
            "<class 'int'>\n"
          ]
        }
      ]
    },
    {
      "cell_type": "markdown",
      "source": [
        "En este código, se asigna un valor muy largo y preciso a la variable `x`. Sin embargo, Python lo redondea automáticamente a la precisión disponible para los números de punto flotante (`float`). Al imprimir `x`, verás que el valor ha sido redondeado a `2.0`, y el tipo de dato será `float`, indicando que `x` es tratado como un número de punto flotante."
      ],
      "metadata": {
        "id": "Wh8DIGsa_dR8"
      }
    },
    {
      "cell_type": "code",
      "source": [
        "\n",
        "x = 1.9999999999999999999999999999999999999999999999999999999999999999999999999999999999999999999999999999999999999999999999999999999999999999999999999999999999999\n",
        "print(x)\n",
        "print(type(x))\n"
      ],
      "metadata": {
        "colab": {
          "base_uri": "https://localhost:8080/"
        },
        "id": "jjGosaw4Kl2D",
        "outputId": "a2a18136-5856-4be8-cf4e-20a9745a1eeb"
      },
      "execution_count": 5,
      "outputs": [
        {
          "output_type": "stream",
          "name": "stdout",
          "text": [
            "2.0\n",
            "<class 'float'>\n"
          ]
        }
      ]
    },
    {
      "cell_type": "markdown",
      "source": [
        "Este código compara la variable `n`, que tiene el valor `2`, con la variable `x`, que fue redondeada a `2.0`. La comparación `n == x` evaluará si ambos valores son iguales. Dado que Python trata a `2` y `2.0` como equivalentes en comparaciones, la expresión devolverá `True`."
      ],
      "metadata": {
        "id": "0zq9oXwW_hpK"
      }
    },
    {
      "cell_type": "code",
      "source": [
        "\n",
        "print(n==x)\n"
      ],
      "metadata": {
        "colab": {
          "base_uri": "https://localhost:8080/"
        },
        "id": "Dar8551yKov7",
        "outputId": "0f0dcd17-da3c-4a96-ef08-dbac8f21da51"
      },
      "execution_count": 6,
      "outputs": [
        {
          "output_type": "stream",
          "name": "stdout",
          "text": [
            "True\n"
          ]
        }
      ]
    },
    {
      "cell_type": "markdown",
      "source": [
        "Aquí se asigna el valor `\"2\"` a la variable `s`. El valor está entre comillas, lo que indica que es una cadena de texto. Al imprimir `s`, verás el texto `\"2\"`, y al imprimir `type(s)`, el resultado será `str`, mostrando que `s` es una cadena."
      ],
      "metadata": {
        "id": "PkudyFyT__62"
      }
    },
    {
      "cell_type": "code",
      "source": [
        "s = \"2\"\n",
        "print(s)\n",
        "print(type(s))"
      ],
      "metadata": {
        "colab": {
          "base_uri": "https://localhost:8080/"
        },
        "id": "QB_lQVDYKq3f",
        "outputId": "4d72b17c-691f-4f5e-db7f-ad5c4e792d4a"
      },
      "execution_count": 7,
      "outputs": [
        {
          "output_type": "stream",
          "name": "stdout",
          "text": [
            "2\n",
            "<class 'str'>\n"
          ]
        }
      ]
    },
    {
      "cell_type": "markdown",
      "source": [
        "Este código compara la variable `s`, que es una cadena de texto con el valor `\"2\"`, con la variable `n`, que es un número entero con el valor `2`. La comparación `s == n` evaluará si ambos valores son iguales. Dado que `s` es una cadena y `n` es un número entero, la comparación devolverá `False` porque los tipos de datos son diferentes."
      ],
      "metadata": {
        "id": "dFgSe6K7AEjO"
      }
    },
    {
      "cell_type": "code",
      "source": [
        "print(s==n)"
      ],
      "metadata": {
        "colab": {
          "base_uri": "https://localhost:8080/"
        },
        "id": "WfQ2kz6U_3Um",
        "outputId": "3d69e6eb-855d-48d4-d9fb-aa1e72011381"
      },
      "execution_count": 8,
      "outputs": [
        {
          "output_type": "stream",
          "name": "stdout",
          "text": [
            "False\n"
          ]
        }
      ]
    },
    {
      "cell_type": "markdown",
      "source": [
        "Aquí, la variable `s`, que es una cadena de texto con el valor `\"2\"`, se convierte en un número entero usando la función `int()`. El valor convertido se asigna a la variable `s_int`. Al imprimir `s_int`, verás el número `2`, y al imprimir `type(s_int)`, el resultado será `int`, indicando que `s_int` es un número entero."
      ],
      "metadata": {
        "id": "obzZufWfAJsp"
      }
    },
    {
      "cell_type": "code",
      "source": [
        "s_int = int(s)\n",
        "print(s_int)\n",
        "print(type(s_int))"
      ],
      "metadata": {
        "colab": {
          "base_uri": "https://localhost:8080/"
        },
        "id": "KkMT65_3_3LS",
        "outputId": "a0099a58-773f-4b57-eefe-47a32b3f0fa8"
      },
      "execution_count": 9,
      "outputs": [
        {
          "output_type": "stream",
          "name": "stdout",
          "text": [
            "2\n",
            "<class 'int'>\n"
          ]
        }
      ]
    },
    {
      "cell_type": "markdown",
      "source": [
        "Este código compara `s_int`, que es el número entero `2` obtenido al convertir la cadena `\"2\"`, con `n`, que también es el número entero `2`. La comparación `s_int == n` devolverá `True`, ya que ambos valores son iguales y ambos son enteros."
      ],
      "metadata": {
        "id": "wyiTmDOGANSw"
      }
    },
    {
      "cell_type": "code",
      "source": [
        "print(s_int==n)"
      ],
      "metadata": {
        "colab": {
          "base_uri": "https://localhost:8080/"
        },
        "id": "nYINo1jh_3Bo",
        "outputId": "33259fc3-caf2-438c-c694-c6fcdf6bda95"
      },
      "execution_count": 10,
      "outputs": [
        {
          "output_type": "stream",
          "name": "stdout",
          "text": [
            "True\n"
          ]
        }
      ]
    },
    {
      "cell_type": "markdown",
      "source": [
        "### Booleanos\n",
        "\n",
        "Este código imprime los valores booleanos `True` y `False`, junto con su tipo de dato. `True` y `False` son valores booleanos en Python y tienen el tipo `bool`. Al ejecutar este código, verás `True <class 'bool'>` y `False <class 'bool'>`, mostrando que ambos valores son de tipo booleano."
      ],
      "metadata": {
        "id": "NeA-L1o8ARr3"
      }
    },
    {
      "cell_type": "code",
      "source": [
        "print(True, type(True))\n",
        "print(False, type(False))"
      ],
      "metadata": {
        "colab": {
          "base_uri": "https://localhost:8080/"
        },
        "id": "etL7XzncAOvk",
        "outputId": "e66f5ff7-c680-42bd-ba5b-b785dd54c2e5"
      },
      "execution_count": 11,
      "outputs": [
        {
          "output_type": "stream",
          "name": "stdout",
          "text": [
            "True <class 'bool'>\n",
            "False <class 'bool'>\n"
          ]
        }
      ]
    },
    {
      "cell_type": "markdown",
      "source": [
        "Este código realiza y muestra el resultado de varias comparaciones booleanas:\n",
        "\n",
        "- `2 > 1` evalúa si `2` es mayor que `1`. Devuelve `True`.\n",
        "- `2 == 1` evalúa si `2` es igual a `1`. Devuelve `False`.\n",
        "- `2 != 1` evalúa si `2` es diferente de `1`. Devuelve `True`.\n",
        "- `2 < 1` evalúa si `2` es menor que `1`. Devuelve `False`.\n",
        "- `2 >= 1` evalúa si `2` es mayor o igual a `1`. Devuelve `True`.\n",
        "- `2 <= 1` evalúa si `2` es menor o igual a `1`. Devuelve `False`."
      ],
      "metadata": {
        "id": "wXLLCB1zAdjX"
      }
    },
    {
      "cell_type": "code",
      "source": [
        "print(2>1)\n",
        "print(2==1)\n",
        "print(2!=1)\n",
        "print(2<1)\n",
        "print(2>=1)\n",
        "print(2<=1)"
      ],
      "metadata": {
        "colab": {
          "base_uri": "https://localhost:8080/"
        },
        "id": "DLvsTBqmAZB_",
        "outputId": "41fa0496-895a-4069-e1b0-54ef135e374f"
      },
      "execution_count": 12,
      "outputs": [
        {
          "output_type": "stream",
          "name": "stdout",
          "text": [
            "True\n",
            "False\n",
            "True\n",
            "False\n",
            "True\n",
            "False\n"
          ]
        }
      ]
    },
    {
      "cell_type": "markdown",
      "source": [
        "Este código convierte los valores booleanos `True` y `False` a enteros usando la función `int()`. En Python, `True` se convierte en `1` y `False` se convierte en `0`. Así que `int(True)` imprimirá `1`, y `int(False)` imprimirá `0`."
      ],
      "metadata": {
        "id": "L_qZ0KnEAiWL"
      }
    },
    {
      "cell_type": "code",
      "source": [
        "print(int(True))\n",
        "print(int(False))\n",
        "\n"
      ],
      "metadata": {
        "colab": {
          "base_uri": "https://localhost:8080/"
        },
        "id": "TyyZwjMjKt50",
        "outputId": "a586767b-8c13-4836-ed21-3d0996350e72"
      },
      "execution_count": 13,
      "outputs": [
        {
          "output_type": "stream",
          "name": "stdout",
          "text": [
            "1\n",
            "0\n"
          ]
        }
      ]
    },
    {
      "cell_type": "markdown",
      "source": [
        "Este código suma los valores booleanos `True` y `True`. En Python, `True` se trata como `1` en operaciones aritméticas, por lo que `True + True` es equivalente a `1 + 1`, lo que da como resultado `2`."
      ],
      "metadata": {
        "id": "hzwRqTA5AlG1"
      }
    },
    {
      "cell_type": "code",
      "source": [
        "print(True+True)"
      ],
      "metadata": {
        "colab": {
          "base_uri": "https://localhost:8080/"
        },
        "id": "fYnbWosZAmtf",
        "outputId": "9d5831b0-9b95-4ab8-a0d0-6937a4b3ce91"
      },
      "execution_count": 14,
      "outputs": [
        {
          "output_type": "stream",
          "name": "stdout",
          "text": [
            "2\n"
          ]
        }
      ]
    }
  ]
}