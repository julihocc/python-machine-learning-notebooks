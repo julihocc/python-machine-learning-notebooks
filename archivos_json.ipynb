{
  "nbformat": 4,
  "nbformat_minor": 0,
  "metadata": {
    "colab": {
      "provenance": [],
      "authorship_tag": "ABX9TyOntuhgvJGKzC2Y2EMuUf+c",
      "include_colab_link": true
    },
    "kernelspec": {
      "name": "python3",
      "display_name": "Python 3"
    },
    "language_info": {
      "name": "python"
    }
  },
  "cells": [
    {
      "cell_type": "markdown",
      "metadata": {
        "id": "view-in-github",
        "colab_type": "text"
      },
      "source": [
        "<a href=\"https://colab.research.google.com/github/julihocc/python-machine-learning-notebooks/blob/main/archivos_json.ipynb\" target=\"_parent\"><img src=\"https://colab.research.google.com/assets/colab-badge.svg\" alt=\"Open In Colab\"/></a>"
      ]
    },
    {
      "cell_type": "code",
      "execution_count": 2,
      "metadata": {
        "colab": {
          "base_uri": "https://localhost:8080/"
        },
        "id": "x78gtAXALiqM",
        "outputId": "d70a5594-bf89-4236-b42c-38ac82dbed95"
      },
      "outputs": [
        {
          "output_type": "stream",
          "name": "stdout",
          "text": [
            "Requirement already satisfied: requests in /usr/local/lib/python3.10/dist-packages (2.32.3)\n",
            "Requirement already satisfied: charset-normalizer<4,>=2 in /usr/local/lib/python3.10/dist-packages (from requests) (3.3.2)\n",
            "Requirement already satisfied: idna<4,>=2.5 in /usr/local/lib/python3.10/dist-packages (from requests) (3.8)\n",
            "Requirement already satisfied: urllib3<3,>=1.21.1 in /usr/local/lib/python3.10/dist-packages (from requests) (2.0.7)\n",
            "Requirement already satisfied: certifi>=2017.4.17 in /usr/local/lib/python3.10/dist-packages (from requests) (2024.7.4)\n"
          ]
        }
      ],
      "source": [
        "# Si no está instalada la librería requests, hazlo\n",
        "# %pip install requests"
      ]
    },
    {
      "cell_type": "code",
      "source": [
        "import requests"
      ],
      "metadata": {
        "id": "IEymBHxpM55L"
      },
      "execution_count": 3,
      "outputs": []
    },
    {
      "cell_type": "code",
      "source": [
        "url = \"https://jsonplaceholder.typicode.com/comments\""
      ],
      "metadata": {
        "id": "mRSmM8F7NBOs"
      },
      "execution_count": 12,
      "outputs": []
    },
    {
      "cell_type": "code",
      "source": [
        "response = requests.get(url)\n",
        "print(response)"
      ],
      "metadata": {
        "colab": {
          "base_uri": "https://localhost:8080/"
        },
        "id": "Uw40BrNSNHQi",
        "outputId": "4a0a96ae-d80c-475d-a92d-df3726957212"
      },
      "execution_count": 13,
      "outputs": [
        {
          "output_type": "stream",
          "name": "stdout",
          "text": [
            "<Response [200]>\n"
          ]
        }
      ]
    },
    {
      "cell_type": "code",
      "source": [
        "response.status_code"
      ],
      "metadata": {
        "colab": {
          "base_uri": "https://localhost:8080/"
        },
        "id": "PyrCxEXLNflp",
        "outputId": "5854b6ca-5bc7-46be-d2c3-a3129fae3aca"
      },
      "execution_count": 14,
      "outputs": [
        {
          "output_type": "execute_result",
          "data": {
            "text/plain": [
              "200"
            ]
          },
          "metadata": {},
          "execution_count": 14
        }
      ]
    },
    {
      "cell_type": "code",
      "source": [
        "response.headers"
      ],
      "metadata": {
        "colab": {
          "base_uri": "https://localhost:8080/"
        },
        "id": "9MMyaTcDN3KX",
        "outputId": "2469bde5-e72a-43d9-ef92-a5a0df81121f"
      },
      "execution_count": 15,
      "outputs": [
        {
          "output_type": "execute_result",
          "data": {
            "text/plain": [
              "{'Date': 'Wed, 04 Sep 2024 13:26:33 GMT', 'Content-Type': 'application/json; charset=utf-8', 'Transfer-Encoding': 'chunked', 'Connection': 'keep-alive', 'Report-To': '{\"group\":\"heroku-nel\",\"max_age\":3600,\"endpoints\":[{\"url\":\"https://nel.heroku.com/reports?ts=1723763763&sid=e11707d5-02a7-43ef-b45e-2cf4d2036f7d&s=vnIgGpIlnTeBxejD11OkTDz05AV9OxQVNpvZzixk6M8%3D\"}]}', 'Reporting-Endpoints': 'heroku-nel=https://nel.heroku.com/reports?ts=1723763763&sid=e11707d5-02a7-43ef-b45e-2cf4d2036f7d&s=vnIgGpIlnTeBxejD11OkTDz05AV9OxQVNpvZzixk6M8%3D', 'Nel': '{\"report_to\":\"heroku-nel\",\"max_age\":3600,\"success_fraction\":0.005,\"failure_fraction\":0.05,\"response_headers\":[\"Via\"]}', 'X-Powered-By': 'Express', 'X-Ratelimit-Limit': '1000', 'X-Ratelimit-Remaining': '999', 'X-Ratelimit-Reset': '1723763801', 'Vary': 'Origin, Accept-Encoding', 'Access-Control-Allow-Credentials': 'true', 'Cache-Control': 'max-age=43200', 'Pragma': 'no-cache', 'Expires': '-1', 'X-Content-Type-Options': 'nosniff', 'Etag': 'W/\"26831-8L/dCHuriTuxj+1OR5biYTSa5Yo\"', 'Content-Encoding': 'gzip', 'Via': '1.1 vegur', 'CF-Cache-Status': 'HIT', 'Age': '6216', 'Server': 'cloudflare', 'CF-RAY': '8bde4fd89c2e2b3f-ORD', 'alt-svc': 'h3=\":443\"; ma=86400'}"
            ]
          },
          "metadata": {},
          "execution_count": 15
        }
      ]
    },
    {
      "cell_type": "code",
      "source": [
        "# solo imprimiremos los primeros 100 caracteres\n",
        "response.text[:100]"
      ],
      "metadata": {
        "colab": {
          "base_uri": "https://localhost:8080/",
          "height": 35
        },
        "id": "vwALiZhYOLTx",
        "outputId": "e1e951a4-9b6e-4684-8d2f-10cf96e66a19"
      },
      "execution_count": 30,
      "outputs": [
        {
          "output_type": "execute_result",
          "data": {
            "text/plain": [
              "'[\\n  {\\n    \"postId\": 1,\\n    \"id\": 1,\\n    \"name\": \"id labore ex et quam laborum\",\\n    \"email\": \"Eliseo'"
            ],
            "application/vnd.google.colaboratory.intrinsic+json": {
              "type": "string"
            }
          },
          "metadata": {},
          "execution_count": 30
        }
      ]
    },
    {
      "cell_type": "code",
      "source": [
        "response_as_json = response.json()\n",
        "type(response_as_json)"
      ],
      "metadata": {
        "colab": {
          "base_uri": "https://localhost:8080/"
        },
        "id": "Yk1_-KuJOplg",
        "outputId": "6b1ea92c-6b88-4aa7-c836-ea9b01cb9b59"
      },
      "execution_count": 18,
      "outputs": [
        {
          "output_type": "execute_result",
          "data": {
            "text/plain": [
              "list"
            ]
          },
          "metadata": {},
          "execution_count": 18
        }
      ]
    },
    {
      "cell_type": "code",
      "source": [
        "response_as_json[0]"
      ],
      "metadata": {
        "colab": {
          "base_uri": "https://localhost:8080/"
        },
        "id": "u77MEd48O3Gu",
        "outputId": "e9b95cbb-d115-410a-b627-12e767c20359"
      },
      "execution_count": 19,
      "outputs": [
        {
          "output_type": "execute_result",
          "data": {
            "text/plain": [
              "{'postId': 1,\n",
              " 'id': 1,\n",
              " 'name': 'id labore ex et quam laborum',\n",
              " 'email': 'Eliseo@gardner.biz',\n",
              " 'body': 'laudantium enim quasi est quidem magnam voluptate ipsam eos\\ntempora quo necessitatibus\\ndolor quam autem quasi\\nreiciendis et nam sapiente accusantium'}"
            ]
          },
          "metadata": {},
          "execution_count": 19
        }
      ]
    },
    {
      "cell_type": "code",
      "source": [
        "type(response_as_json[0])"
      ],
      "metadata": {
        "colab": {
          "base_uri": "https://localhost:8080/"
        },
        "id": "Jkvl5IGIO5QE",
        "outputId": "19700d71-a61c-4462-bfed-d1d91784afa7"
      },
      "execution_count": 20,
      "outputs": [
        {
          "output_type": "execute_result",
          "data": {
            "text/plain": [
              "dict"
            ]
          },
          "metadata": {},
          "execution_count": 20
        }
      ]
    },
    {
      "cell_type": "code",
      "source": [
        "emails = []\n",
        "\n",
        "for comment in response_as_json:\n",
        "  # print(comment['email'])\n",
        "  emails.append(comment['email'].lower())\n",
        "\n",
        "print(emails)\n",
        "print(len(emails))"
      ],
      "metadata": {
        "colab": {
          "base_uri": "https://localhost:8080/"
        },
        "id": "tBuwCuEHPDJj",
        "outputId": "4b061d56-064f-41e3-d5a5-a6d347c5cd73"
      },
      "execution_count": 27,
      "outputs": [
        {
          "output_type": "stream",
          "name": "stdout",
          "text": [
            "['eliseo@gardner.biz', 'jayne_kuhic@sydney.com', 'nikita@garfield.biz', 'lew@alysha.tv', 'hayden@althea.biz', 'presley.mueller@myrl.com', 'dallas@ole.me', 'mallory_kunze@marie.org', 'meghan_littel@rene.us', 'carmen_keeling@caroline.name', 'veronica_goodwin@timmothy.net', 'oswald.vandervort@leanne.org', 'kariane@jadyn.tv', 'nathan@solon.io', 'maynard.hodkiewicz@roberta.com', 'christine@ayana.info', 'preston_hudson@blaise.tv', 'vincenza_klocko@albertha.name', 'madelynn.gorczany@darion.biz', 'mariana_orn@preston.org', 'noemie@marques.me', 'khalil@emile.co.uk', 'sophia@arianna.co.uk', 'jeffery@juwan.us', 'isaias_kuhic@jarrett.net', 'russel.parker@kameron.io', 'francesco.gleason@nella.us', 'ronny@rosina.org', 'jennings_pouros@erica.biz', 'lurline@marvin.biz', 'buford@shaylee.biz', 'maria@laurel.name', 'jaeden.towne@arlene.tv', 'ethelyn.schneider@emelia.co.uk', 'georgianna@florence.io', 'raheem_heaney@gretchen.biz', 'jacky@victoria.net', 'piper@linwood.us', 'gaylord@russell.net', 'clare.aufderhar@nicole.ca', 'lucio@gladys.tv', 'shemar@ewell.name', 'jackeline@eva.tv', 'marianna_wilkinson@rupert.io', 'marcia@name.biz', 'jeremy.harann@waino.me', 'pearlie.kling@sandy.com', 'manuela_stehr@chelsie.tv', 'camryn.weimann@doris.io', 'kiana_predovic@yasmin.io', 'laurie@lincoln.us', 'abigail.oconnell@june.org', 'laverne_price@scotty.info', 'kenton_vandervort@friedrich.com', 'hayden_olson@marianna.me', 'vince_crist@heidi.biz', 'darron.nikolaus@eulah.me', 'ezra_abshire@lyda.us', 'jameson@tony.info', 'americo@estrella.net', 'aurelio.pfeffer@griffin.ca', 'vesta_crooks@dora.us', 'margarett_klein@mike.biz', 'freida@brandt.tv', 'mollie@agustina.name', 'janice@alda.io', 'dashawn@garry.com', 'devan.nader@ettie.me', 'joana.schoen@leora.co.uk', 'minerva.anderson@devonte.ca', 'lavinia@lafayette.me', 'sabrina.marks@savanah.name', 'desmond_graham@kailee.biz', 'gussie_kunde@sharon.biz', 'richard@chelsie.co.uk', 'gage_turner@halle.name', 'alfred@sadye.biz', 'catharine@jordyn.com', 'esther_ratke@shayna.biz', 'evangeline@chad.net', 'newton.kertzmann@anjali.io', 'caleb_herzog@rosamond.net', 'sage_mueller@candace.net', 'bernie.bergnaum@lue.com', 'alexzander_davis@eduardo.name', 'jacquelyn@krista.info', 'grover_volkman@coty.tv', 'jovanny@abigale.ca', 'isac_schmeler@barton.com', 'sandy.erdman@sabina.info', 'alexandro@garry.io', 'vickie_schuster@harley.net', 'roma_doyle@alia.com', 'tatum_marks@jaylon.name', 'juston.ruecker@scot.tv', 'river.grady@lavada.biz', 'claudia@emilia.ca', 'torrey@june.tv', 'hildegard.aufderhar@howard.com', 'leone_fay@orrin.com', 'lura@rod.tv', 'lottie.zieme@ruben.us', 'winona_price@jevon.me', 'gabriel@oceane.biz', 'adolph.ondricka@mozell.co.uk', 'allen@richard.biz', 'nicholaus@mikayla.ca', 'kayla@susanna.org', 'gideon@amina.name', 'cassidy@maribel.io', 'stefan.crist@duane.ca', 'aniyah.ortiz@monte.me', 'laverna@rico.biz', 'derek@hildegard.net', 'tyrell@abdullah.ca', 'reyes@hailey.name', 'danika.dicki@mekhi.biz', 'alessandra.nitzsche@stephania.us', 'matteo@marquis.net', 'joshua.spinka@toby.io', 'annabelle@cole.com', 'kacey@jamal.info', 'mina@mallie.name', 'hudson.blick@ruben.biz', 'domenic.durgan@joaquin.name', 'alexie@alayna.org', 'haven_barrows@brant.org', 'marianne@maximo.us', 'fanny@danial.com', 'trevion_kuphal@bernice.name', 'emmet@guy.biz', 'megane.fritsch@claude.name', 'amya@durward.ca', 'jasen_rempel@willis.org', 'harmony@reggie.com', 'rosanna_kunze@guy.net', 'ressie.boehm@flossie.com', 'domenic.wuckert@jazmyne.us', 'rhett.okon@brian.info', 'mathias@richmond.info', 'ottis@lourdes.org', 'estel@newton.ca', 'bertha@erik.co.uk', 'joesph@matteo.info', 'alva@cassandre.net', 'vivienne@willis.org', 'angelita@aliza.me', 'timmothy_okuneva@alyce.tv', 'moriah_welch@richmond.org', 'ramiro_kuhn@harmon.biz', 'cary@taurean.biz', 'tillman_koelpin@luisa.com', 'aleen@tania.biz', 'durward@cindy.com', 'lester@chauncey.ca', 'telly_lynch@karl.co.uk', 'makenzie@libbie.io', 'amiya@perry.us', 'meghan@akeem.tv', 'mitchel.williamson@fletcher.io', 'ashlee_jast@emie.biz', 'antwan@lori.ca', 'estelle@valentina.info', 'haylie@gino.name', 'blake_spinka@robyn.info', 'aimee.bins@braeden.ca', 'eloy@vladimir.com', 'gabrielle@jada.co.uk', 'lee@dawn.net', 'gideon.hyatt@jalen.tv', 'gerda.reynolds@ceasar.co.uk', 'ivah@brianne.net', 'ethyl_bogan@candace.co.uk', 'janelle_guann@americo.info', 'alfonzo.barton@kelley.co.uk', 'esther@ford.me', 'naomie_cronin@rick.co.uk', 'darryl@reginald.us', 'thea@aurelio.org', 'carolyn@eloisa.biz', 'milan.schoen@cortney.io', 'sabrina@raymond.biz', 'hildegard@alford.ca', 'lowell.pagac@omari.biz', 'vivianne@ima.us', 'yasmin.prohaska@hanna.co.uk', 'ursula.kirlin@eino.org', 'nichole_bartoletti@mozell.me', 'lottie_wyman@jasen.biz', 'dominique_hermann@paige.ca', 'eugene@mohammed.net', 'janick@marty.me', 'alena@deron.name', 'alphonso_rosenbaum@valentin.co.uk', 'frank@rosalind.name', 'jenifer_lowe@reuben.ca', 'cecelia_nitzsche@marty.com', 'christop_friesen@jordan.me', 'cooper_boehm@damian.biz', 'amir@kaitlyn.org', 'cleve@royal.us', 'donnell@polly.net', 'bonita@karl.biz', 'shea@angelina.biz', 'omari@veronica.us', 'sophie@antoinette.ca', 'jessika@crystel.ca', 'cesar_volkman@letitia.biz', 'maureen_mueller@lance.us', 'eriberto@geovany.ca', 'faustino.keeling@morris.co.uk', 'viola@aric.co.uk', 'felton_huel@terrell.biz', 'ferne_bogan@angus.info', 'amy@reymundo.org', 'jaylan.mayert@norbert.biz', 'cristina.damore@destini.biz', 'ettie_bashirian@lambert.biz', 'lizeth@kellen.org', 'vladimir_schumm@sharon.tv', 'madonna@will.com', 'cicero_goldner@elenor.tv', 'zella@jan.net', 'robin_jacobi@verdie.net', 'lawson@demarco.co.uk', 'benton@jayde.tv', 'melody@london.name', 'wyman.swaniawski@marjorie.name', 'deborah@fletcher.co.uk', 'dario@barton.info', 'kelton_mckenzie@danial.us', 'itzel@fritz.io', 'jacquelyn_kutch@kaya.co.uk', 'cheyanne.schowalter@alycia.biz', 'macey@abbie.org', 'freeda.kirlin@eddie.ca', 'jennifer.rowe@zoe.org', 'providenci.heller@lenna.info', 'emerald_murazik@darrell.biz', 'joseph@corrine.com', 'lemuel@willow.name', 'sven@gudrun.info', 'jennifer@shania.ca', 'eldora@madge.com', 'litzy@kaylie.io', 'jaycee.turner@euna.name', 'wilbert@cheyenne.ca', 'rebecca_hessel@edna.net', 'christiana@lawrence.info', 'samara@shaun.org', 'ayden_hickle@stephany.tv', 'carissa.krajcik@jean.name', 'jayde@geovanny.io', 'ardella@khalid.biz', 'delta_welch@carleton.tv', 'carlee_heathcote@harley.tv', 'delpha_cormier@raymond.org', 'glenna@caesar.org', 'hoyt_dickens@napoleon.ca', 'wendell.marvin@maegan.net', 'virgie@layne.org', 'tia@kirsten.info', 'marco@jennyfer.biz', 'taya@milan.biz', 'lenora@derrick.biz', 'carolina.auer@polly.co.uk', 'jaylan.braun@lane.us', 'javier.dicki@damien.org', 'khalil_sawayn@tanya.net', 'tom.russel@pattie.org', 'ethelyn.moore@gabe.info', 'evangeline_kuvalis@santina.ca', 'orland@larry.name', 'micaela.powlowski@saul.me', 'imelda_klein@melany.biz', 'matt.moen@gilda.org', 'rocky_ullrich@rowena.name', 'natalia@caitlyn.ca', 'edythe@general.org', 'aglae@gerardo.name', 'bridie@pearl.ca', 'aglae_goldner@madisyn.co.uk', 'owen_moore@jeremy.org', 'jarred@dangelo.name', 'remington_mohr@vincenza.me', 'marco.langworth@zoie.org', 'sedrick@mertie.tv', 'caleigh@eleanore.org', 'paolo@cristopher.com', 'juana_stamm@helmer.com', 'pascale@fleta.ca', 'molly_kertzmann@tristin.me', 'kailee.larkin@amina.org', 'earnest.sanford@lane.us', 'abigail@trudie.com', 'name.walter@zoie.me', 'norma@abraham.co.uk', 'norberto_weimann@ford.tv', 'nelson@charlene.biz', 'letha@liliane.ca', 'tiana@jeramie.tv', 'lindsey@caitlyn.net', 'gregory.kutch@shawn.info', 'murphy.kris@casimer.me', 'isidro_kiehn@cristina.org', 'kenton_carter@yolanda.co.uk', 'amos_rohan@mozelle.tv', 'timothy_heathcote@jose.name', 'otilia.daniel@elvie.io', 'toni@joesph.biz', 'brisa@carrie.us', 'jasen.kihn@devon.biz', 'efren.konopelski@madisyn.us', 'demetris.bergnaum@fae.io', 'luella.pollich@gloria.org', 'sister.morissette@adelia.io', 'shyanne@rick.info', 'freeman.dare@ada.name', 'donnell@orland.org', 'robin@gaylord.biz', 'danyka_stark@jedidiah.name', 'margarita@casper.io', 'carlo@cortney.net', 'mina@nikita.tv', 'violette@naomi.tv', 'lauren.hodkiewicz@jarret.info', 'ernestina@piper.biz', 'hettie_morar@wiley.info', 'corbin.hilll@modesto.biz', 'kenyatta@renee.io', 'don@cameron.co.uk', 'jovan@aaliyah.tv', 'jeanie.mcglynn@enoch.ca', 'garett_gusikowski@abigale.me', 'doug@alana.co.uk', 'yoshiko@viviane.name', 'micaela_bins@mertie.us', 'loy@gillian.me', 'tyrel@hunter.net', 'otilia.schuppe@randal.com', 'april@larissa.co.uk', 'glenna_waters@retha.me', 'cordelia.oberbrunner@peyton.com', 'zander@santino.net', 'camila_runolfsdottir@tressa.tv', 'kirstin@tina.info', 'anthony.koepp@savannah.tv', 'bradley.lang@marilyne.tv', 'loren@aric.biz', 'arjun@natalie.ca', 'solon.goldner@judah.org', 'nina@osbaldo.name', 'madaline@marlin.org', 'mike.kozey@gladyce.us', 'orval.treutel@arnold.me', 'trent@samir.net', 'ashleigh@annette.ca', 'douglas@anabel.org', 'lowell@mossie.com', 'jacquelyn@kristian.net', 'antwon@domenico.me', 'kenyon@retha.me', 'ben@elouise.net', 'madisen.hauck@barney.co.uk', 'dock.parker@roy.biz', 'pablo.ritchie@tyrique.co.uk', 'sebastian_gaylord@freda.org', 'lazaro@nadia.ca', 'jessy.boyle@vernice.biz', 'mitchel@hal.co.uk', 'lindsay@kiley.name', 'erika.murazik@jorge.me', 'olin@edmund.ca', 'lacey@novella.biz', 'sister@miller.net', 'raphaelle@miller.com', 'jaren.schiller@augusta.org', 'nikko_reynolds@harry.me', 'afton.medhurst@mina.info', 'wilson.nikolaus@fredrick.org', 'tomasa@lee.us', 'ally_kassulke@rashad.ca', 'reagan_ziemann@ross.io', 'angelita@sally.org', 'lonzo@lorena.org', 'alexandre@derrick.co.uk', 'judd@lucinda.ca', 'eleanora@karson.net', 'enrico_feil@liana.biz', 'beverly@perry.org', 'corene_mante@rory.com', 'emily_flatley@ephraim.name', 'donna@frederik.com', 'kyleigh@ruben.org', 'noemy.hammes@lisette.net', 'margarett_jenkins@harley.us', 'dexter.pacocha@lauren.biz', 'gennaro@jaunita.co.uk', 'jaycee@aimee.us', 'brennon@carmela.tv', 'vella.mayer@colten.net', 'caleb_dach@kathleen.us', 'patience_bahringer@dameon.biz', 'destinee.simonis@jose.tv', 'keshaun@brown.biz', 'merle.schultz@marcel.org', 'malvina_fay@louie.name', 'domenick_douglas@gabe.us', 'isaac@allene.net', 'marianna.pacocha@george.net', 'sister_barton@lela.com', 'autumn.lebsack@kasandra.ca', 'irma.okon@arden.me', 'alaina_hammes@carter.info', 'alia@addison.org', 'aurelie_mckenzie@providenci.biz', 'may_steuber@virgil.net', 'tessie@emilie.co.uk', 'priscilla@colten.org', 'aylin@abigale.me', 'holden@kenny.io', 'guillermo_dare@dorothea.tv', 'oscar@pearline.com', 'jonathon_feest@maxime.io', 'micah_wolf@lennie.co.uk', 'shany@daisha.biz', 'drew_lemke@alexis.net', 'karina.donnelly@liam.com', 'ahmed_runolfsson@claire.name', 'marilou_halvorson@kane.io', 'bernie.schoen@seamus.co.uk', 'joesph@darryl.net', 'timmothy.corwin@augustus.co.uk', 'julien_ohara@vance.io', 'susan.bartell@euna.org', 'selena.quigley@johan.co.uk', 'clifton_boehm@jacynthe.io', 'lizzie_bartell@diamond.net', 'yasmeen@golda.ca', 'adolf.russel@clark.ca', 'elian@matilda.me', 'salma@francis.net', 'orlando_dickinson@vern.org', 'elda@orval.name', 'dennis@karley.net', 'jedediah@mason.io', 'maryam@jack.name', 'rick@carlos.tv', 'vallie@jerrod.net', 'adolph.hayes@isobel.biz', 'duane_dach@demario.us', 'general@schuyler.org', 'stephania_stanton@demond.biz', 'reinhold.schiller@kelly.info', 'royce@jaiden.co.uk', 'cassie@diana.org', 'jena.okeefe@adonis.net', 'magdalen@holly.io', 'nyah@otho.com', 'kara_stokes@connie.co.uk', 'conner@daron.info', 'nathanael@jada.org', 'nicklaus@talon.io', 'jerald@laura.io', 'jamey_dare@johnny.org', 'brant@yasmin.co.uk', 'adrianna_howell@molly.io', 'amiya.morar@emma.tv', 'destany@bailey.info', 'katarina.wolff@joel.io', 'pearline@veda.ca', 'belle.braun@otis.name', 'eliane@libby.net', 'trey.harber@christop.biz', 'kailyn@ivory.info', 'amely.kunde@rodrigo.co.uk', 'thaddeus.halvorson@ruthe.ca', 'hannah@emma.ca', 'maryam.mann@thelma.info', 'michel@keira.us', 'domenick@russell.ca', 'chanelle@samson.me', 'hermann.kunde@rosina.us', 'olen@bryce.net', 'lorenza.carter@consuelo.ca', 'lamont@georgiana.biz', 'colin_gutkowski@muriel.net', 'albert@johnny.biz', 'hilma.kutch@ottilie.info', 'donnie@alfreda.biz', 'maxwell@adeline.me', 'amina@emmet.org', 'gilda@jacques.org', 'kadin@walter.io', 'alice_considine@daren.com', 'zola@lizzie.com', 'dolly@mandy.co.uk', 'davion@eldora.net', 'wilburn_labadie@araceli.name', 'emma@joanny.ca']\n",
            "500\n"
          ]
        }
      ]
    },
    {
      "cell_type": "code",
      "source": [
        "unique_emails = set(emails)\n",
        "print(unique_emails)\n",
        "print(type(unique_emails))\n",
        "print(len(unique_emails))"
      ],
      "metadata": {
        "colab": {
          "base_uri": "https://localhost:8080/"
        },
        "id": "Ju654rWPPmyy",
        "outputId": "fe6ec744-d8d2-49a4-8ffa-9f92507b76eb"
      },
      "execution_count": 29,
      "outputs": [
        {
          "output_type": "stream",
          "name": "stdout",
          "text": [
            "{'eldora@madge.com', 'laverna@rico.biz', 'corene_mante@rory.com', 'colin_gutkowski@muriel.net', 'gussie_kunde@sharon.biz', 'lindsey@caitlyn.net', 'dennis@karley.net', 'selena.quigley@johan.co.uk', 'jennifer@shania.ca', 'holden@kenny.io', 'natalia@caitlyn.ca', 'salma@francis.net', 'loy@gillian.me', 'brennon@carmela.tv', 'lindsay@kiley.name', 'bradley.lang@marilyne.tv', 'imelda_klein@melany.biz', 'tillman_koelpin@luisa.com', 'bonita@karl.biz', 'cicero_goldner@elenor.tv', 'trey.harber@christop.biz', 'gideon@amina.name', 'olin@edmund.ca', 'olen@bryce.net', 'shemar@ewell.name', 'carmen_keeling@caroline.name', 'yoshiko@viviane.name', 'jamey_dare@johnny.org', 'vince_crist@heidi.biz', 'americo@estrella.net', 'marco@jennyfer.biz', 'pablo.ritchie@tyrique.co.uk', 'nathanael@jada.org', 'gennaro@jaunita.co.uk', 'jeremy.harann@waino.me', 'robin_jacobi@verdie.net', 'alva@cassandre.net', 'juana_stamm@helmer.com', 'micah_wolf@lennie.co.uk', 'nyah@otho.com', 'jeffery@juwan.us', 'madonna@will.com', 'esther@ford.me', 'mariana_orn@preston.org', 'domenic.wuckert@jazmyne.us', 'evangeline@chad.net', 'khalil_sawayn@tanya.net', 'nelson@charlene.biz', 'rebecca_hessel@edna.net', 'susan.bartell@euna.org', 'cassie@diana.org', 'amir@kaitlyn.org', 'jacquelyn@kristian.net', 'micaela_bins@mertie.us', 'alexandre@derrick.co.uk', 'albert@johnny.biz', 'mina@nikita.tv', 'samara@shaun.org', 'shany@daisha.biz', 'raheem_heaney@gretchen.biz', 'remington_mohr@vincenza.me', 'desmond_graham@kailee.biz', 'lottie_wyman@jasen.biz', 'irma.okon@arden.me', 'jacky@victoria.net', 'joseph@corrine.com', 'davion@eldora.net', 'clare.aufderhar@nicole.ca', 'jasen_rempel@willis.org', 'jennifer.rowe@zoe.org', 'lizzie_bartell@diamond.net', 'kadin@walter.io', 'dock.parker@roy.biz', 'kayla@susanna.org', 'harmony@reggie.com', 'madisen.hauck@barney.co.uk', 'judd@lucinda.ca', 'kenyon@retha.me', 'adrianna_howell@molly.io', 'destany@bailey.info', 'margarett_klein@mike.biz', 'macey@abbie.org', 'camila_runolfsdottir@tressa.tv', 'kenton_vandervort@friedrich.com', 'oswald.vandervort@leanne.org', 'lauren.hodkiewicz@jarret.info', 'emerald_murazik@darrell.biz', 'ramiro_kuhn@harmon.biz', 'ferne_bogan@angus.info', 'don@cameron.co.uk', 'conner@daron.info', 'camryn.weimann@doris.io', 'estel@newton.ca', 'magdalen@holly.io', 'dexter.pacocha@lauren.biz', 'wyman.swaniawski@marjorie.name', 'eleanora@karson.net', 'taya@milan.biz', 'kelton_mckenzie@danial.us', 'sophia@arianna.co.uk', 'timmothy_okuneva@alyce.tv', 'lizeth@kellen.org', 'amya@durward.ca', 'juston.ruecker@scot.tv', 'maureen_mueller@lance.us', 'lonzo@lorena.org', 'mallory_kunze@marie.org', 'grover_volkman@coty.tv', 'robin@gaylord.biz', 'mitchel.williamson@fletcher.io', 'glenna@caesar.org', 'leone_fay@orrin.com', 'lee@dawn.net', 'margarita@casper.io', 'antwan@lori.ca', 'christine@ayana.info', 'cassidy@maribel.io', 'priscilla@colten.org', 'gaylord@russell.net', 'meghan@akeem.tv', 'kailee.larkin@amina.org', 'pearlie.kling@sandy.com', 'efren.konopelski@madisyn.us', 'jerald@laura.io', 'jaeden.towne@arlene.tv', 'hildegard@alford.ca', 'khalil@emile.co.uk', 'derek@hildegard.net', 'nicholaus@mikayla.ca', 'matteo@marquis.net', 'jessika@crystel.ca', 'mathias@richmond.info', 'danika.dicki@mekhi.biz', 'stephania_stanton@demond.biz', 'lenora@derrick.biz', 'providenci.heller@lenna.info', 'aniyah.ortiz@monte.me', 'micaela.powlowski@saul.me', 'telly_lynch@karl.co.uk', 'tyrel@hunter.net', 'gilda@jacques.org', 'jaylan.mayert@norbert.biz', 'naomie_cronin@rick.co.uk', 'annabelle@cole.com', 'jeanie.mcglynn@enoch.ca', 'tiana@jeramie.tv', 'kyleigh@ruben.org', 'marco.langworth@zoie.org', 'jovanny@abigale.ca', 'abigail@trudie.com', 'noemy.hammes@lisette.net', 'aglae@gerardo.name', 'kirstin@tina.info', 'joesph@matteo.info', 'sebastian_gaylord@freda.org', 'jayne_kuhic@sydney.com', 'ethyl_bogan@candace.co.uk', 'lazaro@nadia.ca', 'keshaun@brown.biz', 'guillermo_dare@dorothea.tv', 'alaina_hammes@carter.info', 'torrey@june.tv', 'owen_moore@jeremy.org', 'timmothy.corwin@augustus.co.uk', 'rocky_ullrich@rowena.name', 'lurline@marvin.biz', 'joshua.spinka@toby.io', 'meghan_littel@rene.us', 'amiya.morar@emma.tv', 'marilou_halvorson@kane.io', 'ashlee_jast@emie.biz', 'malvina_fay@louie.name', 'earnest.sanford@lane.us', 'joesph@darryl.net', 'piper@linwood.us', 'royce@jaiden.co.uk', 'presley.mueller@myrl.com', 'noemie@marques.me', 'devan.nader@ettie.me', 'kenyatta@renee.io', 'ahmed_runolfsson@claire.name', 'litzy@kaylie.io', 'solon.goldner@judah.org', 'hildegard.aufderhar@howard.com', 'mitchel@hal.co.uk', 'rosanna_kunze@guy.net', 'ivah@brianne.net', 'adolf.russel@clark.ca', 'christiana@lawrence.info', 'kacey@jamal.info', 'darryl@reginald.us', 'laverne_price@scotty.info', 'roma_doyle@alia.com', 'yasmin.prohaska@hanna.co.uk', 'ettie_bashirian@lambert.biz', 'thaddeus.halvorson@ruthe.ca', 'eriberto@geovany.ca', 'cesar_volkman@letitia.biz', 'donna@frederik.com', 'jarred@dangelo.name', 'garett_gusikowski@abigale.me', 'sister_barton@lela.com', 'ottis@lourdes.org', 'janelle_guann@americo.info', 'general@schuyler.org', 'elian@matilda.me', 'mike.kozey@gladyce.us', 'mollie@agustina.name', 'angelita@sally.org', 'edythe@general.org', 'madelynn.gorczany@darion.biz', 'pascale@fleta.ca', 'demetris.bergnaum@fae.io', 'kiana_predovic@yasmin.io', 'lemuel@willow.name', 'amely.kunde@rodrigo.co.uk', 'carlee_heathcote@harley.tv', 'estelle@valentina.info', 'milan.schoen@cortney.io', 'melody@london.name', 'wendell.marvin@maegan.net', 'loren@aric.biz', 'aleen@tania.biz', 'enrico_feil@liana.biz', 'erika.murazik@jorge.me', 'ally_kassulke@rashad.ca', 'vladimir_schumm@sharon.tv', 'julien_ohara@vance.io', 'joana.schoen@leora.co.uk', 'georgianna@florence.io', 'lura@rod.tv', 'vella.mayer@colten.net', 'donnell@polly.net', 'otilia.daniel@elvie.io', 'letha@liliane.ca', 'darron.nikolaus@eulah.me', 'preston_hudson@blaise.tv', 'ezra_abshire@lyda.us', 'sven@gudrun.info', 'glenna_waters@retha.me', 'vesta_crooks@dora.us', 'newton.kertzmann@anjali.io', 'alia@addison.org', 'benton@jayde.tv', 'vivianne@ima.us', 'norma@abraham.co.uk', 'alfonzo.barton@kelley.co.uk', 'francesco.gleason@nella.us', 'kailyn@ivory.info', 'sandy.erdman@sabina.info', 'clifton_boehm@jacynthe.io', 'freeda.kirlin@eddie.ca', 'lavinia@lafayette.me', 'brisa@carrie.us', 'katarina.wolff@joel.io', 'vallie@jerrod.net', 'marianna_wilkinson@rupert.io', 'christop_friesen@jordan.me', 'raphaelle@miller.com', 'ethelyn.moore@gabe.info', 'vincenza_klocko@albertha.name', 'merle.schultz@marcel.org', 'kara_stokes@connie.co.uk', 'tessie@emilie.co.uk', 'alexie@alayna.org', 'gerda.reynolds@ceasar.co.uk', 'frank@rosalind.name', 'jayde@geovanny.io', 'pearline@veda.ca', 'felton_huel@terrell.biz', 'dallas@ole.me', 'kariane@jadyn.tv', 'cordelia.oberbrunner@peyton.com', 'marianne@maximo.us', 'javier.dicki@damien.org', 'lorenza.carter@consuelo.ca', 'maxwell@adeline.me', 'jennings_pouros@erica.biz', 'manuela_stehr@chelsie.tv', 'stefan.crist@duane.ca', 'anthony.koepp@savannah.tv', 'domenick@russell.ca', 'bertha@erik.co.uk', 'afton.medhurst@mina.info', 'alena@deron.name', 'toni@joesph.biz', 'hudson.blick@ruben.biz', 'sage_mueller@candace.net', 'esther_ratke@shayna.biz', 'adolph.ondricka@mozell.co.uk', 'janick@marty.me', 'reagan_ziemann@ross.io', 'isidro_kiehn@cristina.org', 'elda@orval.name', 'carolina.auer@polly.co.uk', 'gabrielle@jada.co.uk', 'hoyt_dickens@napoleon.ca', 'megane.fritsch@claude.name', 'lester@chauncey.ca', 'laurie@lincoln.us', 'doug@alana.co.uk', 'jaycee@aimee.us', 'madaline@marlin.org', 'zola@lizzie.com', 'hermann.kunde@rosina.us', 'belle.braun@otis.name', 'gregory.kutch@shawn.info', 'jena.okeefe@adonis.net', 'tyrell@abdullah.ca', 'nikko_reynolds@harry.me', 'haven_barrows@brant.org', 'sedrick@mertie.tv', 'jonathon_feest@maxime.io', 'ayden_hickle@stephany.tv', 'sabrina.marks@savanah.name', 'ethelyn.schneider@emelia.co.uk', 'jaren.schiller@augusta.org', 'jacquelyn@krista.info', 'thea@aurelio.org', 'matt.moen@gilda.org', 'nicklaus@talon.io', 'aglae_goldner@madisyn.co.uk', 'reinhold.schiller@kelly.info', 'domenick_douglas@gabe.us', 'domenic.durgan@joaquin.name', 'tom.russel@pattie.org', 'kenton_carter@yolanda.co.uk', 'nichole_bartoletti@mozell.me', 'beverly@perry.org', 'carlo@cortney.net', 'may_steuber@virgil.net', 'jovan@aaliyah.tv', 'timothy_heathcote@jose.name', 'nathan@solon.io', 'winona_price@jevon.me', 'maria@laurel.name', 'alexzander_davis@eduardo.name', 'fanny@danial.com', 'name.walter@zoie.me', 'duane_dach@demario.us', 'orlando_dickinson@vern.org', 'jameson@tony.info', 'rick@carlos.tv', 'maynard.hodkiewicz@roberta.com', 'april@larissa.co.uk', 'blake_spinka@robyn.info', 'tia@kirsten.info', 'deborah@fletcher.co.uk', 'lawson@demarco.co.uk', 'eliane@libby.net', 'carissa.krajcik@jean.name', 'alphonso_rosenbaum@valentin.co.uk', 'alexandro@garry.io', 'dashawn@garry.com', 'wilburn_labadie@araceli.name', 'marianna.pacocha@george.net', 'lew@alysha.tv', 'sister.morissette@adelia.io', 'lowell@mossie.com', 'lacey@novella.biz', 'bernie.schoen@seamus.co.uk', 'douglas@anabel.org', 'cooper_boehm@damian.biz', 'wilson.nikolaus@fredrick.org', 'eloy@vladimir.com', 'jessy.boyle@vernice.biz', 'amy@reymundo.org', 'emma@joanny.ca', 'tatum_marks@jaylon.name', 'lucio@gladys.tv', 'jacquelyn_kutch@kaya.co.uk', 'caleb_dach@kathleen.us', 'orland@larry.name', 'emily_flatley@ephraim.name', 'cecelia_nitzsche@marty.com', 'molly_kertzmann@tristin.me', 'adolph.hayes@isobel.biz', 'virgie@layne.org', 'carolyn@eloisa.biz', 'amina@emmet.org', 'hettie_morar@wiley.info', 'aimee.bins@braeden.ca', 'bernie.bergnaum@lue.com', 'eliseo@gardner.biz', 'moriah_welch@richmond.org', 'donnell@orland.org', 'viola@aric.co.uk', 'angelita@aliza.me', 'gideon.hyatt@jalen.tv', 'shea@angelina.biz', 'ronny@rosina.org', 'makenzie@libbie.io', 'freida@brandt.tv', 'danyka_stark@jedidiah.name', 'gabriel@oceane.biz', 'paolo@cristopher.com', 'michel@keira.us', 'aylin@abigale.me', 'ernestina@piper.biz', 'wilbert@cheyenne.ca', 'cheyanne.schowalter@alycia.biz', 'faustino.keeling@morris.co.uk', 'ardella@khalid.biz', 'aurelio.pfeffer@griffin.ca', 'vivienne@willis.org', 'hayden_olson@marianna.me', 'norberto_weimann@ford.tv', 'destinee.simonis@jose.tv', 'abigail.oconnell@june.org', 'evangeline_kuvalis@santina.ca', 'karina.donnelly@liam.com', 'catharine@jordyn.com', 'allen@richard.biz', 'isac_schmeler@barton.com', 'omari@veronica.us', 'veronica_goodwin@timmothy.net', 'otilia.schuppe@randal.com', 'russel.parker@kameron.io', 'luella.pollich@gloria.org', 'drew_lemke@alexis.net', 'jedediah@mason.io', 'dario@barton.info', 'richard@chelsie.co.uk', 'maryam.mann@thelma.info', 'dolly@mandy.co.uk', 'delta_welch@carleton.tv', 'hayden@althea.biz', 'buford@shaylee.biz', 'margarett_jenkins@harley.us', 'marcia@name.biz', 'lamont@georgiana.biz', 'dominique_hermann@paige.ca', 'arjun@natalie.ca', 'tomasa@lee.us', 'jenifer_lowe@reuben.ca', 'jaycee.turner@euna.name', 'zander@santino.net', 'jasen.kihn@devon.biz', 'reyes@hailey.name', 'ursula.kirlin@eino.org', 'zella@jan.net', 'orval.treutel@arnold.me', 'rhett.okon@brian.info', 'trent@samir.net', 'lottie.zieme@ruben.us', 'cary@taurean.biz', 'delpha_cormier@raymond.org', 'nina@osbaldo.name', 'gage_turner@halle.name', 'bridie@pearl.ca', 'hilma.kutch@ottilie.info', 'violette@naomi.tv', 'alice_considine@daren.com', 'vickie_schuster@harley.net', 'sophie@antoinette.ca', 'ressie.boehm@flossie.com', 'emmet@guy.biz', 'donnie@alfreda.biz', 'cristina.damore@destini.biz', 'shyanne@rick.info', 'ashleigh@annette.ca', 'eugene@mohammed.net', 'yasmeen@golda.ca', 'cleve@royal.us', 'sabrina@raymond.biz', 'haylie@gino.name', 'freeman.dare@ada.name', 'antwon@domenico.me', 'murphy.kris@casimer.me', 'oscar@pearline.com', 'durward@cindy.com', 'maryam@jack.name', 'brant@yasmin.co.uk', 'chanelle@samson.me', 'caleigh@eleanore.org', 'mina@mallie.name', 'hannah@emma.ca', 'amiya@perry.us', 'lowell.pagac@omari.biz', 'ben@elouise.net', 'autumn.lebsack@kasandra.ca', 'isaias_kuhic@jarrett.net', 'nikita@garfield.biz', 'corbin.hilll@modesto.biz', 'itzel@fritz.io', 'alfred@sadye.biz', 'janice@alda.io', 'sister@miller.net', 'trevion_kuphal@bernice.name', 'patience_bahringer@dameon.biz', 'river.grady@lavada.biz', 'aurelie_mckenzie@providenci.biz', 'caleb_herzog@rosamond.net', 'jaylan.braun@lane.us', 'jackeline@eva.tv', 'amos_rohan@mozelle.tv', 'minerva.anderson@devonte.ca', 'claudia@emilia.ca', 'isaac@allene.net', 'alessandra.nitzsche@stephania.us'}\n",
            "<class 'set'>\n",
            "500\n"
          ]
        }
      ]
    }
  ]
}